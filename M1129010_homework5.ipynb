{
 "cells": [
  {
   "cell_type": "markdown",
   "id": "1e02b03d",
   "metadata": {},
   "source": [
    "# add with noise and with channels"
   ]
  },
  {
   "cell_type": "code",
   "execution_count": 2,
   "id": "0151332e",
   "metadata": {},
   "outputs": [],
   "source": [
    "from tensorflow.keras.datasets import mnist\n",
    "import numpy as np\n",
    "\n",
    "(train_images, train_labels), _ = mnist.load_data()\n",
    "train_images = train_images.reshape((60000, 28 * 28))\n",
    "train_images = train_images.astype(\"float32\") / 255\n",
    "\n",
    "train_images_with_noise_channels = np.concatenate(\n",
    "    [train_images, np.random.random((len(train_images), 784))], axis=1)\n",
    "\n",
    "train_images_with_zeros_channels = np.concatenate(\n",
    "    [train_images, np.zeros((len(train_images), 784))], axis=1)"
   ]
  },
  {
   "cell_type": "markdown",
   "id": "327452ad",
   "metadata": {},
   "source": [
    "# training"
   ]
  },
  {
   "cell_type": "code",
   "execution_count": 3,
   "id": "f5e7029b",
   "metadata": {},
   "outputs": [
    {
     "name": "stdout",
     "output_type": "stream",
     "text": [
      "Epoch 1/10\n",
      "375/375 [==============================] - 11s 24ms/step - loss: 0.5993 - accuracy: 0.8149 - val_loss: 0.2497 - val_accuracy: 0.9258\n",
      "Epoch 2/10\n",
      "375/375 [==============================] - 8s 22ms/step - loss: 0.2503 - accuracy: 0.9215 - val_loss: 0.2810 - val_accuracy: 0.9100\n",
      "Epoch 3/10\n",
      "375/375 [==============================] - 8s 22ms/step - loss: 0.1642 - accuracy: 0.9488 - val_loss: 0.1631 - val_accuracy: 0.9489\n",
      "Epoch 4/10\n",
      "375/375 [==============================] - 8s 21ms/step - loss: 0.1143 - accuracy: 0.9643 - val_loss: 0.1621 - val_accuracy: 0.9517\n",
      "Epoch 5/10\n",
      "375/375 [==============================] - 9s 23ms/step - loss: 0.0848 - accuracy: 0.9729 - val_loss: 0.1475 - val_accuracy: 0.9568\n",
      "Epoch 6/10\n",
      "375/375 [==============================] - 8s 22ms/step - loss: 0.0622 - accuracy: 0.9800 - val_loss: 0.1421 - val_accuracy: 0.9612\n",
      "Epoch 7/10\n",
      "375/375 [==============================] - 8s 21ms/step - loss: 0.0482 - accuracy: 0.9844 - val_loss: 0.1228 - val_accuracy: 0.9672\n",
      "Epoch 8/10\n",
      "375/375 [==============================] - 8s 21ms/step - loss: 0.0347 - accuracy: 0.9888 - val_loss: 0.2480 - val_accuracy: 0.9350\n",
      "Epoch 9/10\n",
      "375/375 [==============================] - 9s 23ms/step - loss: 0.0268 - accuracy: 0.9916 - val_loss: 0.1378 - val_accuracy: 0.9685\n",
      "Epoch 10/10\n",
      "375/375 [==============================] - 8s 21ms/step - loss: 0.0204 - accuracy: 0.9935 - val_loss: 0.1308 - val_accuracy: 0.9700\n",
      "Epoch 1/10\n",
      "375/375 [==============================] - 10s 23ms/step - loss: 0.2857 - accuracy: 0.9174 - val_loss: 0.1450 - val_accuracy: 0.9583\n",
      "Epoch 2/10\n",
      "375/375 [==============================] - 9s 24ms/step - loss: 0.1196 - accuracy: 0.9646 - val_loss: 0.1003 - val_accuracy: 0.9696\n",
      "Epoch 3/10\n",
      "375/375 [==============================] - 8s 22ms/step - loss: 0.0779 - accuracy: 0.9764 - val_loss: 0.0916 - val_accuracy: 0.9716\n",
      "Epoch 4/10\n",
      "375/375 [==============================] - 9s 23ms/step - loss: 0.0555 - accuracy: 0.9835 - val_loss: 0.0926 - val_accuracy: 0.9722\n",
      "Epoch 5/10\n",
      "375/375 [==============================] - 8s 22ms/step - loss: 0.0419 - accuracy: 0.9875 - val_loss: 0.0808 - val_accuracy: 0.9768\n",
      "Epoch 6/10\n",
      "375/375 [==============================] - 9s 24ms/step - loss: 0.0315 - accuracy: 0.9907 - val_loss: 0.0866 - val_accuracy: 0.9754\n",
      "Epoch 7/10\n",
      "375/375 [==============================] - 9s 23ms/step - loss: 0.0237 - accuracy: 0.9929 - val_loss: 0.0849 - val_accuracy: 0.9787\n",
      "Epoch 8/10\n",
      "375/375 [==============================] - 9s 23ms/step - loss: 0.0175 - accuracy: 0.9949 - val_loss: 0.0844 - val_accuracy: 0.9788\n",
      "Epoch 9/10\n",
      "375/375 [==============================] - 8s 23ms/step - loss: 0.0145 - accuracy: 0.9957 - val_loss: 0.0913 - val_accuracy: 0.9767\n",
      "Epoch 10/10\n",
      "375/375 [==============================] - 9s 23ms/step - loss: 0.0105 - accuracy: 0.9970 - val_loss: 0.0894 - val_accuracy: 0.9801\n"
     ]
    }
   ],
   "source": [
    "from tensorflow import keras\n",
    "from tensorflow.keras import layers\n",
    "\n",
    "def get_model():\n",
    "    model = keras.Sequential([\n",
    "        layers.Dense(512, activation=\"relu\"),\n",
    "        layers.Dense(10, activation=\"softmax\")\n",
    "    ])\n",
    "    model.compile(optimizer=\"rmsprop\",\n",
    "                  loss=\"sparse_categorical_crossentropy\",\n",
    "                  metrics=[\"accuracy\"])\n",
    "    return model\n",
    "\n",
    "model = get_model()\n",
    "history_noise = model.fit(\n",
    "    train_images_with_noise_channels, train_labels,\n",
    "    epochs=10,\n",
    "    batch_size=128,\n",
    "    validation_split=0.2)\n",
    "\n",
    "model = get_model()\n",
    "history_zeros = model.fit(\n",
    "    train_images_with_zeros_channels, train_labels,\n",
    "    epochs=10,\n",
    "    batch_size=128,\n",
    "    validation_split=0.2)"
   ]
  },
  {
   "cell_type": "markdown",
   "id": "897a277a",
   "metadata": {},
   "source": [
    "# plot the accuracy"
   ]
  },
  {
   "cell_type": "code",
   "execution_count": 4,
   "id": "ff89418a",
   "metadata": {},
   "outputs": [
    {
     "data": {
      "text/plain": [
       "<matplotlib.legend.Legend at 0x27bab4f6be0>"
      ]
     },
     "execution_count": 4,
     "metadata": {},
     "output_type": "execute_result"
    },
    {
     "data": {
      "image/png": "[encoded data removed]",
      "text/plain": [
       "<Figure size 432x288 with 1 Axes>"
      ]
     },
     "metadata": {
      "needs_background": "light"
     },
     "output_type": "display_data"
    }
   ],
   "source": [
    "import matplotlib.pyplot as plt\n",
    "val_acc_noise = history_noise.history[\"val_accuracy\"]\n",
    "val_acc_zeros = history_zeros.history[\"val_accuracy\"]\n",
    "epochs = range(1, 11)\n",
    "plt.plot(epochs, val_acc_noise, \"b-\",\n",
    "         label=\"Validation accuracy with noise channels\")\n",
    "plt.plot(epochs, val_acc_zeros, \"b--\",\n",
    "         label=\"Validation accuracy with zeros channels\")\n",
    "plt.title(\"Effect of noise channels on validation accuracy\")\n",
    "plt.xlabel(\"Epochs\")\n",
    "plt.ylabel(\"Accuracy\")\n",
    "plt.legend()"
   ]
  },
  {
   "cell_type": "markdown",
   "id": "d5fd7bea",
   "metadata": {},
   "source": [
    "# fitting the model with randomly shuffled labels"
   ]
  },
  {
   "cell_type": "code",
   "execution_count": 5,
   "id": "75cfd71c",
   "metadata": {},
   "outputs": [
    {
     "name": "stdout",
     "output_type": "stream",
     "text": [
      "Epoch 1/100\n",
      "375/375 [==============================] - 7s 15ms/step - loss: 2.3169 - accuracy: 0.1054 - val_loss: 2.3060 - val_accuracy: 0.1072\n",
      "Epoch 2/100\n",
      "375/375 [==============================] - 5s 14ms/step - loss: 2.3001 - accuracy: 0.1180 - val_loss: 2.3151 - val_accuracy: 0.1033\n",
      "Epoch 3/100\n",
      "375/375 [==============================] - 5s 14ms/step - loss: 2.2895 - accuracy: 0.1284 - val_loss: 2.3210 - val_accuracy: 0.0993\n",
      "Epoch 4/100\n",
      "375/375 [==============================] - 6s 15ms/step - loss: 2.2760 - accuracy: 0.1406 - val_loss: 2.3295 - val_accuracy: 0.1052\n",
      "Epoch 5/100\n",
      "375/375 [==============================] - 5s 14ms/step - loss: 2.2579 - accuracy: 0.1554 - val_loss: 2.3395 - val_accuracy: 0.1013\n",
      "Epoch 6/100\n",
      "375/375 [==============================] - 6s 15ms/step - loss: 2.2374 - accuracy: 0.1678 - val_loss: 2.3500 - val_accuracy: 0.0999\n",
      "Epoch 7/100\n",
      "375/375 [==============================] - 5s 14ms/step - loss: 2.2138 - accuracy: 0.1824 - val_loss: 2.3698 - val_accuracy: 0.0992\n",
      "Epoch 8/100\n",
      "375/375 [==============================] - 6s 15ms/step - loss: 2.1859 - accuracy: 0.1979 - val_loss: 2.3936 - val_accuracy: 0.0999\n",
      "Epoch 9/100\n",
      "375/375 [==============================] - 5s 14ms/step - loss: 2.1578 - accuracy: 0.2153 - val_loss: 2.4066 - val_accuracy: 0.1036\n",
      "Epoch 10/100\n",
      "375/375 [==============================] - 5s 14ms/step - loss: 2.1254 - accuracy: 0.2304 - val_loss: 2.4269 - val_accuracy: 0.1010\n",
      "Epoch 11/100\n",
      "375/375 [==============================] - 6s 15ms/step - loss: 2.0940 - accuracy: 0.2480 - val_loss: 2.4518 - val_accuracy: 0.0980\n",
      "Epoch 12/100\n",
      "375/375 [==============================] - 6s 16ms/step - loss: 2.0604 - accuracy: 0.2618 - val_loss: 2.4795 - val_accuracy: 0.0971\n",
      "Epoch 13/100\n",
      "375/375 [==============================] - 5s 15ms/step - loss: 2.0266 - accuracy: 0.2778 - val_loss: 2.5062 - val_accuracy: 0.0979\n",
      "Epoch 14/100\n",
      "375/375 [==============================] - 6s 15ms/step - loss: 1.9918 - accuracy: 0.2884 - val_loss: 2.5359 - val_accuracy: 0.0986\n",
      "Epoch 15/100\n",
      "375/375 [==============================] - 5s 14ms/step - loss: 1.9568 - accuracy: 0.3064 - val_loss: 2.5563 - val_accuracy: 0.0985\n",
      "Epoch 16/100\n",
      "375/375 [==============================] - 5s 14ms/step - loss: 1.9210 - accuracy: 0.3222 - val_loss: 2.6058 - val_accuracy: 0.0966\n",
      "Epoch 17/100\n",
      "375/375 [==============================] - 5s 14ms/step - loss: 1.8883 - accuracy: 0.3353 - val_loss: 2.6240 - val_accuracy: 0.1011\n",
      "Epoch 18/100\n",
      "375/375 [==============================] - 5s 14ms/step - loss: 1.8550 - accuracy: 0.3475 - val_loss: 2.6594 - val_accuracy: 0.1013\n",
      "Epoch 19/100\n",
      "375/375 [==============================] - 5s 15ms/step - loss: 1.8217 - accuracy: 0.3625 - val_loss: 2.7048 - val_accuracy: 0.0990\n",
      "Epoch 20/100\n",
      "375/375 [==============================] - 5s 14ms/step - loss: 1.7882 - accuracy: 0.3758 - val_loss: 2.7369 - val_accuracy: 0.1004\n",
      "Epoch 21/100\n",
      "375/375 [==============================] - 6s 15ms/step - loss: 1.7559 - accuracy: 0.3875 - val_loss: 2.7762 - val_accuracy: 0.0985\n",
      "Epoch 22/100\n",
      "375/375 [==============================] - 6s 16ms/step - loss: 1.7247 - accuracy: 0.3998 - val_loss: 2.8255 - val_accuracy: 0.0994\n",
      "Epoch 23/100\n",
      "375/375 [==============================] - 6s 15ms/step - loss: 1.6941 - accuracy: 0.4105 - val_loss: 2.8660 - val_accuracy: 0.0988\n",
      "Epoch 24/100\n",
      "375/375 [==============================] - 6s 15ms/step - loss: 1.6656 - accuracy: 0.4219 - val_loss: 2.8922 - val_accuracy: 0.0967\n",
      "Epoch 25/100\n",
      "375/375 [==============================] - 5s 14ms/step - loss: 1.6330 - accuracy: 0.4349 - val_loss: 2.9435 - val_accuracy: 0.1002\n",
      "Epoch 26/100\n",
      "375/375 [==============================] - 5s 14ms/step - loss: 1.6050 - accuracy: 0.4440 - val_loss: 2.9959 - val_accuracy: 0.0990\n",
      "Epoch 27/100\n",
      "375/375 [==============================] - 6s 15ms/step - loss: 1.5779 - accuracy: 0.4554 - val_loss: 3.0272 - val_accuracy: 0.1003\n",
      "Epoch 28/100\n",
      "375/375 [==============================] - 5s 14ms/step - loss: 1.5495 - accuracy: 0.4662 - val_loss: 3.0587 - val_accuracy: 0.1013\n",
      "Epoch 29/100\n",
      "375/375 [==============================] - 5s 14ms/step - loss: 1.5212 - accuracy: 0.4764 - val_loss: 3.1116 - val_accuracy: 0.1017\n",
      "Epoch 30/100\n",
      "375/375 [==============================] - 6s 15ms/step - loss: 1.4962 - accuracy: 0.4875 - val_loss: 3.1572 - val_accuracy: 0.1023\n",
      "Epoch 31/100\n",
      "375/375 [==============================] - 5s 14ms/step - loss: 1.4692 - accuracy: 0.4973 - val_loss: 3.2286 - val_accuracy: 0.1021\n",
      "Epoch 32/100\n",
      "375/375 [==============================] - 6s 15ms/step - loss: 1.4432 - accuracy: 0.5058 - val_loss: 3.2339 - val_accuracy: 0.1027\n",
      "Epoch 33/100\n",
      "375/375 [==============================] - 5s 14ms/step - loss: 1.4169 - accuracy: 0.5143 - val_loss: 3.2883 - val_accuracy: 0.0970\n",
      "Epoch 34/100\n",
      "375/375 [==============================] - 6s 15ms/step - loss: 1.3937 - accuracy: 0.5237 - val_loss: 3.3508 - val_accuracy: 0.0964\n",
      "Epoch 35/100\n",
      "375/375 [==============================] - 5s 14ms/step - loss: 1.3710 - accuracy: 0.5321 - val_loss: 3.3590 - val_accuracy: 0.0985\n",
      "Epoch 36/100\n",
      "375/375 [==============================] - 5s 14ms/step - loss: 1.3468 - accuracy: 0.5424 - val_loss: 3.4260 - val_accuracy: 0.0964\n",
      "Epoch 37/100\n",
      "375/375 [==============================] - 5s 14ms/step - loss: 1.3251 - accuracy: 0.5504 - val_loss: 3.4891 - val_accuracy: 0.1041\n",
      "Epoch 38/100\n",
      "375/375 [==============================] - 5s 14ms/step - loss: 1.3014 - accuracy: 0.5583 - val_loss: 3.5269 - val_accuracy: 0.0972\n",
      "Epoch 39/100\n",
      "375/375 [==============================] - 5s 14ms/step - loss: 1.2789 - accuracy: 0.5694 - val_loss: 3.5686 - val_accuracy: 0.0993\n",
      "Epoch 40/100\n",
      "375/375 [==============================] - 5s 14ms/step - loss: 1.2589 - accuracy: 0.5748 - val_loss: 3.6311 - val_accuracy: 0.0969\n",
      "Epoch 41/100\n",
      "375/375 [==============================] - 5s 14ms/step - loss: 1.2365 - accuracy: 0.5814 - val_loss: 3.7132 - val_accuracy: 0.0973\n",
      "Epoch 42/100\n",
      "375/375 [==============================] - 5s 15ms/step - loss: 1.2185 - accuracy: 0.5907 - val_loss: 3.7346 - val_accuracy: 0.1003\n",
      "Epoch 43/100\n",
      "375/375 [==============================] - 5s 14ms/step - loss: 1.1975 - accuracy: 0.5978 - val_loss: 3.8031 - val_accuracy: 0.0997\n",
      "Epoch 44/100\n",
      "375/375 [==============================] - 5s 14ms/step - loss: 1.1793 - accuracy: 0.6036 - val_loss: 3.8396 - val_accuracy: 0.1002\n",
      "Epoch 45/100\n",
      "375/375 [==============================] - 5s 14ms/step - loss: 1.1584 - accuracy: 0.6101 - val_loss: 3.8945 - val_accuracy: 0.0989\n",
      "Epoch 46/100\n",
      "375/375 [==============================] - 5s 15ms/step - loss: 1.1402 - accuracy: 0.6150 - val_loss: 3.9285 - val_accuracy: 0.0963\n",
      "Epoch 47/100\n",
      "375/375 [==============================] - 5s 14ms/step - loss: 1.1223 - accuracy: 0.6230 - val_loss: 4.0005 - val_accuracy: 0.1002\n",
      "Epoch 48/100\n",
      "375/375 [==============================] - 6s 15ms/step - loss: 1.1043 - accuracy: 0.6294 - val_loss: 4.0425 - val_accuracy: 0.0991\n",
      "Epoch 49/100\n",
      "375/375 [==============================] - 5s 14ms/step - loss: 1.0870 - accuracy: 0.6361 - val_loss: 4.0884 - val_accuracy: 0.0972\n",
      "Epoch 50/100\n",
      "375/375 [==============================] - 5s 15ms/step - loss: 1.0687 - accuracy: 0.6421 - val_loss: 4.1806 - val_accuracy: 0.0954\n",
      "Epoch 51/100\n",
      "375/375 [==============================] - 6s 15ms/step - loss: 1.0524 - accuracy: 0.6487 - val_loss: 4.2021 - val_accuracy: 0.0955\n",
      "Epoch 52/100\n",
      "375/375 [==============================] - 6s 15ms/step - loss: 1.0349 - accuracy: 0.6535 - val_loss: 4.2819 - val_accuracy: 0.0928\n",
      "Epoch 53/100\n",
      "375/375 [==============================] - 5s 14ms/step - loss: 1.0173 - accuracy: 0.6583 - val_loss: 4.3290 - val_accuracy: 0.0960\n",
      "Epoch 54/100\n",
      "375/375 [==============================] - 6s 15ms/step - loss: 1.0032 - accuracy: 0.6635 - val_loss: 4.3723 - val_accuracy: 0.0988\n",
      "Epoch 55/100\n",
      "375/375 [==============================] - 6s 15ms/step - loss: 0.9885 - accuracy: 0.6706 - val_loss: 4.4482 - val_accuracy: 0.0978\n",
      "Epoch 56/100\n",
      "375/375 [==============================] - 5s 14ms/step - loss: 0.9717 - accuracy: 0.6759 - val_loss: 4.5149 - val_accuracy: 0.0942\n",
      "Epoch 57/100\n"
     ]
    },
    {
     "name": "stdout",
     "output_type": "stream",
     "text": [
      "375/375 [==============================] - 5s 15ms/step - loss: 0.9553 - accuracy: 0.6811 - val_loss: 4.6017 - val_accuracy: 0.0948\n",
      "Epoch 58/100\n",
      "375/375 [==============================] - 6s 15ms/step - loss: 0.9420 - accuracy: 0.6864 - val_loss: 4.6378 - val_accuracy: 0.0965\n",
      "Epoch 59/100\n",
      "375/375 [==============================] - 6s 15ms/step - loss: 0.9271 - accuracy: 0.6916 - val_loss: 4.6908 - val_accuracy: 0.0978\n",
      "Epoch 60/100\n",
      "375/375 [==============================] - 5s 14ms/step - loss: 0.9115 - accuracy: 0.6988 - val_loss: 4.7479 - val_accuracy: 0.0939\n",
      "Epoch 61/100\n",
      "375/375 [==============================] - 5s 15ms/step - loss: 0.8973 - accuracy: 0.7008 - val_loss: 4.8262 - val_accuracy: 0.0954\n",
      "Epoch 62/100\n",
      "375/375 [==============================] - 6s 15ms/step - loss: 0.8848 - accuracy: 0.7072 - val_loss: 4.8844 - val_accuracy: 0.0972\n",
      "Epoch 63/100\n",
      "375/375 [==============================] - 5s 14ms/step - loss: 0.8714 - accuracy: 0.7108 - val_loss: 4.9157 - val_accuracy: 0.0959\n",
      "Epoch 64/100\n",
      "375/375 [==============================] - 5s 14ms/step - loss: 0.8563 - accuracy: 0.7169 - val_loss: 4.9687 - val_accuracy: 0.0944\n",
      "Epoch 65/100\n",
      "375/375 [==============================] - 5s 14ms/step - loss: 0.8459 - accuracy: 0.7196 - val_loss: 5.0998 - val_accuracy: 0.0978\n",
      "Epoch 66/100\n",
      "375/375 [==============================] - 5s 14ms/step - loss: 0.8318 - accuracy: 0.7247 - val_loss: 5.1379 - val_accuracy: 0.0974\n",
      "Epoch 67/100\n",
      "375/375 [==============================] - 6s 15ms/step - loss: 0.8184 - accuracy: 0.7291 - val_loss: 5.1428 - val_accuracy: 0.0973\n",
      "Epoch 68/100\n",
      "375/375 [==============================] - 6s 15ms/step - loss: 0.8069 - accuracy: 0.7345 - val_loss: 5.2575 - val_accuracy: 0.0954\n",
      "Epoch 69/100\n",
      "375/375 [==============================] - 6s 15ms/step - loss: 0.7937 - accuracy: 0.7414 - val_loss: 5.3125 - val_accuracy: 0.0957\n",
      "Epoch 70/100\n",
      "375/375 [==============================] - 5s 14ms/step - loss: 0.7812 - accuracy: 0.7430 - val_loss: 5.3998 - val_accuracy: 0.0963\n",
      "Epoch 71/100\n",
      "375/375 [==============================] - 5s 14ms/step - loss: 0.7703 - accuracy: 0.7459 - val_loss: 5.5046 - val_accuracy: 0.0941\n",
      "Epoch 72/100\n",
      "375/375 [==============================] - 5s 14ms/step - loss: 0.7593 - accuracy: 0.7503 - val_loss: 5.5114 - val_accuracy: 0.0964\n",
      "Epoch 73/100\n",
      "375/375 [==============================] - 6s 15ms/step - loss: 0.7473 - accuracy: 0.7555 - val_loss: 5.5388 - val_accuracy: 0.0966\n",
      "Epoch 74/100\n",
      "375/375 [==============================] - 5s 15ms/step - loss: 0.7371 - accuracy: 0.7581 - val_loss: 5.6262 - val_accuracy: 0.0988\n",
      "Epoch 75/100\n",
      "375/375 [==============================] - 6s 15ms/step - loss: 0.7262 - accuracy: 0.7619 - val_loss: 5.7019 - val_accuracy: 0.0955\n",
      "Epoch 76/100\n",
      "375/375 [==============================] - 5s 14ms/step - loss: 0.7155 - accuracy: 0.7640 - val_loss: 5.7568 - val_accuracy: 0.0967\n",
      "Epoch 77/100\n",
      "375/375 [==============================] - 6s 15ms/step - loss: 0.7044 - accuracy: 0.7697 - val_loss: 5.8051 - val_accuracy: 0.0948\n",
      "Epoch 78/100\n",
      "375/375 [==============================] - 5s 14ms/step - loss: 0.6937 - accuracy: 0.7737 - val_loss: 5.8773 - val_accuracy: 0.0956\n",
      "Epoch 79/100\n",
      "375/375 [==============================] - 6s 16ms/step - loss: 0.6858 - accuracy: 0.7772 - val_loss: 5.9318 - val_accuracy: 0.0950\n",
      "Epoch 80/100\n",
      "375/375 [==============================] - 6s 15ms/step - loss: 0.6731 - accuracy: 0.7804 - val_loss: 6.0115 - val_accuracy: 0.0962\n",
      "Epoch 81/100\n",
      "375/375 [==============================] - 5s 14ms/step - loss: 0.6649 - accuracy: 0.7823 - val_loss: 6.0708 - val_accuracy: 0.0932\n",
      "Epoch 82/100\n",
      "375/375 [==============================] - 5s 14ms/step - loss: 0.6539 - accuracy: 0.7861 - val_loss: 6.1134 - val_accuracy: 0.1013\n",
      "Epoch 83/100\n",
      "375/375 [==============================] - 5s 14ms/step - loss: 0.6453 - accuracy: 0.7886 - val_loss: 6.1508 - val_accuracy: 0.0961\n",
      "Epoch 84/100\n",
      "375/375 [==============================] - 5s 14ms/step - loss: 0.6349 - accuracy: 0.7913 - val_loss: 6.2467 - val_accuracy: 0.0991\n",
      "Epoch 85/100\n",
      "375/375 [==============================] - 5s 14ms/step - loss: 0.6259 - accuracy: 0.7974 - val_loss: 6.3146 - val_accuracy: 0.1002\n",
      "Epoch 86/100\n",
      "375/375 [==============================] - 5s 15ms/step - loss: 0.6152 - accuracy: 0.7994 - val_loss: 6.4583 - val_accuracy: 0.0959\n",
      "Epoch 87/100\n",
      "375/375 [==============================] - 5s 14ms/step - loss: 0.6084 - accuracy: 0.8031 - val_loss: 6.4699 - val_accuracy: 0.0984\n",
      "Epoch 88/100\n",
      "375/375 [==============================] - 6s 15ms/step - loss: 0.5986 - accuracy: 0.8045 - val_loss: 6.5204 - val_accuracy: 0.0978\n",
      "Epoch 89/100\n",
      "375/375 [==============================] - 5s 14ms/step - loss: 0.5907 - accuracy: 0.8071 - val_loss: 6.6295 - val_accuracy: 0.0973\n",
      "Epoch 90/100\n",
      "375/375 [==============================] - 6s 15ms/step - loss: 0.5818 - accuracy: 0.8116 - val_loss: 6.7307 - val_accuracy: 0.0993\n",
      "Epoch 91/100\n",
      "375/375 [==============================] - 6s 15ms/step - loss: 0.5738 - accuracy: 0.8151 - val_loss: 6.7040 - val_accuracy: 0.0964\n",
      "Epoch 92/100\n",
      "375/375 [==============================] - 5s 14ms/step - loss: 0.5651 - accuracy: 0.8157 - val_loss: 6.7906 - val_accuracy: 0.0976\n",
      "Epoch 93/100\n",
      "375/375 [==============================] - 6s 15ms/step - loss: 0.5576 - accuracy: 0.8200 - val_loss: 6.8381 - val_accuracy: 0.0995\n",
      "Epoch 94/100\n",
      "375/375 [==============================] - 5s 14ms/step - loss: 0.5483 - accuracy: 0.8227 - val_loss: 6.9420 - val_accuracy: 0.0972\n",
      "Epoch 95/100\n",
      "375/375 [==============================] - 5s 14ms/step - loss: 0.5401 - accuracy: 0.8256 - val_loss: 7.0102 - val_accuracy: 0.0987\n",
      "Epoch 96/100\n",
      "375/375 [==============================] - 5s 15ms/step - loss: 0.5356 - accuracy: 0.8277 - val_loss: 7.0638 - val_accuracy: 0.0965\n",
      "Epoch 97/100\n",
      "375/375 [==============================] - 6s 15ms/step - loss: 0.5260 - accuracy: 0.8309 - val_loss: 7.1461 - val_accuracy: 0.0973\n",
      "Epoch 98/100\n",
      "375/375 [==============================] - 5s 14ms/step - loss: 0.5208 - accuracy: 0.8321 - val_loss: 7.2463 - val_accuracy: 0.0969\n",
      "Epoch 99/100\n",
      "375/375 [==============================] - 5s 14ms/step - loss: 0.5091 - accuracy: 0.8375 - val_loss: 7.2786 - val_accuracy: 0.0968\n",
      "Epoch 100/100\n",
      "375/375 [==============================] - 5s 14ms/step - loss: 0.5041 - accuracy: 0.8388 - val_loss: 7.3684 - val_accuracy: 0.1002\n"
     ]
    },
    {
     "data": {
      "text/plain": [
       "<keras.callbacks.History at 0x27b9bc549d0>"
      ]
     },
     "execution_count": 5,
     "metadata": {},
     "output_type": "execute_result"
    }
   ],
   "source": [
    "(train_images, train_labels), _ = mnist.load_data()\n",
    "train_images = train_images.reshape((60000, 28 * 28))\n",
    "train_images = train_images.astype(\"float32\") / 255\n",
    "\n",
    "random_train_labels = train_labels[:]\n",
    "np.random.shuffle(random_train_labels)\n",
    "\n",
    "model = keras.Sequential([\n",
    "    layers.Dense(512, activation=\"relu\"),\n",
    "    layers.Dense(10, activation=\"softmax\")\n",
    "])\n",
    "model.compile(optimizer=\"rmsprop\",\n",
    "              loss=\"sparse_categorical_crossentropy\",\n",
    "              metrics=[\"accuracy\"])\n",
    "model.fit(train_images, random_train_labels,\n",
    "          epochs=100,\n",
    "          batch_size=128,\n",
    "          validation_split=0.2)"
   ]
  },
  {
   "cell_type": "markdown",
   "id": "e92fc4cf",
   "metadata": {},
   "source": [
    "# improve the model fit\n",
    "## training with high learning rate"
   ]
  },
  {
   "cell_type": "code",
   "execution_count": 6,
   "id": "8eb766aa",
   "metadata": {},
   "outputs": [
    {
     "name": "stdout",
     "output_type": "stream",
     "text": [
      "Epoch 1/10\n",
      "375/375 [==============================] - 7s 15ms/step - loss: 816.9849 - accuracy: 0.3109 - val_loss: 2.1921 - val_accuracy: 0.2070\n",
      "Epoch 2/10\n",
      "375/375 [==============================] - 5s 14ms/step - loss: 4.7091 - accuracy: 0.2372 - val_loss: 2.6928 - val_accuracy: 0.2264\n",
      "Epoch 3/10\n",
      "375/375 [==============================] - 5s 14ms/step - loss: 3.4619 - accuracy: 0.2521 - val_loss: 2.2885 - val_accuracy: 0.1950\n",
      "Epoch 4/10\n",
      "375/375 [==============================] - 6s 15ms/step - loss: 2.6526 - accuracy: 0.2393 - val_loss: 3.1397 - val_accuracy: 0.2412\n",
      "Epoch 5/10\n",
      "375/375 [==============================] - 6s 16ms/step - loss: 2.5045 - accuracy: 0.2717 - val_loss: 3.3449 - val_accuracy: 0.2819\n",
      "Epoch 6/10\n",
      "375/375 [==============================] - 5s 14ms/step - loss: 2.3702 - accuracy: 0.2634 - val_loss: 2.2538 - val_accuracy: 0.2956\n",
      "Epoch 7/10\n",
      "375/375 [==============================] - 6s 15ms/step - loss: 2.8005 - accuracy: 0.2859 - val_loss: 2.1284 - val_accuracy: 0.2873\n",
      "Epoch 8/10\n",
      "375/375 [==============================] - 5s 14ms/step - loss: 2.4763 - accuracy: 0.2846 - val_loss: 2.3395 - val_accuracy: 0.2987\n",
      "Epoch 9/10\n",
      "375/375 [==============================] - 5s 14ms/step - loss: 2.5927 - accuracy: 0.2708 - val_loss: 3.3046 - val_accuracy: 0.3282\n",
      "Epoch 10/10\n",
      "375/375 [==============================] - 6s 15ms/step - loss: 2.6635 - accuracy: 0.2950 - val_loss: 2.4299 - val_accuracy: 0.2805\n"
     ]
    },
    {
     "data": {
      "text/plain": [
       "<keras.callbacks.History at 0x27b9b5d5ac0>"
      ]
     },
     "execution_count": 6,
     "metadata": {},
     "output_type": "execute_result"
    }
   ],
   "source": [
    "(train_images, train_labels), _ = mnist.load_data()\n",
    "train_images = train_images.reshape((60000, 28 * 28))\n",
    "train_images = train_images.astype(\"float32\") / 255\n",
    "\n",
    "model = keras.Sequential([\n",
    "    layers.Dense(512, activation=\"relu\"),\n",
    "    layers.Dense(10, activation=\"softmax\")\n",
    "])\n",
    "model.compile(optimizer=keras.optimizers.RMSprop(1.),\n",
    "              loss=\"sparse_categorical_crossentropy\",\n",
    "              metrics=[\"accuracy\"])\n",
    "model.fit(train_images, train_labels,\n",
    "          epochs=10,\n",
    "          batch_size=128,\n",
    "          validation_split=0.2)"
   ]
  },
  {
   "cell_type": "markdown",
   "id": "beb5a6f4",
   "metadata": {},
   "source": [
    "# same model with more apporpriate learning rate"
   ]
  },
  {
   "cell_type": "code",
   "execution_count": 7,
   "id": "2ddd5c82",
   "metadata": {},
   "outputs": [
    {
     "name": "stdout",
     "output_type": "stream",
     "text": [
      "Epoch 1/10\n",
      "375/375 [==============================] - 7s 15ms/step - loss: 0.3444 - accuracy: 0.9138 - val_loss: 0.1671 - val_accuracy: 0.9553\n",
      "Epoch 2/10\n",
      "375/375 [==============================] - 6s 15ms/step - loss: 0.1443 - accuracy: 0.9638 - val_loss: 0.1521 - val_accuracy: 0.9672\n",
      "Epoch 3/10\n",
      "375/375 [==============================] - 5s 14ms/step - loss: 0.1143 - accuracy: 0.9731 - val_loss: 0.1726 - val_accuracy: 0.9684\n",
      "Epoch 4/10\n",
      "375/375 [==============================] - 5s 14ms/step - loss: 0.1019 - accuracy: 0.9785 - val_loss: 0.1998 - val_accuracy: 0.9679\n",
      "Epoch 5/10\n",
      "375/375 [==============================] - 6s 15ms/step - loss: 0.0879 - accuracy: 0.9812 - val_loss: 0.1873 - val_accuracy: 0.9722\n",
      "Epoch 6/10\n",
      "375/375 [==============================] - 5s 14ms/step - loss: 0.0779 - accuracy: 0.9843 - val_loss: 0.2301 - val_accuracy: 0.9718\n",
      "Epoch 7/10\n",
      "375/375 [==============================] - 6s 15ms/step - loss: 0.0737 - accuracy: 0.9858 - val_loss: 0.2470 - val_accuracy: 0.9733\n",
      "Epoch 8/10\n",
      "375/375 [==============================] - 5s 14ms/step - loss: 0.0674 - accuracy: 0.9881 - val_loss: 0.2883 - val_accuracy: 0.9708\n",
      "Epoch 9/10\n",
      "375/375 [==============================] - 6s 15ms/step - loss: 0.0635 - accuracy: 0.9893 - val_loss: 0.2862 - val_accuracy: 0.9721\n",
      "Epoch 10/10\n",
      "375/375 [==============================] - 6s 15ms/step - loss: 0.0550 - accuracy: 0.9900 - val_loss: 0.3035 - val_accuracy: 0.9717\n"
     ]
    },
    {
     "data": {
      "text/plain": [
       "<keras.callbacks.History at 0x27b9bb09d30>"
      ]
     },
     "execution_count": 7,
     "metadata": {},
     "output_type": "execute_result"
    }
   ],
   "source": [
    "model = keras.Sequential([\n",
    "    layers.Dense(512, activation=\"relu\"),\n",
    "    layers.Dense(10, activation=\"softmax\")\n",
    "])\n",
    "model.compile(optimizer=keras.optimizers.RMSprop(1e-2),\n",
    "              loss=\"sparse_categorical_crossentropy\",\n",
    "              metrics=[\"accuracy\"])\n",
    "model.fit(train_images, train_labels,\n",
    "          epochs=10,\n",
    "          batch_size=128,\n",
    "          validation_split=0.2)"
   ]
  },
  {
   "cell_type": "markdown",
   "id": "a82a859e",
   "metadata": {},
   "source": [
    "# increasing model capacity"
   ]
  },
  {
   "cell_type": "code",
   "execution_count": 8,
   "id": "3f92e4c2",
   "metadata": {},
   "outputs": [
    {
     "name": "stdout",
     "output_type": "stream",
     "text": [
      "Epoch 1/20\n",
      "375/375 [==============================] - 3s 5ms/step - loss: 0.6840 - accuracy: 0.8285 - val_loss: 0.3612 - val_accuracy: 0.9026\n",
      "Epoch 2/20\n",
      "375/375 [==============================] - 2s 6ms/step - loss: 0.3523 - accuracy: 0.9035 - val_loss: 0.3101 - val_accuracy: 0.9133\n",
      "Epoch 3/20\n",
      "375/375 [==============================] - 2s 4ms/step - loss: 0.3156 - accuracy: 0.9121 - val_loss: 0.2909 - val_accuracy: 0.9175\n",
      "Epoch 4/20\n",
      "375/375 [==============================] - 2s 4ms/step - loss: 0.2994 - accuracy: 0.9159 - val_loss: 0.2824 - val_accuracy: 0.9216\n",
      "Epoch 5/20\n",
      "375/375 [==============================] - 2s 4ms/step - loss: 0.2897 - accuracy: 0.9184 - val_loss: 0.2758 - val_accuracy: 0.9232\n",
      "Epoch 6/20\n",
      "375/375 [==============================] - 3s 8ms/step - loss: 0.2829 - accuracy: 0.9206 - val_loss: 0.2743 - val_accuracy: 0.9247\n",
      "Epoch 7/20\n",
      "375/375 [==============================] - 3s 8ms/step - loss: 0.2780 - accuracy: 0.9224 - val_loss: 0.2694 - val_accuracy: 0.9268\n",
      "Epoch 8/20\n",
      "375/375 [==============================] - 3s 8ms/step - loss: 0.2742 - accuracy: 0.9238 - val_loss: 0.2663 - val_accuracy: 0.9273\n",
      "Epoch 9/20\n",
      "375/375 [==============================] - 3s 8ms/step - loss: 0.2712 - accuracy: 0.9240 - val_loss: 0.2655 - val_accuracy: 0.9282\n",
      "Epoch 10/20\n",
      "375/375 [==============================] - 3s 9ms/step - loss: 0.2685 - accuracy: 0.9251 - val_loss: 0.2650 - val_accuracy: 0.9266\n",
      "Epoch 11/20\n",
      "375/375 [==============================] - 3s 8ms/step - loss: 0.2663 - accuracy: 0.9260 - val_loss: 0.2634 - val_accuracy: 0.9288\n",
      "Epoch 12/20\n",
      "375/375 [==============================] - 3s 8ms/step - loss: 0.2647 - accuracy: 0.9269 - val_loss: 0.2635 - val_accuracy: 0.9282\n",
      "Epoch 13/20\n",
      "375/375 [==============================] - 3s 9ms/step - loss: 0.2628 - accuracy: 0.9277 - val_loss: 0.2619 - val_accuracy: 0.9299\n",
      "Epoch 14/20\n",
      "375/375 [==============================] - 3s 7ms/step - loss: 0.2614 - accuracy: 0.9285 - val_loss: 0.2626 - val_accuracy: 0.9294\n",
      "Epoch 15/20\n",
      "375/375 [==============================] - 3s 8ms/step - loss: 0.2604 - accuracy: 0.9284 - val_loss: 0.2627 - val_accuracy: 0.9296\n",
      "Epoch 16/20\n",
      "375/375 [==============================] - 2s 5ms/step - loss: 0.2592 - accuracy: 0.9290 - val_loss: 0.2616 - val_accuracy: 0.9298\n",
      "Epoch 17/20\n",
      "375/375 [==============================] - 3s 8ms/step - loss: 0.2582 - accuracy: 0.9294 - val_loss: 0.2615 - val_accuracy: 0.9302\n",
      "Epoch 18/20\n",
      "375/375 [==============================] - 3s 8ms/step - loss: 0.2573 - accuracy: 0.9298 - val_loss: 0.2615 - val_accuracy: 0.9303\n",
      "Epoch 19/20\n",
      "375/375 [==============================] - 2s 4ms/step - loss: 0.2564 - accuracy: 0.9304 - val_loss: 0.2621 - val_accuracy: 0.9306\n",
      "Epoch 20/20\n",
      "375/375 [==============================] - 3s 7ms/step - loss: 0.2553 - accuracy: 0.9305 - val_loss: 0.2612 - val_accuracy: 0.9311\n"
     ]
    }
   ],
   "source": [
    "model = keras.Sequential([layers.Dense(10, activation=\"softmax\")])\n",
    "model.compile(optimizer=\"rmsprop\",\n",
    "              loss=\"sparse_categorical_crossentropy\",\n",
    "              metrics=[\"accuracy\"])\n",
    "history_small_model = model.fit(\n",
    "    train_images, train_labels,\n",
    "    epochs=20,\n",
    "    batch_size=128,\n",
    "    validation_split=0.2)"
   ]
  },
  {
   "cell_type": "code",
   "execution_count": 9,
   "id": "922ca4d6",
   "metadata": {},
   "outputs": [
    {
     "data": {
      "text/plain": [
       "<matplotlib.legend.Legend at 0x27ba8104250>"
      ]
     },
     "execution_count": 9,
     "metadata": {},
     "output_type": "execute_result"
    },
    {
     "data": {
      "image/png": "[encoded data removed]",
      "text/plain": [
       "<Figure size 432x288 with 1 Axes>"
      ]
     },
     "metadata": {
      "needs_background": "light"
     },
     "output_type": "display_data"
    }
   ],
   "source": [
    "import matplotlib.pyplot as plt\n",
    "val_loss = history_small_model.history[\"val_loss\"]\n",
    "epochs = range(1, 21)\n",
    "plt.plot(epochs, val_loss, \"b--\",\n",
    "         label=\"Validation loss\")\n",
    "plt.title(\"Effect of insufficient model capacity on validation loss\")\n",
    "plt.xlabel(\"Epochs\")\n",
    "plt.ylabel(\"Loss\")\n",
    "plt.legend()"
   ]
  },
  {
   "cell_type": "code",
   "execution_count": 10,
   "id": "57bd00a7",
   "metadata": {},
   "outputs": [
    {
     "name": "stdout",
     "output_type": "stream",
     "text": [
      "Epoch 1/20\n",
      "375/375 [==============================] - 5s 7ms/step - loss: 0.3578 - accuracy: 0.8973 - val_loss: 0.1781 - val_accuracy: 0.9498\n",
      "Epoch 2/20\n",
      "375/375 [==============================] - 4s 10ms/step - loss: 0.1593 - accuracy: 0.9516 - val_loss: 0.1420 - val_accuracy: 0.9593\n",
      "Epoch 3/20\n",
      "375/375 [==============================] - 4s 11ms/step - loss: 0.1096 - accuracy: 0.9671 - val_loss: 0.1156 - val_accuracy: 0.9645\n",
      "Epoch 4/20\n",
      "375/375 [==============================] - 4s 11ms/step - loss: 0.0834 - accuracy: 0.9753 - val_loss: 0.1023 - val_accuracy: 0.9699\n",
      "Epoch 5/20\n",
      "375/375 [==============================] - 4s 10ms/step - loss: 0.0678 - accuracy: 0.9798 - val_loss: 0.0972 - val_accuracy: 0.9698\n",
      "Epoch 6/20\n",
      "375/375 [==============================] - 2s 6ms/step - loss: 0.0552 - accuracy: 0.9831 - val_loss: 0.0903 - val_accuracy: 0.9745\n",
      "Epoch 7/20\n",
      "375/375 [==============================] - 4s 10ms/step - loss: 0.0456 - accuracy: 0.9862 - val_loss: 0.1196 - val_accuracy: 0.9683\n",
      "Epoch 8/20\n",
      "375/375 [==============================] - 4s 11ms/step - loss: 0.0387 - accuracy: 0.9881 - val_loss: 0.0961 - val_accuracy: 0.9748\n",
      "Epoch 9/20\n",
      "375/375 [==============================] - 4s 10ms/step - loss: 0.0320 - accuracy: 0.9904 - val_loss: 0.1040 - val_accuracy: 0.9728\n",
      "Epoch 10/20\n",
      "375/375 [==============================] - 4s 11ms/step - loss: 0.0277 - accuracy: 0.9916 - val_loss: 0.1005 - val_accuracy: 0.9756\n",
      "Epoch 11/20\n",
      "375/375 [==============================] - 4s 10ms/step - loss: 0.0232 - accuracy: 0.9923 - val_loss: 0.1029 - val_accuracy: 0.9764\n",
      "Epoch 12/20\n",
      "375/375 [==============================] - 4s 10ms/step - loss: 0.0199 - accuracy: 0.9937 - val_loss: 0.1062 - val_accuracy: 0.9758\n",
      "Epoch 13/20\n",
      "375/375 [==============================] - 3s 9ms/step - loss: 0.0166 - accuracy: 0.9950 - val_loss: 0.1139 - val_accuracy: 0.9745\n",
      "Epoch 14/20\n",
      "375/375 [==============================] - 4s 11ms/step - loss: 0.0141 - accuracy: 0.9953 - val_loss: 0.1231 - val_accuracy: 0.9740\n",
      "Epoch 15/20\n",
      "375/375 [==============================] - 4s 11ms/step - loss: 0.0125 - accuracy: 0.9962 - val_loss: 0.1267 - val_accuracy: 0.9760\n",
      "Epoch 16/20\n",
      "375/375 [==============================] - 4s 11ms/step - loss: 0.0102 - accuracy: 0.9966 - val_loss: 0.1222 - val_accuracy: 0.9769\n",
      "Epoch 17/20\n",
      "375/375 [==============================] - 4s 11ms/step - loss: 0.0087 - accuracy: 0.9976 - val_loss: 0.1319 - val_accuracy: 0.9771\n",
      "Epoch 18/20\n",
      "375/375 [==============================] - 3s 9ms/step - loss: 0.0077 - accuracy: 0.9977 - val_loss: 0.1527 - val_accuracy: 0.9752\n",
      "Epoch 19/20\n",
      "375/375 [==============================] - 4s 11ms/step - loss: 0.0069 - accuracy: 0.9978 - val_loss: 0.1427 - val_accuracy: 0.9777\n",
      "Epoch 20/20\n",
      "375/375 [==============================] - 4s 10ms/step - loss: 0.0053 - accuracy: 0.9984 - val_loss: 0.1422 - val_accuracy: 0.9777\n"
     ]
    }
   ],
   "source": [
    "model = keras.Sequential([\n",
    "    layers.Dense(96, activation=\"relu\"),\n",
    "    layers.Dense(96, activation=\"relu\"),\n",
    "    layers.Dense(10, activation=\"softmax\"),\n",
    "])\n",
    "model.compile(optimizer=\"rmsprop\",\n",
    "              loss=\"sparse_categorical_crossentropy\",\n",
    "              metrics=[\"accuracy\"])\n",
    "history_large_model = model.fit(\n",
    "    train_images, train_labels,\n",
    "    epochs=20,\n",
    "    batch_size=128,\n",
    "    validation_split=0.2)"
   ]
  },
  {
   "cell_type": "markdown",
   "id": "d3c1efb5",
   "metadata": {},
   "source": [
    "# improve generlization\n",
    "## orginal model"
   ]
  },
  {
   "cell_type": "code",
   "execution_count": 11,
   "id": "23ec2c32",
   "metadata": {},
   "outputs": [
    {
     "name": "stdout",
     "output_type": "stream",
     "text": [
      "Downloading data from https://storage.googleapis.com/tensorflow/tf-keras-datasets/imdb.npz\n",
      "17464789/17464789 [==============================] - 8s 0us/step\n",
      "Epoch 1/20\n",
      "30/30 [==============================] - 4s 75ms/step - loss: 0.5101 - accuracy: 0.7906 - val_loss: 0.3824 - val_accuracy: 0.8735\n",
      "Epoch 2/20\n",
      "30/30 [==============================] - 1s 30ms/step - loss: 0.3057 - accuracy: 0.9026 - val_loss: 0.3019 - val_accuracy: 0.8889\n",
      "Epoch 3/20\n",
      "30/30 [==============================] - 1s 30ms/step - loss: 0.2239 - accuracy: 0.9284 - val_loss: 0.2810 - val_accuracy: 0.8893\n",
      "Epoch 4/20\n",
      "30/30 [==============================] - 1s 35ms/step - loss: 0.1751 - accuracy: 0.9434 - val_loss: 0.2847 - val_accuracy: 0.8861\n",
      "Epoch 5/20\n",
      "30/30 [==============================] - 1s 37ms/step - loss: 0.1395 - accuracy: 0.9589 - val_loss: 0.2794 - val_accuracy: 0.8889\n",
      "Epoch 6/20\n",
      "30/30 [==============================] - 1s 31ms/step - loss: 0.1163 - accuracy: 0.9649 - val_loss: 0.2940 - val_accuracy: 0.8874\n",
      "Epoch 7/20\n",
      "30/30 [==============================] - 1s 33ms/step - loss: 0.0952 - accuracy: 0.9729 - val_loss: 0.3312 - val_accuracy: 0.8789\n",
      "Epoch 8/20\n",
      "30/30 [==============================] - 1s 36ms/step - loss: 0.0789 - accuracy: 0.9776 - val_loss: 0.3320 - val_accuracy: 0.8815\n",
      "Epoch 9/20\n",
      "30/30 [==============================] - 1s 30ms/step - loss: 0.0632 - accuracy: 0.9843 - val_loss: 0.3556 - val_accuracy: 0.8807\n",
      "Epoch 10/20\n",
      "30/30 [==============================] - 1s 33ms/step - loss: 0.0526 - accuracy: 0.9865 - val_loss: 0.3856 - val_accuracy: 0.8772\n",
      "Epoch 11/20\n",
      "30/30 [==============================] - 1s 31ms/step - loss: 0.0436 - accuracy: 0.9897 - val_loss: 0.4151 - val_accuracy: 0.8756\n",
      "Epoch 12/20\n",
      "30/30 [==============================] - 1s 33ms/step - loss: 0.0326 - accuracy: 0.9938 - val_loss: 0.4547 - val_accuracy: 0.8711\n",
      "Epoch 13/20\n",
      "30/30 [==============================] - 1s 32ms/step - loss: 0.0241 - accuracy: 0.9961 - val_loss: 0.4791 - val_accuracy: 0.8727\n",
      "Epoch 14/20\n",
      "30/30 [==============================] - 1s 29ms/step - loss: 0.0218 - accuracy: 0.9957 - val_loss: 0.5192 - val_accuracy: 0.8700\n",
      "Epoch 15/20\n",
      "30/30 [==============================] - 1s 35ms/step - loss: 0.0156 - accuracy: 0.9975 - val_loss: 0.5552 - val_accuracy: 0.8691\n",
      "Epoch 16/20\n",
      "30/30 [==============================] - 1s 35ms/step - loss: 0.0129 - accuracy: 0.9979 - val_loss: 0.5818 - val_accuracy: 0.8697\n",
      "Epoch 17/20\n",
      "30/30 [==============================] - 1s 34ms/step - loss: 0.0072 - accuracy: 0.9995 - val_loss: 0.6486 - val_accuracy: 0.8636\n",
      "Epoch 18/20\n",
      "30/30 [==============================] - 1s 33ms/step - loss: 0.0087 - accuracy: 0.9983 - val_loss: 0.6566 - val_accuracy: 0.8679\n",
      "Epoch 19/20\n",
      "30/30 [==============================] - 1s 34ms/step - loss: 0.0060 - accuracy: 0.9994 - val_loss: 0.6888 - val_accuracy: 0.8662\n",
      "Epoch 20/20\n",
      "30/30 [==============================] - 1s 33ms/step - loss: 0.0030 - accuracy: 0.9998 - val_loss: 0.7370 - val_accuracy: 0.8656\n"
     ]
    }
   ],
   "source": [
    "from tensorflow.keras.datasets import imdb\n",
    "(train_data, train_labels), _ = imdb.load_data(num_words=10000)\n",
    "\n",
    "def vectorize_sequences(sequences, dimension=10000):\n",
    "    results = np.zeros((len(sequences), dimension))\n",
    "    for i, sequence in enumerate(sequences):\n",
    "        results[i, sequence] = 1.\n",
    "    return results\n",
    "train_data = vectorize_sequences(train_data)\n",
    "\n",
    "model = keras.Sequential([\n",
    "    layers.Dense(16, activation=\"relu\"),\n",
    "    layers.Dense(16, activation=\"relu\"),\n",
    "    layers.Dense(1, activation=\"sigmoid\")\n",
    "])\n",
    "model.compile(optimizer=\"rmsprop\",\n",
    "              loss=\"binary_crossentropy\",\n",
    "              metrics=[\"accuracy\"])\n",
    "history_original = model.fit(train_data, train_labels,\n",
    "                             epochs=20, batch_size=512, validation_split=0.4)"
   ]
  },
  {
   "cell_type": "markdown",
   "id": "baabf004",
   "metadata": {},
   "source": [
    "# version with lower capacity"
   ]
  },
  {
   "cell_type": "code",
   "execution_count": 12,
   "id": "dd9313a7",
   "metadata": {},
   "outputs": [
    {
     "name": "stdout",
     "output_type": "stream",
     "text": [
      "Epoch 1/20\n",
      "30/30 [==============================] - 4s 59ms/step - loss: 0.6302 - accuracy: 0.7191 - val_loss: 0.5634 - val_accuracy: 0.8256\n",
      "Epoch 2/20\n",
      "30/30 [==============================] - 1s 32ms/step - loss: 0.5070 - accuracy: 0.8621 - val_loss: 0.4770 - val_accuracy: 0.8447\n",
      "Epoch 3/20\n",
      "30/30 [==============================] - 1s 31ms/step - loss: 0.4174 - accuracy: 0.8928 - val_loss: 0.4069 - val_accuracy: 0.8767\n",
      "Epoch 4/20\n",
      "30/30 [==============================] - 1s 37ms/step - loss: 0.3485 - accuracy: 0.9087 - val_loss: 0.3593 - val_accuracy: 0.8830\n",
      "Epoch 5/20\n",
      "30/30 [==============================] - 1s 37ms/step - loss: 0.2955 - accuracy: 0.9183 - val_loss: 0.3265 - val_accuracy: 0.8852\n",
      "Epoch 6/20\n",
      "30/30 [==============================] - 1s 34ms/step - loss: 0.2551 - accuracy: 0.9269 - val_loss: 0.3018 - val_accuracy: 0.8879\n",
      "Epoch 7/20\n",
      "30/30 [==============================] - 1s 32ms/step - loss: 0.2233 - accuracy: 0.9341 - val_loss: 0.3001 - val_accuracy: 0.8830\n",
      "Epoch 8/20\n",
      "30/30 [==============================] - 1s 30ms/step - loss: 0.1987 - accuracy: 0.9408 - val_loss: 0.2816 - val_accuracy: 0.8894\n",
      "Epoch 9/20\n",
      "30/30 [==============================] - 1s 41ms/step - loss: 0.1779 - accuracy: 0.9472 - val_loss: 0.2749 - val_accuracy: 0.8911\n",
      "Epoch 10/20\n",
      "30/30 [==============================] - 1s 34ms/step - loss: 0.1597 - accuracy: 0.9535 - val_loss: 0.2738 - val_accuracy: 0.8904\n",
      "Epoch 11/20\n",
      "30/30 [==============================] - 1s 36ms/step - loss: 0.1443 - accuracy: 0.9591 - val_loss: 0.2758 - val_accuracy: 0.8891\n",
      "Epoch 12/20\n",
      "30/30 [==============================] - 1s 34ms/step - loss: 0.1313 - accuracy: 0.9617 - val_loss: 0.2754 - val_accuracy: 0.8908\n",
      "Epoch 13/20\n",
      "30/30 [==============================] - 1s 31ms/step - loss: 0.1199 - accuracy: 0.9652 - val_loss: 0.2825 - val_accuracy: 0.8875\n",
      "Epoch 14/20\n",
      "30/30 [==============================] - 1s 37ms/step - loss: 0.1096 - accuracy: 0.9689 - val_loss: 0.2864 - val_accuracy: 0.8876\n",
      "Epoch 15/20\n",
      "30/30 [==============================] - 1s 27ms/step - loss: 0.1001 - accuracy: 0.9725 - val_loss: 0.2958 - val_accuracy: 0.8868\n",
      "Epoch 16/20\n",
      "30/30 [==============================] - 1s 43ms/step - loss: 0.0916 - accuracy: 0.9754 - val_loss: 0.3033 - val_accuracy: 0.8857\n",
      "Epoch 17/20\n",
      "30/30 [==============================] - 1s 38ms/step - loss: 0.0836 - accuracy: 0.9780 - val_loss: 0.3140 - val_accuracy: 0.8850\n",
      "Epoch 18/20\n",
      "30/30 [==============================] - 1s 33ms/step - loss: 0.0765 - accuracy: 0.9805 - val_loss: 0.3233 - val_accuracy: 0.8842\n",
      "Epoch 19/20\n",
      "30/30 [==============================] - 1s 32ms/step - loss: 0.0697 - accuracy: 0.9826 - val_loss: 0.3353 - val_accuracy: 0.8826\n",
      "Epoch 20/20\n",
      "30/30 [==============================] - 1s 32ms/step - loss: 0.0636 - accuracy: 0.9854 - val_loss: 0.3461 - val_accuracy: 0.8814\n"
     ]
    }
   ],
   "source": [
    "model = keras.Sequential([\n",
    "    layers.Dense(4, activation=\"relu\"),\n",
    "    layers.Dense(4, activation=\"relu\"),\n",
    "    layers.Dense(1, activation=\"sigmoid\")\n",
    "])\n",
    "model.compile(optimizer=\"rmsprop\",\n",
    "              loss=\"binary_crossentropy\",\n",
    "              metrics=[\"accuracy\"])\n",
    "history_smaller_model = model.fit(\n",
    "    train_data, train_labels,\n",
    "    epochs=20, batch_size=512, validation_split=0.4)"
   ]
  },
  {
   "cell_type": "markdown",
   "id": "66359411",
   "metadata": {},
   "source": [
    "# version with higher "
   ]
  },
  {
   "cell_type": "code",
   "execution_count": 13,
   "id": "48c9baa3",
   "metadata": {},
   "outputs": [
    {
     "name": "stdout",
     "output_type": "stream",
     "text": [
      "Epoch 1/20\n",
      "30/30 [==============================] - 9s 240ms/step - loss: 0.5678 - accuracy: 0.7346 - val_loss: 0.3115 - val_accuracy: 0.8815\n",
      "Epoch 2/20\n",
      "30/30 [==============================] - 6s 194ms/step - loss: 0.2543 - accuracy: 0.8978 - val_loss: 0.2671 - val_accuracy: 0.8927\n",
      "Epoch 3/20\n",
      "30/30 [==============================] - 6s 200ms/step - loss: 0.1674 - accuracy: 0.9371 - val_loss: 0.2816 - val_accuracy: 0.8917\n",
      "Epoch 4/20\n",
      "30/30 [==============================] - 6s 196ms/step - loss: 0.0781 - accuracy: 0.9715 - val_loss: 0.5636 - val_accuracy: 0.8265\n",
      "Epoch 5/20\n",
      "30/30 [==============================] - 6s 196ms/step - loss: 0.0879 - accuracy: 0.9763 - val_loss: 0.2993 - val_accuracy: 0.8884\n",
      "Epoch 6/20\n",
      "30/30 [==============================] - 6s 195ms/step - loss: 0.0071 - accuracy: 0.9997 - val_loss: 0.5315 - val_accuracy: 0.8822\n",
      "Epoch 7/20\n",
      "30/30 [==============================] - 6s 195ms/step - loss: 0.0012 - accuracy: 0.9997 - val_loss: 0.6124 - val_accuracy: 0.8851\n",
      "Epoch 8/20\n",
      "30/30 [==============================] - 6s 196ms/step - loss: 0.2029 - accuracy: 0.9785 - val_loss: 0.4955 - val_accuracy: 0.8860\n",
      "Epoch 9/20\n",
      "30/30 [==============================] - 6s 194ms/step - loss: 5.1588e-04 - accuracy: 1.0000 - val_loss: 0.5632 - val_accuracy: 0.8865\n",
      "Epoch 10/20\n",
      "30/30 [==============================] - 6s 197ms/step - loss: 1.4124e-04 - accuracy: 1.0000 - val_loss: 0.6701 - val_accuracy: 0.8867\n",
      "Epoch 11/20\n",
      "30/30 [==============================] - 6s 195ms/step - loss: 3.8517e-05 - accuracy: 1.0000 - val_loss: 0.7446 - val_accuracy: 0.8852\n",
      "Epoch 12/20\n",
      "30/30 [==============================] - 6s 196ms/step - loss: 9.9237e-06 - accuracy: 1.0000 - val_loss: 0.8455 - val_accuracy: 0.8853\n",
      "Epoch 13/20\n",
      "30/30 [==============================] - 6s 193ms/step - loss: 2.7600e-06 - accuracy: 1.0000 - val_loss: 0.9376 - val_accuracy: 0.8852\n",
      "Epoch 14/20\n",
      "30/30 [==============================] - 6s 197ms/step - loss: 8.6045e-07 - accuracy: 1.0000 - val_loss: 1.0164 - val_accuracy: 0.8855\n",
      "Epoch 15/20\n",
      "30/30 [==============================] - 6s 195ms/step - loss: 2.9794e-07 - accuracy: 1.0000 - val_loss: 1.0860 - val_accuracy: 0.8855\n",
      "Epoch 16/20\n",
      "30/30 [==============================] - 6s 195ms/step - loss: 1.1323e-07 - accuracy: 1.0000 - val_loss: 1.1470 - val_accuracy: 0.8857\n",
      "Epoch 17/20\n",
      "30/30 [==============================] - 6s 195ms/step - loss: 4.9725e-08 - accuracy: 1.0000 - val_loss: 1.1982 - val_accuracy: 0.8854\n",
      "Epoch 18/20\n",
      "30/30 [==============================] - 6s 195ms/step - loss: 2.7868e-08 - accuracy: 1.0000 - val_loss: 1.2258 - val_accuracy: 0.8851\n",
      "Epoch 19/20\n",
      "30/30 [==============================] - 6s 194ms/step - loss: 1.8569e-08 - accuracy: 1.0000 - val_loss: 1.2491 - val_accuracy: 0.8849\n",
      "Epoch 20/20\n",
      "30/30 [==============================] - 6s 195ms/step - loss: 1.3842e-08 - accuracy: 1.0000 - val_loss: 1.2696 - val_accuracy: 0.8852\n"
     ]
    }
   ],
   "source": [
    "model = keras.Sequential([\n",
    "    layers.Dense(512, activation=\"relu\"),\n",
    "    layers.Dense(512, activation=\"relu\"),\n",
    "    layers.Dense(1, activation=\"sigmoid\")\n",
    "])\n",
    "model.compile(optimizer=\"rmsprop\",\n",
    "              loss=\"binary_crossentropy\",\n",
    "              metrics=[\"accuracy\"])\n",
    "history_larger_model = model.fit(\n",
    "    train_data, train_labels,\n",
    "    epochs=20, batch_size=512, validation_split=0.4)"
   ]
  },
  {
   "cell_type": "markdown",
   "id": "98c3c9eb",
   "metadata": {},
   "source": [
    "# add weight"
   ]
  },
  {
   "cell_type": "code",
   "execution_count": 14,
   "id": "c5f1303b",
   "metadata": {},
   "outputs": [
    {
     "name": "stdout",
     "output_type": "stream",
     "text": [
      "Epoch 1/20\n",
      "30/30 [==============================] - 4s 66ms/step - loss: 0.5801 - accuracy: 0.7941 - val_loss: 0.4551 - val_accuracy: 0.8686\n",
      "Epoch 2/20\n",
      "30/30 [==============================] - 1s 25ms/step - loss: 0.3948 - accuracy: 0.8957 - val_loss: 0.3881 - val_accuracy: 0.8844\n",
      "Epoch 3/20\n",
      "30/30 [==============================] - 1s 24ms/step - loss: 0.3313 - accuracy: 0.9133 - val_loss: 0.3855 - val_accuracy: 0.8785\n",
      "Epoch 4/20\n",
      "30/30 [==============================] - 1s 25ms/step - loss: 0.3044 - accuracy: 0.9236 - val_loss: 0.3654 - val_accuracy: 0.8858\n",
      "Epoch 5/20\n",
      "30/30 [==============================] - 1s 28ms/step - loss: 0.2868 - accuracy: 0.9285 - val_loss: 0.3631 - val_accuracy: 0.8841\n",
      "Epoch 6/20\n",
      "30/30 [==============================] - 1s 31ms/step - loss: 0.2716 - accuracy: 0.9363 - val_loss: 0.3671 - val_accuracy: 0.8840\n",
      "Epoch 7/20\n",
      "30/30 [==============================] - 1s 32ms/step - loss: 0.2629 - accuracy: 0.9380 - val_loss: 0.3678 - val_accuracy: 0.8805\n",
      "Epoch 8/20\n",
      "30/30 [==============================] - 1s 31ms/step - loss: 0.2580 - accuracy: 0.9390 - val_loss: 0.3716 - val_accuracy: 0.8823\n",
      "Epoch 9/20\n",
      "30/30 [==============================] - 1s 34ms/step - loss: 0.2489 - accuracy: 0.9443 - val_loss: 0.3805 - val_accuracy: 0.8798\n",
      "Epoch 10/20\n",
      "30/30 [==============================] - 1s 29ms/step - loss: 0.2450 - accuracy: 0.9439 - val_loss: 0.3835 - val_accuracy: 0.8795\n",
      "Epoch 11/20\n",
      "30/30 [==============================] - 1s 38ms/step - loss: 0.2405 - accuracy: 0.9463 - val_loss: 0.4281 - val_accuracy: 0.8684\n",
      "Epoch 12/20\n",
      "30/30 [==============================] - 1s 32ms/step - loss: 0.2315 - accuracy: 0.9507 - val_loss: 0.4153 - val_accuracy: 0.8690\n",
      "Epoch 13/20\n",
      "30/30 [==============================] - 1s 33ms/step - loss: 0.2303 - accuracy: 0.9493 - val_loss: 0.4017 - val_accuracy: 0.8740\n",
      "Epoch 14/20\n",
      "30/30 [==============================] - 1s 29ms/step - loss: 0.2300 - accuracy: 0.9484 - val_loss: 0.4096 - val_accuracy: 0.8742\n",
      "Epoch 15/20\n",
      "30/30 [==============================] - 1s 35ms/step - loss: 0.2319 - accuracy: 0.9483 - val_loss: 0.4003 - val_accuracy: 0.8779\n",
      "Epoch 16/20\n",
      "30/30 [==============================] - 1s 33ms/step - loss: 0.2239 - accuracy: 0.9511 - val_loss: 0.4384 - val_accuracy: 0.8659\n",
      "Epoch 17/20\n",
      "30/30 [==============================] - 1s 33ms/step - loss: 0.2206 - accuracy: 0.9537 - val_loss: 0.4234 - val_accuracy: 0.8711\n",
      "Epoch 18/20\n",
      "30/30 [==============================] - 1s 31ms/step - loss: 0.2198 - accuracy: 0.9531 - val_loss: 0.4208 - val_accuracy: 0.8738\n",
      "Epoch 19/20\n",
      "30/30 [==============================] - 1s 33ms/step - loss: 0.2189 - accuracy: 0.9517 - val_loss: 0.4057 - val_accuracy: 0.8767\n",
      "Epoch 20/20\n",
      "30/30 [==============================] - 1s 33ms/step - loss: 0.2100 - accuracy: 0.9583 - val_loss: 0.4135 - val_accuracy: 0.8758\n"
     ]
    }
   ],
   "source": [
    "from tensorflow.keras import regularizers\n",
    "model = keras.Sequential([\n",
    "    layers.Dense(16,\n",
    "                 kernel_regularizer=regularizers.l2(0.002),\n",
    "                 activation=\"relu\"),\n",
    "    layers.Dense(16,\n",
    "                 kernel_regularizer=regularizers.l2(0.002),\n",
    "                 activation=\"relu\"),\n",
    "    layers.Dense(1, activation=\"sigmoid\")\n",
    "])\n",
    "model.compile(optimizer=\"rmsprop\",\n",
    "              loss=\"binary_crossentropy\",\n",
    "              metrics=[\"accuracy\"])\n",
    "history_l2_reg = model.fit(\n",
    "    train_data, train_labels,\n",
    "    epochs=20, batch_size=512, validation_split=0.4)"
   ]
  },
  {
   "cell_type": "markdown",
   "id": "89900069",
   "metadata": {},
   "source": [
    "# Different weight regularizers available in Keras"
   ]
  },
  {
   "cell_type": "code",
   "execution_count": 15,
   "id": "fa75921c",
   "metadata": {},
   "outputs": [
    {
     "data": {
      "text/plain": [
       "<keras.regularizers.L1L2 at 0x27bacd02fd0>"
      ]
     },
     "execution_count": 15,
     "metadata": {},
     "output_type": "execute_result"
    }
   ],
   "source": [
    "from tensorflow.keras import regularizers\n",
    "regularizers.l1(0.001)\n",
    "regularizers.l1_l2(l1=0.001, l2=0.001)"
   ]
  },
  {
   "cell_type": "markdown",
   "id": "1a71f743",
   "metadata": {},
   "source": [
    "# Adding dropout\n",
    "# Adding dropout to the IMDB model"
   ]
  },
  {
   "cell_type": "code",
   "execution_count": 16,
   "id": "54169c38",
   "metadata": {},
   "outputs": [
    {
     "name": "stdout",
     "output_type": "stream",
     "text": [
      "Epoch 1/20\n",
      "30/30 [==============================] - 7s 63ms/step - loss: 0.6541 - accuracy: 0.6049 - val_loss: 0.5643 - val_accuracy: 0.8074\n",
      "Epoch 2/20\n",
      "30/30 [==============================] - 1s 29ms/step - loss: 0.5486 - accuracy: 0.7418 - val_loss: 0.4539 - val_accuracy: 0.8715\n",
      "Epoch 3/20\n",
      "30/30 [==============================] - 1s 29ms/step - loss: 0.4638 - accuracy: 0.8139 - val_loss: 0.3645 - val_accuracy: 0.8829\n",
      "Epoch 4/20\n",
      "30/30 [==============================] - 1s 29ms/step - loss: 0.3942 - accuracy: 0.8513 - val_loss: 0.3215 - val_accuracy: 0.8877\n",
      "Epoch 5/20\n",
      "30/30 [==============================] - 1s 30ms/step - loss: 0.3373 - accuracy: 0.8793 - val_loss: 0.2877 - val_accuracy: 0.8938\n",
      "Epoch 6/20\n",
      "30/30 [==============================] - 1s 28ms/step - loss: 0.2946 - accuracy: 0.8998 - val_loss: 0.2776 - val_accuracy: 0.8920\n",
      "Epoch 7/20\n",
      "30/30 [==============================] - 1s 31ms/step - loss: 0.2645 - accuracy: 0.9119 - val_loss: 0.2799 - val_accuracy: 0.8903\n",
      "Epoch 8/20\n",
      "30/30 [==============================] - 1s 31ms/step - loss: 0.2301 - accuracy: 0.9246 - val_loss: 0.2782 - val_accuracy: 0.8947\n",
      "Epoch 9/20\n",
      "30/30 [==============================] - 1s 30ms/step - loss: 0.2082 - accuracy: 0.9321 - val_loss: 0.2799 - val_accuracy: 0.8941\n",
      "Epoch 10/20\n",
      "30/30 [==============================] - 1s 33ms/step - loss: 0.1864 - accuracy: 0.9405 - val_loss: 0.3078 - val_accuracy: 0.8891\n",
      "Epoch 11/20\n",
      "30/30 [==============================] - 1s 29ms/step - loss: 0.1654 - accuracy: 0.9481 - val_loss: 0.3062 - val_accuracy: 0.8905\n",
      "Epoch 12/20\n",
      "30/30 [==============================] - 1s 34ms/step - loss: 0.1564 - accuracy: 0.9499 - val_loss: 0.3386 - val_accuracy: 0.8890\n",
      "Epoch 13/20\n",
      "30/30 [==============================] - 1s 30ms/step - loss: 0.1326 - accuracy: 0.9615 - val_loss: 0.3523 - val_accuracy: 0.8910\n",
      "Epoch 14/20\n",
      "30/30 [==============================] - 1s 29ms/step - loss: 0.1258 - accuracy: 0.9638 - val_loss: 0.3681 - val_accuracy: 0.8896\n",
      "Epoch 15/20\n",
      "30/30 [==============================] - 1s 30ms/step - loss: 0.1150 - accuracy: 0.9654 - val_loss: 0.3982 - val_accuracy: 0.8902\n",
      "Epoch 16/20\n",
      "30/30 [==============================] - 1s 35ms/step - loss: 0.1117 - accuracy: 0.9675 - val_loss: 0.4176 - val_accuracy: 0.8892\n",
      "Epoch 17/20\n",
      "30/30 [==============================] - 1s 29ms/step - loss: 0.0963 - accuracy: 0.9729 - val_loss: 0.4563 - val_accuracy: 0.8884\n",
      "Epoch 18/20\n",
      "30/30 [==============================] - 1s 29ms/step - loss: 0.0914 - accuracy: 0.9731 - val_loss: 0.4874 - val_accuracy: 0.8879\n",
      "Epoch 19/20\n",
      "30/30 [==============================] - 1s 28ms/step - loss: 0.0886 - accuracy: 0.9742 - val_loss: 0.4957 - val_accuracy: 0.8881\n",
      "Epoch 20/20\n",
      "30/30 [==============================] - 1s 29ms/step - loss: 0.0841 - accuracy: 0.9762 - val_loss: 0.5450 - val_accuracy: 0.8832\n"
     ]
    }
   ],
   "source": [
    "model = keras.Sequential([\n",
    "    layers.Dense(16, activation=\"relu\"),\n",
    "    layers.Dropout(0.5),\n",
    "    layers.Dense(16, activation=\"relu\"),\n",
    "    layers.Dropout(0.5),\n",
    "    layers.Dense(1, activation=\"sigmoid\")\n",
    "])\n",
    "model.compile(optimizer=\"rmsprop\",\n",
    "              loss=\"binary_crossentropy\",\n",
    "              metrics=[\"accuracy\"])\n",
    "history_dropout = model.fit(\n",
    "    train_data, train_labels,\n",
    "    epochs=20, batch_size=512, validation_split=0.4)"
   ]
  }
 ],
 "metadata": {
  "kernelspec": {
   "display_name": "Python 3 (ipykernel)",
   "language": "python",
   "name": "python3"
  },
  "language_info": {
   "codemirror_mode": {
    "name": "ipython",
    "version": 3
   },
   "file_extension": ".py",
   "mimetype": "text/x-python",
   "name": "python",
   "nbconvert_exporter": "python",
   "pygments_lexer": "ipython3",
   "version": "3.9.12"
  }
 },
 "nbformat": 4,
 "nbformat_minor": 5
}
