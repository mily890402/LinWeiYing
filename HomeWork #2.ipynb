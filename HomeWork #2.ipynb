{
 "cells": [
  {
   "cell_type": "code",
   "execution_count": 1,
   "id": "16370443",
   "metadata": {},
   "outputs": [],
   "source": [
    "# The mathematical building blocks of neural networks"
   ]
  },
  {
   "cell_type": "code",
   "execution_count": 1,
   "id": "7c8133f9",
   "metadata": {},
   "outputs": [
    {
     "data": {
      "text/plain": [
       "((60000, 28, 28),\n",
       " 60000,\n",
       " array([5, 0, 4, ..., 5, 6, 8], dtype=uint8),\n",
       " (10000, 28, 28),\n",
       " 10000,\n",
       " array([7, 2, 1, ..., 4, 5, 6], dtype=uint8))"
      ]
     },
     "execution_count": 1,
     "metadata": {},
     "output_type": "execute_result"
    }
   ],
   "source": [
    "# Loading the MNIST datasetin Keras\n",
    "from tensorflow.keras.datasets import mnist\n",
    "(train_images, train_labels), (test_images, test_labels) = mnist.load_data()\n",
    "train_images.shape, len(train_labels), train_labels, test_images.shape, len(test_labels), test_labels"
   ]
  },
  {
   "cell_type": "code",
   "execution_count": 2,
   "id": "fe479108",
   "metadata": {},
   "outputs": [
    {
     "data": {
      "text/plain": [
       "array([[  0,   0,   0,   0,   0,   0,   0,   0,   0,   0,   0,   0,   0,\n",
       "          0,   0,   0,   0,   0,   0,   0,   0,   0,   0,   0,   0,   0,\n",
       "          0,   0],\n",
       "       [  0,   0,   0,   0,   0,   0,   0,   0,   0,   0,   0,   0,   0,\n",
       "          0,   0,   0,   0,   0,   0,   0,   0,   0,   0,   0,   0,   0,\n",
       "          0,   0],\n",
       "       [  0,   0,   0,   0,   0,   0,   0,   0,   0,   0,   0,   0,   0,\n",
       "          0,   0,   0,   0,   0,   0,   0,   0,   0,   0,   0,   0,   0,\n",
       "          0,   0],\n",
       "       [  0,   0,   0,   0,   0,   0,   0,   0,   0,   0,   0,   0,   0,\n",
       "          0,   0,   0,   0,   0,   0,   0,   0,   0,   0,   0,   0,   0,\n",
       "          0,   0],\n",
       "       [  0,   0,   0,   0,   0,   0,   0,   0,   0,   0,   0,   0,   0,\n",
       "          0,   0,   0,   0,   0,   0,   0,   0,   0,   0,   0,   0,   0,\n",
       "          0,   0],\n",
       "       [  0,   0,   0,   0,   0,   0,   0,   0,   0,   0,  47, 156, 205,\n",
       "        254, 255, 112,   0,   0,   0,   0,   0,   0,   0,   0,   0,   0,\n",
       "          0,   0],\n",
       "       [  0,   0,   0,   0,   0,   0,   0,   0,  53, 208, 245, 253, 253,\n",
       "        253, 240, 249,  50,   0,   0,   0,   0,   0,   0,   0,   0,   0,\n",
       "          0,   0],\n",
       "       [  0,   0,   0,   0,   0,   0,   1,  73, 242, 248, 212, 128,  56,\n",
       "         56, 122, 253,  94,   0,   0,   0,   0,   0,   0,   0,   0,   0,\n",
       "          0,   0],\n",
       "       [  0,   0,   0,   0,   0,   0, 101, 253, 211,  64,   0,   0,   0,\n",
       "          0,  66, 253, 212,   0,   0,   0,   0,   0,   0,   0,   0,   0,\n",
       "          0,   0],\n",
       "       [  0,   0,   0,   0,   0,   0, 126, 143,  15,   0,   0,   0,   0,\n",
       "          0,  66, 253, 226,   0,   0,   0,   0,   0,   0,   0,   0,   0,\n",
       "          0,   0],\n",
       "       [  0,   0,   0,   0,   0,   0,   0,   0,   0,   0,   0,   0,   0,\n",
       "          0, 115, 253, 142,   0,   0,   0,   0,   0,   0,   0,   0,   0,\n",
       "          0,   0],\n",
       "       [  0,   0,   0,   0,   0,   0,   0,   0,   0,   0,   0,   0,   0,\n",
       "         32, 254, 253, 119,   0,   0,   0,   0,   0,   0,   0,   0,   0,\n",
       "          0,   0],\n",
       "       [  0,   0,   0,   0,   0,   0,   0,   0,   0,   0,   0,   0,   7,\n",
       "        129, 254, 253, 252, 244,  95,   0,   0,   0,   0,   0,   0,   0,\n",
       "          0,   0],\n",
       "       [  0,   0,   0,   0,   0,   0,   0,   0,   0,   0,   0,   0, 120,\n",
       "        253, 254, 238, 225, 253, 246,  50,   0,   0,   0,   0,   0,   0,\n",
       "          0,   0],\n",
       "       [  0,   0,   0,   0,   0,   0,   0,   0,   0,   0,   0,  42, 243,\n",
       "        218,  66,  32,   3, 121, 253, 175,   0,   0,   0,   0,   0,   0,\n",
       "          0,   0],\n",
       "       [  0,   0,   0,   0,   0,   0,   0,   0,   0,   0,   0,   0, 116,\n",
       "         60,   0,   0,   0,   0, 236, 247,  47,   0,   0,   0,   0,   0,\n",
       "          0,   0],\n",
       "       [  0,   0,   0,   0,   0,   0,   0,   0,   0,   0,   0,   0,   0,\n",
       "          0,   0,   0,   0,   0, 103, 253, 135,   2,   0,   0,   0,   0,\n",
       "          0,   0],\n",
       "       [  0,   0,   0,   0,   0,   0,   0,   0,   0,   0,   0,   0,   0,\n",
       "          0,   0,   0,   0,   0,  28, 230, 253,  47,   0,   0,   0,   0,\n",
       "          0,   0],\n",
       "       [  0,   0,   0,   0,   0,   0,   0,   0,   0,   0,   0,   0,   0,\n",
       "          0,   0,   0,   0,   0,   0, 113, 253, 103,   0,   0,   0,   0,\n",
       "          0,   0],\n",
       "       [  0,   0,   0,   0,   0,   0,   0,   0,   0,   0,   0,   0,   0,\n",
       "          0,   0,   0,   0,   0,  97, 243, 237,  14,   0,   0,   0,   0,\n",
       "          0,   0],\n",
       "       [  0,   0,   0,   0,   0,   0,   0,   0,   0,   2,  19,  15,   0,\n",
       "          0,   0,   0,   0,   6, 184, 251, 155,   0,   0,   0,   0,   0,\n",
       "          0,   0],\n",
       "       [  0,   0,   0,   0,   0,   0,   0,   0,   0,  86, 253, 236,  26,\n",
       "          0,   0,   0,  35, 169, 253, 167,   0,   0,   0,   0,   0,   0,\n",
       "          0,   0],\n",
       "       [  0,   0,   0,   0,   0,   0,   0,   0,   0,  53, 236, 253,  79,\n",
       "          0,  96, 199, 248, 253, 169,  22,   0,   0,   0,   0,   0,   0,\n",
       "          0,   0],\n",
       "       [  0,   0,   0,   0,   0,   0,   0,   0,   0,   0,  89, 252, 249,\n",
       "        216, 240, 248, 221, 103,  17,   0,   0,   0,   0,   0,   0,   0,\n",
       "          0,   0],\n",
       "       [  0,   0,   0,   0,   0,   0,   0,   0,   0,   0,   0,  84, 239,\n",
       "        253, 170,  56,   0,   0,   0,   0,   0,   0,   0,   0,   0,   0,\n",
       "          0,   0],\n",
       "       [  0,   0,   0,   0,   0,   0,   0,   0,   0,   0,   0,   0,   0,\n",
       "          0,   0,   0,   0,   0,   0,   0,   0,   0,   0,   0,   0,   0,\n",
       "          0,   0],\n",
       "       [  0,   0,   0,   0,   0,   0,   0,   0,   0,   0,   0,   0,   0,\n",
       "          0,   0,   0,   0,   0,   0,   0,   0,   0,   0,   0,   0,   0,\n",
       "          0,   0],\n",
       "       [  0,   0,   0,   0,   0,   0,   0,   0,   0,   0,   0,   0,   0,\n",
       "          0,   0,   0,   0,   0,   0,   0,   0,   0,   0,   0,   0,   0,\n",
       "          0,   0]], dtype=uint8)"
      ]
     },
     "execution_count": 2,
     "metadata": {},
     "output_type": "execute_result"
    }
   ],
   "source": [
    "# Data Visualization 查看第30000張\n",
    "x= train_images[30000]\n",
    "x"
   ]
  },
  {
   "cell_type": "code",
   "execution_count": 3,
   "id": "d3835d03",
   "metadata": {},
   "outputs": [
    {
     "name": "stdout",
     "output_type": "stream",
     "text": [
      "  0  0  0  0  0  0  0  0  0  0  0  0  0  0  0  0  0  0  0  0  0  0  0  0  0  0  0  0\n",
      "  0  0  0  0  0  0  0  0  0  0  0  0  0  0  0  0  0  0  0  0  0  0  0  0  0  0  0  0\n",
      "  0  0  0  0  0  0  0  0  0  0  0  0  0  0  0  0  0  0  0  0  0  0  0  0  0  0  0  0\n",
      "  0  0  0  0  0  0  0  0  0  0  0  0  0  0  0  0  0  0  0  0  0  0  0  0  0  0  0  0\n",
      "  0  0  0  0  0  0  0  0  0  0  0  0  0  0  0  0  0  0  0  0  0  0  0  0  0  0  0  0\n",
      "  0  0  0  0  0  0  0  0  0  0 47156205254255112  0  0  0  0  0  0  0  0  0  0  0  0\n",
      "  0  0  0  0  0  0  0  0 53208245253253253240249 50  0  0  0  0  0  0  0  0  0  0  0\n",
      "  0  0  0  0  0  0  1 73242248212128 56 56122253 94  0  0  0  0  0  0  0  0  0  0  0\n",
      "  0  0  0  0  0  0101253211 64  0  0  0  0 66253212  0  0  0  0  0  0  0  0  0  0  0\n",
      "  0  0  0  0  0  0126143 15  0  0  0  0  0 66253226  0  0  0  0  0  0  0  0  0  0  0\n",
      "  0  0  0  0  0  0  0  0  0  0  0  0  0  0115253142  0  0  0  0  0  0  0  0  0  0  0\n",
      "  0  0  0  0  0  0  0  0  0  0  0  0  0 32254253119  0  0  0  0  0  0  0  0  0  0  0\n",
      "  0  0  0  0  0  0  0  0  0  0  0  0  7129254253252244 95  0  0  0  0  0  0  0  0  0\n",
      "  0  0  0  0  0  0  0  0  0  0  0  0120253254238225253246 50  0  0  0  0  0  0  0  0\n",
      "  0  0  0  0  0  0  0  0  0  0  0 42243218 66 32  3121253175  0  0  0  0  0  0  0  0\n",
      "  0  0  0  0  0  0  0  0  0  0  0  0116 60  0  0  0  0236247 47  0  0  0  0  0  0  0\n",
      "  0  0  0  0  0  0  0  0  0  0  0  0  0  0  0  0  0  0103253135  2  0  0  0  0  0  0\n",
      "  0  0  0  0  0  0  0  0  0  0  0  0  0  0  0  0  0  0 28230253 47  0  0  0  0  0  0\n",
      "  0  0  0  0  0  0  0  0  0  0  0  0  0  0  0  0  0  0  0113253103  0  0  0  0  0  0\n",
      "  0  0  0  0  0  0  0  0  0  0  0  0  0  0  0  0  0  0 97243237 14  0  0  0  0  0  0\n",
      "  0  0  0  0  0  0  0  0  0  2 19 15  0  0  0  0  0  6184251155  0  0  0  0  0  0  0\n",
      "  0  0  0  0  0  0  0  0  0 86253236 26  0  0  0 35169253167  0  0  0  0  0  0  0  0\n",
      "  0  0  0  0  0  0  0  0  0 53236253 79  0 96199248253169 22  0  0  0  0  0  0  0  0\n",
      "  0  0  0  0  0  0  0  0  0  0 89252249216240248221103 17  0  0  0  0  0  0  0  0  0\n",
      "  0  0  0  0  0  0  0  0  0  0  0 84239253170 56  0  0  0  0  0  0  0  0  0  0  0  0\n",
      "  0  0  0  0  0  0  0  0  0  0  0  0  0  0  0  0  0  0  0  0  0  0  0  0  0  0  0  0\n",
      "  0  0  0  0  0  0  0  0  0  0  0  0  0  0  0  0  0  0  0  0  0  0  0  0  0  0  0  0\n",
      "  0  0  0  0  0  0  0  0  0  0  0  0  0  0  0  0  0  0  0  0  0  0  0  0  0  0  0  0\n"
     ]
    }
   ],
   "source": [
    "x= train_images[30000]\n",
    "#%%\n",
    "for i in range(28):\n",
    "    for j in range(28):\n",
    "        z= x[i,j]\n",
    "        print(f'{z:3d}', end='')\n",
    "    print()"
   ]
  },
  {
   "cell_type": "code",
   "execution_count": 4,
   "id": "9b38345a",
   "metadata": {},
   "outputs": [
    {
     "data": {
      "text/plain": [
       "<matplotlib.image.AxesImage at 0x15384aaec70>"
      ]
     },
     "execution_count": 4,
     "metadata": {},
     "output_type": "execute_result"
    },
    {
     "data": {
      "image/png": "[encoded data removed]",
      "text/plain": [
       "<Figure size 432x288 with 1 Axes>"
      ]
     },
     "metadata": {
      "needs_background": "light"
     },
     "output_type": "display_data"
    }
   ],
   "source": [
    "import matplotlib.pyplot as pl\n",
    "pl.imshow(x)"
   ]
  },
  {
   "cell_type": "code",
   "execution_count": 5,
   "id": "bef66f2d",
   "metadata": {},
   "outputs": [
    {
     "data": {
      "image/png": "[encoded data removed]",
      "text/plain": [
       "<Figure size 432x288 with 1 Axes>"
      ]
     },
     "metadata": {
      "needs_background": "light"
     },
     "output_type": "display_data"
    }
   ],
   "source": [
    "import matplotlib.pyplot as plt\n",
    "digit = train_images[30000]\n",
    "plt.imshow(digit, cmap=plt.cm.binary)\n",
    "plt.show()"
   ]
  },
  {
   "cell_type": "code",
   "execution_count": 6,
   "id": "8a0b6f28",
   "metadata": {},
   "outputs": [
    {
     "name": "stdout",
     "output_type": "stream",
     "text": [
      "y = 3\n"
     ]
    }
   ],
   "source": [
    "y= train_labels[30000]\n",
    "print(f'{y = }')"
   ]
  },
  {
   "cell_type": "code",
   "execution_count": 7,
   "id": "8c09b855",
   "metadata": {},
   "outputs": [],
   "source": [
    "# Preparing the image data\n",
    "train_images = train_images.reshape((60000, 28 * 28))\n",
    "train_images = train_images.astype(\"float32\") / 255\n",
    "test_images = test_images.reshape((10000, 28 * 28))\n",
    "test_images = test_images.astype(\"float32\") / 255"
   ]
  },
  {
   "cell_type": "code",
   "execution_count": 8,
   "id": "ead25fbe",
   "metadata": {},
   "outputs": [
    {
     "name": "stdout",
     "output_type": "stream",
     "text": [
      "1875/1875 [==============================] - 7s 3ms/step - loss: 6.0970 - accuracy: 0.1502\n",
      "1875/1875 [==============================] - 2s 1ms/step - loss: 5.8290 - accuracy: 0.1964\n"
     ]
    },
    {
     "data": {
      "text/plain": [
       "[5.828952789306641, 0.1964000016450882]"
      ]
     },
     "execution_count": 8,
     "metadata": {},
     "output_type": "execute_result"
    }
   ],
   "source": [
    "# The network architecture\n",
    "from tensorflow import keras\n",
    "from tensorflow.keras import layers\n",
    "my_model = keras.Sequential([\n",
    "    layers.Dense(512),\n",
    "])\n",
    "\n",
    "# The compilation step\n",
    "my_model.compile(loss=\"sparse_categorical_crossentropy\",\n",
    "              metrics=[\"accuracy\"])\n",
    "# \"Fitting\" the model\n",
    "\n",
    "my_model.fit(train_images, train_labels)\n",
    "my_model.evaluate(train_images, train_labels)"
   ]
  },
  {
   "cell_type": "code",
   "execution_count": 9,
   "id": "b1325ddc",
   "metadata": {},
   "outputs": [
    {
     "name": "stdout",
     "output_type": "stream",
     "text": [
      "Epoch 1/5\n",
      "2143/2143 [==============================] - 9s 4ms/step - loss: 4.8275 - accuracy: 0.1128\n",
      "Epoch 2/5\n",
      "2143/2143 [==============================] - 8s 4ms/step - loss: 4.7350 - accuracy: 0.1248\n",
      "Epoch 3/5\n",
      "2143/2143 [==============================] - 8s 4ms/step - loss: 4.6212 - accuracy: 0.1489\n",
      "Epoch 4/5\n",
      "2143/2143 [==============================] - 8s 4ms/step - loss: 4.6085 - accuracy: 0.1520\n",
      "Epoch 5/5\n",
      "2143/2143 [==============================] - 8s 4ms/step - loss: 4.6229 - accuracy: 0.1488\n",
      "1875/1875 [==============================] - 2s 1ms/step - loss: 4.4788 - accuracy: 0.1822\n"
     ]
    },
    {
     "data": {
      "text/plain": [
       "[4.47876501083374, 0.18223333358764648]"
      ]
     },
     "execution_count": 9,
     "metadata": {},
     "output_type": "execute_result"
    }
   ],
   "source": [
    "# The network architecture\n",
    "# 看看加一層 Dense(128, activation=\"relu\") 和 epochs=5, batch_size=28 會如何\n",
    "from tensorflow import keras\n",
    "from tensorflow.keras import layers\n",
    "my_model = keras.Sequential([\n",
    "    layers.Dense(512, activation=\"relu\"),\n",
    "    layers.Dense(128, activation=\"relu\")\n",
    "])\n",
    "\n",
    "# The compilation step\n",
    "my_model.compile(loss=\"sparse_categorical_crossentropy\",\n",
    "              metrics=[\"accuracy\"])\n",
    "\n",
    "# \"Fitting\" the model\n",
    "my_model.fit(train_images, train_labels, epochs=5, batch_size=28)\n",
    "my_model.evaluate(train_images, train_labels)"
   ]
  },
  {
   "cell_type": "code",
   "execution_count": 10,
   "id": "3b82d0f5",
   "metadata": {},
   "outputs": [
    {
     "name": "stdout",
     "output_type": "stream",
     "text": [
      "Epoch 1/5\n",
      "2143/2143 [==============================] - 8s 4ms/step - loss: 0.2108 - accuracy: 0.9383\n",
      "Epoch 2/5\n",
      "2143/2143 [==============================] - 8s 4ms/step - loss: 0.0936 - accuracy: 0.9725\n",
      "Epoch 3/5\n",
      "2143/2143 [==============================] - 8s 4ms/step - loss: 0.0684 - accuracy: 0.9811\n",
      "Epoch 4/5\n",
      "2143/2143 [==============================] - 8s 4ms/step - loss: 0.0552 - accuracy: 0.9850\n",
      "Epoch 5/5\n",
      "2143/2143 [==============================] - 8s 4ms/step - loss: 0.0433 - accuracy: 0.9881\n",
      "1875/1875 [==============================] - 2s 1ms/step - loss: 0.0318 - accuracy: 0.9911\n"
     ]
    },
    {
     "data": {
      "text/plain": [
       "[0.03177785873413086, 0.991100013256073]"
      ]
     },
     "execution_count": 10,
     "metadata": {},
     "output_type": "execute_result"
    }
   ],
   "source": [
    "# The network architecture\n",
    "# 看看加一層 Dense(100, activation=\"softmax\") 和 epochs=5, batch_size=28 會如何\n",
    "from tensorflow import keras\n",
    "from tensorflow.keras import layers\n",
    "my_model = keras.Sequential([\n",
    "    layers.Dense(512, activation=\"relu\"),\n",
    "    layers.Dense(100, activation=\"softmax\")\n",
    "])\n",
    "\n",
    "# The compilation step\n",
    "my_model.compile(optimizer=\"rmsprop\",\n",
    "              loss=\"sparse_categorical_crossentropy\",\n",
    "              metrics=[\"accuracy\"])\n",
    "\n",
    "# \"Fitting\" the model\n",
    "my_model.fit(train_images, train_labels, epochs=5, batch_size=28)\n",
    "my_model.evaluate(train_images, train_labels)"
   ]
  },
  {
   "cell_type": "code",
   "execution_count": 14,
   "id": "8c241e76",
   "metadata": {},
   "outputs": [
    {
     "name": "stdout",
     "output_type": "stream",
     "text": [
      "Epoch 1/10\n",
      "469/469 [==============================] - 1s 2ms/step - loss: 0.4070 - accuracy: 0.8846\n",
      "Epoch 2/10\n",
      "469/469 [==============================] - 1s 2ms/step - loss: 0.1930 - accuracy: 0.9437\n",
      "Epoch 3/10\n",
      "469/469 [==============================] - 1s 2ms/step - loss: 0.1453 - accuracy: 0.9570\n",
      "Epoch 4/10\n",
      "469/469 [==============================] - 1s 2ms/step - loss: 0.1199 - accuracy: 0.9642\n",
      "Epoch 5/10\n",
      "469/469 [==============================] - 1s 2ms/step - loss: 0.1004 - accuracy: 0.9707\n",
      "Epoch 6/10\n",
      "469/469 [==============================] - 1s 2ms/step - loss: 0.0885 - accuracy: 0.9736\n",
      "Epoch 7/10\n",
      "469/469 [==============================] - 1s 2ms/step - loss: 0.0800 - accuracy: 0.9760\n",
      "Epoch 8/10\n",
      "469/469 [==============================] - 1s 2ms/step - loss: 0.0692 - accuracy: 0.9791\n",
      "Epoch 9/10\n",
      "469/469 [==============================] - 1s 2ms/step - loss: 0.0668 - accuracy: 0.9789\n",
      "Epoch 10/10\n",
      "469/469 [==============================] - 1s 2ms/step - loss: 0.0604 - accuracy: 0.9811\n",
      "1875/1875 [==============================] - 1s 697us/step - loss: 0.0326 - accuracy: 0.9907\n"
     ]
    },
    {
     "data": {
      "text/plain": [
       "[0.03257378935813904, 0.9906666874885559]"
      ]
     },
     "execution_count": 14,
     "metadata": {},
     "output_type": "execute_result"
    }
   ],
   "source": [
    "# The network architecture\n",
    "# 看看 input_shape=(28*28,) 和 epochs=10, batch_size=128, Dropout(0.2) 會如何\n",
    "from tensorflow import keras\n",
    "from tensorflow.keras import layers\n",
    "my_model = keras.Sequential([\n",
    "    layers.Dense(128, activation=\"relu\",input_shape=(28*28,)),\n",
    "    keras.layers.Dropout(0.2), \n",
    "    keras.layers.Dense(10,  activation= 'softmax')\n",
    "])\n",
    "\n",
    "# The compilation step\n",
    "my_model.compile(optimizer=\"adam\",\n",
    "              loss=\"sparse_categorical_crossentropy\",\n",
    "              metrics=[\"accuracy\"])\n",
    "\n",
    "# \"Fitting\" the model\n",
    "my_model.fit(train_images, train_labels, epochs=10, batch_size=128)\n",
    "my_model.evaluate(train_images, train_labels)"
   ]
  },
  {
   "cell_type": "code",
   "execution_count": 15,
   "id": "ffb9b3b9",
   "metadata": {},
   "outputs": [
    {
     "name": "stdout",
     "output_type": "stream",
     "text": [
      "1/1 [==============================] - 0s 66ms/step\n",
      "[9.5387485e-09 1.7427446e-08 6.2089334e-06 2.4748856e-04 6.9996994e-11\n",
      " 1.3434952e-07 2.0048947e-13 9.9972492e-01 2.3671495e-07 2.1028924e-05]\n",
      "7\n",
      "0.9997249\n",
      "7\n",
      "313/313 [==============================] - 0s 784us/step - loss: 0.0690 - accuracy: 0.9784\n",
      "test_acc: 0.9783999919891357\n"
     ]
    }
   ],
   "source": [
    "# Using the model to make predictions\n",
    "\n",
    "test_digits = test_images[0:10]\n",
    "predictions = my_model.predict(test_digits)\n",
    "print(predictions[0])\n",
    "print(predictions[0].argmax())\n",
    "print(predictions[0][7])\n",
    "print(test_labels[0])\n",
    "\n",
    "# Evaluating the model on new data\n",
    "\n",
    "test_loss, test_acc = my_model.evaluate(test_images, test_labels)\n",
    "print(f\"test_acc: {test_acc}\")"
   ]
  },
  {
   "cell_type": "code",
   "execution_count": 16,
   "id": "516ac470",
   "metadata": {},
   "outputs": [
    {
     "data": {
      "text/plain": [
       "0"
      ]
     },
     "execution_count": 16,
     "metadata": {},
     "output_type": "execute_result"
    }
   ],
   "source": [
    "# Data representations for neural networks\n",
    "import numpy as np\n",
    "x = np.array(12)\n",
    "x.ndim"
   ]
  },
  {
   "cell_type": "code",
   "execution_count": 17,
   "id": "e94c912d",
   "metadata": {},
   "outputs": [
    {
     "data": {
      "text/plain": [
       "1"
      ]
     },
     "execution_count": 17,
     "metadata": {},
     "output_type": "execute_result"
    }
   ],
   "source": [
    "# Vectors\n",
    "x = np.array([12, 3, 6, 14, 7])\n",
    "x.ndim"
   ]
  },
  {
   "cell_type": "code",
   "execution_count": 18,
   "id": "b89242b4",
   "metadata": {},
   "outputs": [
    {
     "name": "stdout",
     "output_type": "stream",
     "text": [
      "2\n",
      "[[ 5 78  2]\n",
      " [34  0  6]\n",
      " [79  3 35]\n",
      " [ 1  7 80]\n",
      " [ 4 36  2]]\n",
      "2\n"
     ]
    }
   ],
   "source": [
    "# Matrices\n",
    "x = np.array([[5, 78, 2, 34, 0],\n",
    " [6, 79, 3, 35, 1],\n",
    " [7, 80, 4, 36, 2]])\n",
    "print(x.ndim)\n",
    "x1 = x.reshape(5,3)\n",
    "print(x1)\n",
    "print(x1.ndim)"
   ]
  },
  {
   "cell_type": "code",
   "execution_count": 19,
   "id": "71729345",
   "metadata": {},
   "outputs": [
    {
     "data": {
      "text/plain": [
       "3"
      ]
     },
     "execution_count": 19,
     "metadata": {},
     "output_type": "execute_result"
    }
   ],
   "source": [
    "# Rank-3 and higher-rank tensors\n",
    "x = np.array([[[5, 78, 2, 34, 0],\n",
    " [6, 79, 3, 35, 1],\n",
    " [7, 80, 4, 36, 2]],\n",
    " [[5, 78, 2, 34, 0],\n",
    " [6, 79, 3, 35, 1],\n",
    " [7, 80, 4, 36, 2]],\n",
    " [[5, 78, 2, 34, 0],\n",
    " [6, 79, 3, 35, 1],\n",
    " [7, 80, 4, 36, 2]]])\n",
    "x.ndim "
   ]
  },
  {
   "cell_type": "code",
   "execution_count": 20,
   "id": "9e92f2a8",
   "metadata": {},
   "outputs": [
    {
     "name": "stdout",
     "output_type": "stream",
     "text": [
      "3\n",
      "(60000, 28, 28)\n",
      "uint8\n",
      "47040000\n",
      "47040000\n"
     ]
    }
   ],
   "source": [
    "# Key attributes\n",
    "from tensorflow.keras.datasets import mnist\n",
    "(train_images, train_labels), (test_images, test_labels) = mnist.load_data()\n",
    "print(train_images.ndim)\n",
    "print(train_images.shape)\n",
    "print(train_images.dtype)\n",
    "print(train_images.size)\n",
    "print(train_images.nbytes)"
   ]
  },
  {
   "cell_type": "code",
   "execution_count": 21,
   "id": "56cefb2f",
   "metadata": {},
   "outputs": [
    {
     "name": "stdout",
     "output_type": "stream",
     "text": [
      "(90, 28, 28)\n",
      "(90, 28, 28)\n"
     ]
    }
   ],
   "source": [
    "# Manipulating tensors in NumPy\n",
    "my_slice = train_images[10:100, :, :]\n",
    "print(my_slice.shape)\n",
    "my_slice = train_images[10:100, 0:28, 0:28]\n",
    "print(my_slice.shape)"
   ]
  },
  {
   "cell_type": "code",
   "execution_count": 22,
   "id": "b4467852",
   "metadata": {},
   "outputs": [
    {
     "data": {
      "image/png": "[encoded data removed]",
      "text/plain": [
       "<Figure size 432x288 with 1 Axes>"
      ]
     },
     "metadata": {
      "needs_background": "light"
     },
     "output_type": "display_data"
    }
   ],
   "source": [
    "# The fourth sample in our dataset\n",
    "import matplotlib.pyplot as plt\n",
    "digit = train_images[4]\n",
    "plt.imshow(digit, cmap=plt.cm.binary)\n",
    "plt.show()"
   ]
  },
  {
   "cell_type": "code",
   "execution_count": 23,
   "id": "f6ff3012",
   "metadata": {},
   "outputs": [
    {
     "data": {
      "text/plain": [
       "9"
      ]
     },
     "execution_count": 23,
     "metadata": {},
     "output_type": "execute_result"
    }
   ],
   "source": [
    "train_labels[4] "
   ]
  },
  {
   "cell_type": "code",
   "execution_count": 24,
   "id": "1bd1af4c",
   "metadata": {},
   "outputs": [
    {
     "data": {
      "text/plain": [
       "array([[[240, 253, 253, ...,   0,   0,   0],\n",
       "        [ 45, 186, 253, ...,   0,   0,   0],\n",
       "        [  0,  16,  93, ...,   0,   0,   0],\n",
       "        ...,\n",
       "        [  0,   0,   0, ...,   0,   0,   0],\n",
       "        [  0,   0,   0, ...,   0,   0,   0],\n",
       "        [  0,   0,   0, ...,   0,   0,   0]],\n",
       "\n",
       "       [[  0,   0,   0, ...,   0,   0,   0],\n",
       "        [  0,   0,   0, ...,   0,   0,   0],\n",
       "        [  0,   0,   0, ...,   0,   0,   0],\n",
       "        ...,\n",
       "        [  0,   0,   0, ...,   0,   0,   0],\n",
       "        [  0,   0,   0, ...,   0,   0,   0],\n",
       "        [  0,   0,   0, ...,   0,   0,   0]],\n",
       "\n",
       "       [[241, 243, 234, ...,   0,   0,   0],\n",
       "        [143,  91,  28, ...,   0,   0,   0],\n",
       "        [  0,   0,   0, ...,   0,   0,   0],\n",
       "        ...,\n",
       "        [  0,   0,   0, ...,   0,   0,   0],\n",
       "        [  0,   0,   0, ...,   0,   0,   0],\n",
       "        [  0,   0,   0, ...,   0,   0,   0]],\n",
       "\n",
       "       ...,\n",
       "\n",
       "       [[253, 254, 253, ...,   0,   0,   0],\n",
       "        [ 72, 192, 254, ...,   0,   0,   0],\n",
       "        [  0,   6, 242, ...,   0,   0,   0],\n",
       "        ...,\n",
       "        [  0,   0,   0, ...,   0,   0,   0],\n",
       "        [  0,   0,   0, ...,   0,   0,   0],\n",
       "        [  0,   0,   0, ...,   0,   0,   0]],\n",
       "\n",
       "       [[  0,  31, 127, ...,   0,   0,   0],\n",
       "        [ 27, 218, 252, ...,   0,   0,   0],\n",
       "        [194, 253, 217, ...,   0,   0,   0],\n",
       "        ...,\n",
       "        [  0,   0,   0, ...,   0,   0,   0],\n",
       "        [  0,   0,   0, ...,   0,   0,   0],\n",
       "        [  0,   0,   0, ...,   0,   0,   0]],\n",
       "\n",
       "       [[ 97, 254, 252, ...,   0,   0,   0],\n",
       "        [232, 181,  60, ...,   0,   0,   0],\n",
       "        [ 46,   0,   0, ...,   0,   0,   0],\n",
       "        ...,\n",
       "        [  0,   0,   0, ...,   0,   0,   0],\n",
       "        [  0,   0,   0, ...,   0,   0,   0],\n",
       "        [  0,   0,   0, ...,   0,   0,   0]]], dtype=uint8)"
      ]
     },
     "execution_count": 24,
     "metadata": {},
     "output_type": "execute_result"
    }
   ],
   "source": [
    "my_slice = train_images[:, 14:, 14:]\n",
    "my_slice"
   ]
  },
  {
   "cell_type": "code",
   "execution_count": 25,
   "id": "b90ee869",
   "metadata": {},
   "outputs": [
    {
     "data": {
      "text/plain": [
       "array([[[ 49, 238, 253, ...,  93,  82,  82],\n",
       "        [ 18, 219, 253, ...,   0,   0,   0],\n",
       "        [  0,  80, 156, ...,   0,   0,   0],\n",
       "        ...,\n",
       "        [  0,   0,   0, ..., 253, 207,   2],\n",
       "        [  0,   0,   0, ..., 250, 182,   0],\n",
       "        [  0,   0,   0, ...,  78,   0,   0]],\n",
       "\n",
       "       [[  0,   0,   0, ...,  84, 252, 253],\n",
       "        [  0,   0,   0, ...,  96, 189, 253],\n",
       "        [  0,   0,   0, ...,  47,  79, 255],\n",
       "        ...,\n",
       "        [252, 145,   0, ..., 252, 173,   0],\n",
       "        [253, 225,   0, ..., 162,   0,   0],\n",
       "        [252, 249, 146, ...,  56,   0,   0]],\n",
       "\n",
       "       [[  0,   0,   0, ...,   0,   2, 153],\n",
       "        [  0,   0,   0, ...,   0,  27, 254],\n",
       "        [  0,   0,   0, ...,   0, 183, 254],\n",
       "        ...,\n",
       "        [  0,   0,   0, ..., 254,  57,   0],\n",
       "        [  0,   0,   0, ..., 254,  57,   0],\n",
       "        [  0,   0,   0, ..., 255,  94,   0]],\n",
       "\n",
       "       ...,\n",
       "\n",
       "       [[  0,   0,   0, ..., 223, 159, 131],\n",
       "        [  0,   0,   0, ...,  27,   0,   0],\n",
       "        [  0,   0,  54, ...,   0,   0,   0],\n",
       "        ...,\n",
       "        [  0,   0,   0, ..., 173,   0,   0],\n",
       "        [  0,   0,   0, ..., 173,   0,   0],\n",
       "        [  0,   0,   0, ...,  74,   0,   0]],\n",
       "\n",
       "       [[  0,   0,   0, ...,   0,   0,   0],\n",
       "        [  0,   0,   0, ...,   0,   0,   0],\n",
       "        [  0,   0,   0, ...,   0,   0,   0],\n",
       "        ...,\n",
       "        [247, 110,   0, ..., 146, 163,  63],\n",
       "        [236, 128,   0, ..., 178,  12,   0],\n",
       "        [239, 196, 169, ...,   0,   0,   0]],\n",
       "\n",
       "       [[  0,   0,   0, ..., 254, 212,  27],\n",
       "        [  0,   0,   0, ..., 218, 237, 248],\n",
       "        [  0,   0,   0, ...,   0,  92, 231],\n",
       "        ...,\n",
       "        [  0, 110, 254, ...,   0,   0,   0],\n",
       "        [131, 254, 154, ...,   0,   0,   0],\n",
       "        [209, 153,  19, ...,   0,   0,   0]]], dtype=uint8)"
      ]
     },
     "execution_count": 25,
     "metadata": {},
     "output_type": "execute_result"
    }
   ],
   "source": [
    "my_slice = train_images[:, 7:-7, 7:-7]\n",
    "my_slice"
   ]
  },
  {
   "cell_type": "code",
   "execution_count": 26,
   "id": "7702b0d5",
   "metadata": {},
   "outputs": [
    {
     "name": "stdout",
     "output_type": "stream",
     "text": [
      "[[[0 0 0 ... 0 0 0]\n",
      "  [0 0 0 ... 0 0 0]\n",
      "  [0 0 0 ... 0 0 0]\n",
      "  ...\n",
      "  [0 0 0 ... 0 0 0]\n",
      "  [0 0 0 ... 0 0 0]\n",
      "  [0 0 0 ... 0 0 0]]\n",
      "\n",
      " [[0 0 0 ... 0 0 0]\n",
      "  [0 0 0 ... 0 0 0]\n",
      "  [0 0 0 ... 0 0 0]\n",
      "  ...\n",
      "  [0 0 0 ... 0 0 0]\n",
      "  [0 0 0 ... 0 0 0]\n",
      "  [0 0 0 ... 0 0 0]]\n",
      "\n",
      " [[0 0 0 ... 0 0 0]\n",
      "  [0 0 0 ... 0 0 0]\n",
      "  [0 0 0 ... 0 0 0]\n",
      "  ...\n",
      "  [0 0 0 ... 0 0 0]\n",
      "  [0 0 0 ... 0 0 0]\n",
      "  [0 0 0 ... 0 0 0]]\n",
      "\n",
      " ...\n",
      "\n",
      " [[0 0 0 ... 0 0 0]\n",
      "  [0 0 0 ... 0 0 0]\n",
      "  [0 0 0 ... 0 0 0]\n",
      "  ...\n",
      "  [0 0 0 ... 0 0 0]\n",
      "  [0 0 0 ... 0 0 0]\n",
      "  [0 0 0 ... 0 0 0]]\n",
      "\n",
      " [[0 0 0 ... 0 0 0]\n",
      "  [0 0 0 ... 0 0 0]\n",
      "  [0 0 0 ... 0 0 0]\n",
      "  ...\n",
      "  [0 0 0 ... 0 0 0]\n",
      "  [0 0 0 ... 0 0 0]\n",
      "  [0 0 0 ... 0 0 0]]\n",
      "\n",
      " [[0 0 0 ... 0 0 0]\n",
      "  [0 0 0 ... 0 0 0]\n",
      "  [0 0 0 ... 0 0 0]\n",
      "  ...\n",
      "  [0 0 0 ... 0 0 0]\n",
      "  [0 0 0 ... 0 0 0]\n",
      "  [0 0 0 ... 0 0 0]]]\n"
     ]
    }
   ],
   "source": [
    "# The notion of data batches\n",
    "batch = train_images[:128]\n",
    "print(batch)"
   ]
  },
  {
   "cell_type": "code",
   "execution_count": 27,
   "id": "ae410659",
   "metadata": {},
   "outputs": [
    {
     "name": "stdout",
     "output_type": "stream",
     "text": [
      "[[[0 0 0 ... 0 0 0]\n",
      "  [0 0 0 ... 0 0 0]\n",
      "  [0 0 0 ... 0 0 0]\n",
      "  ...\n",
      "  [0 0 0 ... 0 0 0]\n",
      "  [0 0 0 ... 0 0 0]\n",
      "  [0 0 0 ... 0 0 0]]\n",
      "\n",
      " [[0 0 0 ... 0 0 0]\n",
      "  [0 0 0 ... 0 0 0]\n",
      "  [0 0 0 ... 0 0 0]\n",
      "  ...\n",
      "  [0 0 0 ... 0 0 0]\n",
      "  [0 0 0 ... 0 0 0]\n",
      "  [0 0 0 ... 0 0 0]]\n",
      "\n",
      " [[0 0 0 ... 0 0 0]\n",
      "  [0 0 0 ... 0 0 0]\n",
      "  [0 0 0 ... 0 0 0]\n",
      "  ...\n",
      "  [0 0 0 ... 0 0 0]\n",
      "  [0 0 0 ... 0 0 0]\n",
      "  [0 0 0 ... 0 0 0]]\n",
      "\n",
      " ...\n",
      "\n",
      " [[0 0 0 ... 0 0 0]\n",
      "  [0 0 0 ... 0 0 0]\n",
      "  [0 0 0 ... 0 0 0]\n",
      "  ...\n",
      "  [0 0 0 ... 0 0 0]\n",
      "  [0 0 0 ... 0 0 0]\n",
      "  [0 0 0 ... 0 0 0]]\n",
      "\n",
      " [[0 0 0 ... 0 0 0]\n",
      "  [0 0 0 ... 0 0 0]\n",
      "  [0 0 0 ... 0 0 0]\n",
      "  ...\n",
      "  [0 0 0 ... 0 0 0]\n",
      "  [0 0 0 ... 0 0 0]\n",
      "  [0 0 0 ... 0 0 0]]\n",
      "\n",
      " [[0 0 0 ... 0 0 0]\n",
      "  [0 0 0 ... 0 0 0]\n",
      "  [0 0 0 ... 0 0 0]\n",
      "  ...\n",
      "  [0 0 0 ... 0 0 0]\n",
      "  [0 0 0 ... 0 0 0]\n",
      "  [0 0 0 ... 0 0 0]]]\n"
     ]
    }
   ],
   "source": [
    "batch = train_images[128:256]\n",
    "print(batch)"
   ]
  },
  {
   "cell_type": "code",
   "execution_count": 28,
   "id": "9d1817f4",
   "metadata": {},
   "outputs": [
    {
     "name": "stdout",
     "output_type": "stream",
     "text": [
      "[[[0 0 0 ... 0 0 0]\n",
      "  [0 0 0 ... 0 0 0]\n",
      "  [0 0 0 ... 0 0 0]\n",
      "  ...\n",
      "  [0 0 0 ... 0 0 0]\n",
      "  [0 0 0 ... 0 0 0]\n",
      "  [0 0 0 ... 0 0 0]]\n",
      "\n",
      " [[0 0 0 ... 0 0 0]\n",
      "  [0 0 0 ... 0 0 0]\n",
      "  [0 0 0 ... 0 0 0]\n",
      "  ...\n",
      "  [0 0 0 ... 0 0 0]\n",
      "  [0 0 0 ... 0 0 0]\n",
      "  [0 0 0 ... 0 0 0]]\n",
      "\n",
      " [[0 0 0 ... 0 0 0]\n",
      "  [0 0 0 ... 0 0 0]\n",
      "  [0 0 0 ... 0 0 0]\n",
      "  ...\n",
      "  [0 0 0 ... 0 0 0]\n",
      "  [0 0 0 ... 0 0 0]\n",
      "  [0 0 0 ... 0 0 0]]\n",
      "\n",
      " ...\n",
      "\n",
      " [[0 0 0 ... 0 0 0]\n",
      "  [0 0 0 ... 0 0 0]\n",
      "  [0 0 0 ... 0 0 0]\n",
      "  ...\n",
      "  [0 0 0 ... 0 0 0]\n",
      "  [0 0 0 ... 0 0 0]\n",
      "  [0 0 0 ... 0 0 0]]\n",
      "\n",
      " [[0 0 0 ... 0 0 0]\n",
      "  [0 0 0 ... 0 0 0]\n",
      "  [0 0 0 ... 0 0 0]\n",
      "  ...\n",
      "  [0 0 0 ... 0 0 0]\n",
      "  [0 0 0 ... 0 0 0]\n",
      "  [0 0 0 ... 0 0 0]]\n",
      "\n",
      " [[0 0 0 ... 0 0 0]\n",
      "  [0 0 0 ... 0 0 0]\n",
      "  [0 0 0 ... 0 0 0]\n",
      "  ...\n",
      "  [0 0 0 ... 0 0 0]\n",
      "  [0 0 0 ... 0 0 0]\n",
      "  [0 0 0 ... 0 0 0]]]\n"
     ]
    }
   ],
   "source": [
    "n = 3\n",
    "batch = train_images[128 * n:128 * (n + 1)]\n",
    "print(batch)"
   ]
  },
  {
   "cell_type": "code",
   "execution_count": 29,
   "id": "db5ba17c",
   "metadata": {},
   "outputs": [],
   "source": [
    "# Element-wise operations\n",
    "def naive_relu(x):\n",
    "    assert len(x.shape) == 2\n",
    "    x = x.copy()\n",
    "    for i in range(x.shape[0]):\n",
    "        for j in range(x.shape[1]):\n",
    "            x[i, j] = max(x[i, j], 0)\n",
    "    return x"
   ]
  },
  {
   "cell_type": "code",
   "execution_count": 30,
   "id": "e3f629da",
   "metadata": {},
   "outputs": [],
   "source": [
    "def naive_add(x, y):\n",
    "    assert len(x.shape) == 2\n",
    "    assert x.shape == y.shape\n",
    "    x = x.copy()\n",
    "    for i in range(x.shape[0]):\n",
    "        for j in range(x.shape[1]):\n",
    "            x[i, j] += y[i, j]\n",
    "    return x"
   ]
  },
  {
   "cell_type": "code",
   "execution_count": 31,
   "id": "052c6205",
   "metadata": {},
   "outputs": [
    {
     "name": "stdout",
     "output_type": "stream",
     "text": [
      "Took: 0.00 s\n"
     ]
    }
   ],
   "source": [
    "import time\n",
    "\n",
    "x = np.random.random((20, 100))\n",
    "y = np.random.random((20, 100))\n",
    "\n",
    "t0 = time.time()\n",
    "for _ in range(1000):\n",
    "    z = x + y\n",
    "    z = np.maximum(z, 0.)\n",
    "print(\"Took: {0:.2f} s\".format(time.time() - t0))"
   ]
  },
  {
   "cell_type": "code",
   "execution_count": 32,
   "id": "b3dc8851",
   "metadata": {},
   "outputs": [
    {
     "name": "stdout",
     "output_type": "stream",
     "text": [
      "Took: 1.42 s\n"
     ]
    }
   ],
   "source": [
    "t0 = time.time()\n",
    "for _ in range(1000):\n",
    "    z = naive_add(x, y)\n",
    "    z = naive_relu(z)\n",
    "print(\"Took: {0:.2f} s\".format(time.time() - t0))"
   ]
  },
  {
   "cell_type": "code",
   "execution_count": 33,
   "id": "f77b2655",
   "metadata": {},
   "outputs": [],
   "source": [
    "# Broadcasting\n",
    "import numpy as np\n",
    "X = np.random.random((32, 10))\n",
    "y = np.random.random((10,))"
   ]
  },
  {
   "cell_type": "code",
   "execution_count": 34,
   "id": "ed5c8b16",
   "metadata": {},
   "outputs": [
    {
     "data": {
      "text/plain": [
       "array([[0.53263933, 0.43944265, 0.69845406, 0.91099923, 0.26571768,\n",
       "        0.56661966, 0.25139079, 0.34141035, 0.7487109 , 0.86949917]])"
      ]
     },
     "execution_count": 34,
     "metadata": {},
     "output_type": "execute_result"
    }
   ],
   "source": [
    "y = np.expand_dims(y, axis=0)\n",
    "y"
   ]
  },
  {
   "cell_type": "code",
   "execution_count": 35,
   "id": "cdd389dc",
   "metadata": {},
   "outputs": [
    {
     "data": {
      "text/plain": [
       "array([[0.53263933, 0.43944265, 0.69845406, 0.91099923, 0.26571768,\n",
       "        0.56661966, 0.25139079, 0.34141035, 0.7487109 , 0.86949917],\n",
       "       [0.53263933, 0.43944265, 0.69845406, 0.91099923, 0.26571768,\n",
       "        0.56661966, 0.25139079, 0.34141035, 0.7487109 , 0.86949917],\n",
       "       [0.53263933, 0.43944265, 0.69845406, 0.91099923, 0.26571768,\n",
       "        0.56661966, 0.25139079, 0.34141035, 0.7487109 , 0.86949917],\n",
       "       [0.53263933, 0.43944265, 0.69845406, 0.91099923, 0.26571768,\n",
       "        0.56661966, 0.25139079, 0.34141035, 0.7487109 , 0.86949917],\n",
       "       [0.53263933, 0.43944265, 0.69845406, 0.91099923, 0.26571768,\n",
       "        0.56661966, 0.25139079, 0.34141035, 0.7487109 , 0.86949917],\n",
       "       [0.53263933, 0.43944265, 0.69845406, 0.91099923, 0.26571768,\n",
       "        0.56661966, 0.25139079, 0.34141035, 0.7487109 , 0.86949917],\n",
       "       [0.53263933, 0.43944265, 0.69845406, 0.91099923, 0.26571768,\n",
       "        0.56661966, 0.25139079, 0.34141035, 0.7487109 , 0.86949917],\n",
       "       [0.53263933, 0.43944265, 0.69845406, 0.91099923, 0.26571768,\n",
       "        0.56661966, 0.25139079, 0.34141035, 0.7487109 , 0.86949917],\n",
       "       [0.53263933, 0.43944265, 0.69845406, 0.91099923, 0.26571768,\n",
       "        0.56661966, 0.25139079, 0.34141035, 0.7487109 , 0.86949917],\n",
       "       [0.53263933, 0.43944265, 0.69845406, 0.91099923, 0.26571768,\n",
       "        0.56661966, 0.25139079, 0.34141035, 0.7487109 , 0.86949917],\n",
       "       [0.53263933, 0.43944265, 0.69845406, 0.91099923, 0.26571768,\n",
       "        0.56661966, 0.25139079, 0.34141035, 0.7487109 , 0.86949917],\n",
       "       [0.53263933, 0.43944265, 0.69845406, 0.91099923, 0.26571768,\n",
       "        0.56661966, 0.25139079, 0.34141035, 0.7487109 , 0.86949917],\n",
       "       [0.53263933, 0.43944265, 0.69845406, 0.91099923, 0.26571768,\n",
       "        0.56661966, 0.25139079, 0.34141035, 0.7487109 , 0.86949917],\n",
       "       [0.53263933, 0.43944265, 0.69845406, 0.91099923, 0.26571768,\n",
       "        0.56661966, 0.25139079, 0.34141035, 0.7487109 , 0.86949917],\n",
       "       [0.53263933, 0.43944265, 0.69845406, 0.91099923, 0.26571768,\n",
       "        0.56661966, 0.25139079, 0.34141035, 0.7487109 , 0.86949917],\n",
       "       [0.53263933, 0.43944265, 0.69845406, 0.91099923, 0.26571768,\n",
       "        0.56661966, 0.25139079, 0.34141035, 0.7487109 , 0.86949917],\n",
       "       [0.53263933, 0.43944265, 0.69845406, 0.91099923, 0.26571768,\n",
       "        0.56661966, 0.25139079, 0.34141035, 0.7487109 , 0.86949917],\n",
       "       [0.53263933, 0.43944265, 0.69845406, 0.91099923, 0.26571768,\n",
       "        0.56661966, 0.25139079, 0.34141035, 0.7487109 , 0.86949917],\n",
       "       [0.53263933, 0.43944265, 0.69845406, 0.91099923, 0.26571768,\n",
       "        0.56661966, 0.25139079, 0.34141035, 0.7487109 , 0.86949917],\n",
       "       [0.53263933, 0.43944265, 0.69845406, 0.91099923, 0.26571768,\n",
       "        0.56661966, 0.25139079, 0.34141035, 0.7487109 , 0.86949917],\n",
       "       [0.53263933, 0.43944265, 0.69845406, 0.91099923, 0.26571768,\n",
       "        0.56661966, 0.25139079, 0.34141035, 0.7487109 , 0.86949917],\n",
       "       [0.53263933, 0.43944265, 0.69845406, 0.91099923, 0.26571768,\n",
       "        0.56661966, 0.25139079, 0.34141035, 0.7487109 , 0.86949917],\n",
       "       [0.53263933, 0.43944265, 0.69845406, 0.91099923, 0.26571768,\n",
       "        0.56661966, 0.25139079, 0.34141035, 0.7487109 , 0.86949917],\n",
       "       [0.53263933, 0.43944265, 0.69845406, 0.91099923, 0.26571768,\n",
       "        0.56661966, 0.25139079, 0.34141035, 0.7487109 , 0.86949917],\n",
       "       [0.53263933, 0.43944265, 0.69845406, 0.91099923, 0.26571768,\n",
       "        0.56661966, 0.25139079, 0.34141035, 0.7487109 , 0.86949917],\n",
       "       [0.53263933, 0.43944265, 0.69845406, 0.91099923, 0.26571768,\n",
       "        0.56661966, 0.25139079, 0.34141035, 0.7487109 , 0.86949917],\n",
       "       [0.53263933, 0.43944265, 0.69845406, 0.91099923, 0.26571768,\n",
       "        0.56661966, 0.25139079, 0.34141035, 0.7487109 , 0.86949917],\n",
       "       [0.53263933, 0.43944265, 0.69845406, 0.91099923, 0.26571768,\n",
       "        0.56661966, 0.25139079, 0.34141035, 0.7487109 , 0.86949917],\n",
       "       [0.53263933, 0.43944265, 0.69845406, 0.91099923, 0.26571768,\n",
       "        0.56661966, 0.25139079, 0.34141035, 0.7487109 , 0.86949917],\n",
       "       [0.53263933, 0.43944265, 0.69845406, 0.91099923, 0.26571768,\n",
       "        0.56661966, 0.25139079, 0.34141035, 0.7487109 , 0.86949917],\n",
       "       [0.53263933, 0.43944265, 0.69845406, 0.91099923, 0.26571768,\n",
       "        0.56661966, 0.25139079, 0.34141035, 0.7487109 , 0.86949917],\n",
       "       [0.53263933, 0.43944265, 0.69845406, 0.91099923, 0.26571768,\n",
       "        0.56661966, 0.25139079, 0.34141035, 0.7487109 , 0.86949917]])"
      ]
     },
     "execution_count": 35,
     "metadata": {},
     "output_type": "execute_result"
    }
   ],
   "source": [
    "Y = np.concatenate([y] * 32, axis=0)\n",
    "Y"
   ]
  },
  {
   "cell_type": "code",
   "execution_count": 36,
   "id": "197f701b",
   "metadata": {},
   "outputs": [],
   "source": [
    "def naive_add_matrix_and_vector(x, y):\n",
    "    assert len(x.shape) == 2\n",
    "    assert len(y.shape) == 1\n",
    "    assert x.shape[1] == y.shape[0]\n",
    "    x = x.copy()\n",
    "    for i in range(x.shape[0]):\n",
    "        for j in range(x.shape[1]):\n",
    "            x[i, j] += y[j]\n",
    "    return x"
   ]
  },
  {
   "cell_type": "code",
   "execution_count": 37,
   "id": "21a72676",
   "metadata": {},
   "outputs": [
    {
     "data": {
      "text/plain": [
       "array([[[[0.95494392, 0.96996137, 0.78787691, ..., 0.69625413,\n",
       "          0.35598434, 0.35551498],\n",
       "         [0.5518776 , 0.27986746, 0.91480779, ..., 0.41076664,\n",
       "          0.24442082, 0.57013527],\n",
       "         [0.32064494, 0.99697936, 0.05317933, ..., 0.98055315,\n",
       "          0.85522805, 0.79298112],\n",
       "         ...,\n",
       "         [0.73343893, 0.35139485, 0.68174926, ..., 0.98288598,\n",
       "          0.89788266, 0.80739818],\n",
       "         [0.81019052, 0.19254295, 0.41179857, ..., 0.27369464,\n",
       "          0.04707287, 0.87309147],\n",
       "         [0.15209667, 0.53311145, 0.50513032, ..., 0.30195765,\n",
       "          0.69979543, 0.32822888]],\n",
       "\n",
       "        [[0.74556037, 0.59265583, 0.78787691, ..., 0.95667302,\n",
       "          0.35598434, 0.35551498],\n",
       "         [0.5518776 , 0.57227844, 0.91480779, ..., 0.44209799,\n",
       "          0.42417429, 0.29992425],\n",
       "         [0.93590197, 0.94585209, 0.02954048, ..., 0.40026469,\n",
       "          0.83617336, 0.22682594],\n",
       "         ...,\n",
       "         [0.66961308, 0.35139485, 0.69222498, ..., 0.98288598,\n",
       "          0.67142769, 0.80739818],\n",
       "         [0.77186991, 0.54158001, 0.50122231, ..., 0.66852037,\n",
       "          0.05310072, 0.87309147],\n",
       "         [0.04139536, 0.53311145, 0.50513032, ..., 0.29955335,\n",
       "          0.80875429, 0.32822888]],\n",
       "\n",
       "        [[0.74556037, 0.77612322, 0.89034421, ..., 0.87738454,\n",
       "          0.77581562, 0.42422338],\n",
       "         [0.8569435 , 0.4147816 , 0.91480779, ..., 0.30192118,\n",
       "          0.18659307, 0.50769079],\n",
       "         [0.74462429, 0.94585209, 0.99165833, ..., 0.94892311,\n",
       "          0.65340345, 0.89340267],\n",
       "         ...,\n",
       "         [0.7863837 , 0.38129888, 0.68174926, ..., 0.98288598,\n",
       "          0.20332804, 0.80739818],\n",
       "         [0.47573308, 0.19536984, 0.75488206, ..., 0.00561519,\n",
       "          0.23314337, 0.87309147],\n",
       "         [0.26470748, 0.53311145, 0.94905564, ..., 0.29955335,\n",
       "          0.38153294, 0.83751393]]],\n",
       "\n",
       "\n",
       "       [[[0.74556037, 0.75305526, 0.78787691, ..., 0.97663699,\n",
       "          0.55451814, 0.54484994],\n",
       "         [0.72436423, 0.81074982, 0.91480779, ..., 0.30266872,\n",
       "          0.26130815, 0.29992425],\n",
       "         [0.61109307, 0.94585209, 0.5228943 , ..., 0.78994948,\n",
       "          0.22776979, 0.54448979],\n",
       "         ...,\n",
       "         [0.17627705, 0.35139485, 0.68174926, ..., 0.98288598,\n",
       "          0.55865609, 0.85019377],\n",
       "         [0.47573308, 0.45263304, 0.43296762, ..., 0.24512247,\n",
       "          0.68158044, 0.87309147],\n",
       "         [0.77295553, 0.53311145, 0.50513032, ..., 0.29955335,\n",
       "          0.6893631 , 0.67865238]],\n",
       "\n",
       "        [[0.95910016, 0.59265583, 0.78787691, ..., 0.45215742,\n",
       "          0.93242196, 0.54776051],\n",
       "         [0.62946891, 0.27986746, 0.91480779, ..., 0.7073488 ,\n",
       "          0.43563981, 0.33196162],\n",
       "         [0.45182176, 0.94585209, 0.9180776 , ..., 0.81129896,\n",
       "          0.58811044, 0.60702316],\n",
       "         ...,\n",
       "         [0.80327968, 0.35139485, 0.87645709, ..., 0.98288598,\n",
       "          0.61526794, 0.80739818],\n",
       "         [0.47573308, 0.19254295, 0.88462308, ..., 0.8792278 ,\n",
       "          0.58261158, 0.87309147],\n",
       "         [0.60152381, 0.53311145, 0.50513032, ..., 0.29955335,\n",
       "          0.15715959, 0.32822888]],\n",
       "\n",
       "        [[0.74556037, 0.59265583, 0.78787691, ..., 0.73614402,\n",
       "          0.35598434, 0.40158059],\n",
       "         [0.5518776 , 0.36620186, 0.91480779, ..., 0.39403407,\n",
       "          0.24336012, 0.67914097],\n",
       "         [0.33373189, 0.94585209, 0.39921673, ..., 0.7526498 ,\n",
       "          0.93541954, 0.40350233],\n",
       "         ...,\n",
       "         [0.92761818, 0.35139485, 0.86473604, ..., 0.98288598,\n",
       "          0.75619313, 0.80739818],\n",
       "         [0.47573308, 0.93576056, 0.60851043, ..., 0.62452667,\n",
       "          0.60693319, 0.87309147],\n",
       "         [0.15921379, 0.53311145, 0.63288238, ..., 0.29955335,\n",
       "          0.84332145, 0.78959371]]],\n",
       "\n",
       "\n",
       "       [[[0.95980132, 0.59265583, 0.78787691, ..., 0.88519859,\n",
       "          0.35598434, 0.35551498],\n",
       "         [0.73626767, 0.56090128, 0.91480779, ..., 0.18562044,\n",
       "          0.35574976, 0.59404001],\n",
       "         [0.93603538, 0.94585209, 0.01174442, ..., 0.40026469,\n",
       "          0.94540585, 0.553628  ],\n",
       "         ...,\n",
       "         [0.04698846, 0.91508671, 0.68174926, ..., 0.98288598,\n",
       "          0.74865188, 0.80739818],\n",
       "         [0.47573308, 0.83908629, 0.86089502, ..., 0.12613709,\n",
       "          0.04114932, 0.87309147],\n",
       "         [0.04139536, 0.53311145, 0.99999686, ..., 0.4754803 ,\n",
       "          0.72029813, 0.32822888]],\n",
       "\n",
       "        [[0.74556037, 0.59265583, 0.78787691, ..., 0.42050541,\n",
       "          0.3900654 , 0.35551498],\n",
       "         [0.93578566, 0.27986746, 0.91480779, ..., 0.76624774,\n",
       "          0.3935882 , 0.29992425],\n",
       "         [0.32064494, 0.94585209, 0.13370644, ..., 0.40026469,\n",
       "          0.13446048, 0.81855143],\n",
       "         ...,\n",
       "         [0.72217264, 0.72423681, 0.68174926, ..., 0.98288598,\n",
       "          0.20936616, 0.80739818],\n",
       "         [0.92505021, 0.41218007, 0.47726757, ..., 0.88046908,\n",
       "          0.48993369, 0.87309147],\n",
       "         [0.34635844, 0.53311145, 0.50513032, ..., 0.29955335,\n",
       "          0.94812498, 0.58734093]],\n",
       "\n",
       "        [[0.74556037, 0.70113795, 0.78787691, ..., 0.42050541,\n",
       "          0.82125536, 0.35551498],\n",
       "         [0.5518776 , 0.57483697, 0.91480779, ..., 0.58373009,\n",
       "          0.14320638, 0.51368615],\n",
       "         [0.77454194, 0.94585209, 0.5087625 , ..., 0.40026469,\n",
       "          0.86980855, 0.22682594],\n",
       "         ...,\n",
       "         [0.95005913, 0.39639242, 0.68174926, ..., 0.98288598,\n",
       "          0.15989276, 0.80739818],\n",
       "         [0.9503947 , 0.70494831, 0.79708462, ..., 0.16642407,\n",
       "          0.58782764, 0.87309147],\n",
       "         [0.52875494, 0.53311145, 0.8333313 , ..., 0.87014543,\n",
       "          0.77224621, 0.58066657]]],\n",
       "\n",
       "\n",
       "       ...,\n",
       "\n",
       "\n",
       "       [[[0.74556037, 0.59265583, 0.98056012, ..., 0.43966755,\n",
       "          0.46093402, 0.35551498],\n",
       "         [0.67009112, 0.52739588, 0.92116166, ..., 0.6729467 ,\n",
       "          0.83528907, 0.77110436],\n",
       "         [0.68735004, 0.94585209, 0.94454364, ..., 0.98154795,\n",
       "          0.34244363, 0.22682594],\n",
       "         ...,\n",
       "         [0.70336978, 0.57136185, 0.68174926, ..., 0.98288598,\n",
       "          0.15989276, 0.96805066],\n",
       "         [0.47573308, 0.22014312, 0.56466268, ..., 0.35506028,\n",
       "          0.17102316, 0.87309147],\n",
       "         [0.75949191, 0.88540093, 0.50513032, ..., 0.38098941,\n",
       "          0.7614021 , 0.32822888]],\n",
       "\n",
       "        [[0.84636881, 0.59265583, 0.78787691, ..., 0.42050541,\n",
       "          0.96162437, 0.87566766],\n",
       "         [0.5518776 , 0.586698  , 0.91480779, ..., 0.92931143,\n",
       "          0.21745576, 0.88693646],\n",
       "         [0.70424272, 0.94585209, 0.33445013, ..., 0.62970289,\n",
       "          0.13446048, 0.40094205],\n",
       "         ...,\n",
       "         [0.47230944, 0.58698918, 0.85655294, ..., 0.98288598,\n",
       "          0.3236938 , 0.80739818],\n",
       "         [0.47573308, 0.55977136, 0.33694463, ..., 0.59105546,\n",
       "          0.22436333, 0.87309147],\n",
       "         [0.29808962, 0.53311145, 0.50513032, ..., 0.69809682,\n",
       "          0.61756742, 0.48500887]],\n",
       "\n",
       "        [[0.74556037, 0.81046628, 0.78787691, ..., 0.42050541,\n",
       "          0.35598434, 0.58579508],\n",
       "         [0.5518776 , 0.27986746, 0.91480779, ..., 0.96470912,\n",
       "          0.9797674 , 0.58371081],\n",
       "         [0.9867746 , 0.94585209, 0.32993791, ..., 0.40026469,\n",
       "          0.50544356, 0.5389958 ],\n",
       "         ...,\n",
       "         [0.72946349, 0.9609148 , 0.68174926, ..., 0.98288598,\n",
       "          0.45157745, 0.80739818],\n",
       "         [0.81580989, 0.72080072, 0.03862305, ..., 0.14632837,\n",
       "          0.83547042, 0.87309147],\n",
       "         [0.56575119, 0.71847285, 0.50513032, ..., 0.29955335,\n",
       "          0.11757493, 0.66166412]]],\n",
       "\n",
       "\n",
       "       [[[0.91347426, 0.93119896, 0.78787691, ..., 0.42050541,\n",
       "          0.41133341, 0.35551498],\n",
       "         [0.5518776 , 0.27986746, 0.92478   , ..., 0.16706243,\n",
       "          0.14320638, 0.29992425],\n",
       "         [0.83330486, 0.94585209, 0.96808456, ..., 0.40026469,\n",
       "          0.75586657, 0.40460583],\n",
       "         ...,\n",
       "         [0.61898095, 0.35139485, 0.68174926, ..., 0.98288598,\n",
       "          0.54352478, 0.80739818],\n",
       "         [0.83963662, 0.7790976 , 0.54784218, ..., 0.17561546,\n",
       "          0.93588766, 0.87309147],\n",
       "         [0.50868998, 0.53311145, 0.93832621, ..., 0.41652425,\n",
       "          0.93755629, 0.65421997]],\n",
       "\n",
       "        [[0.74556037, 0.59265583, 0.78787691, ..., 0.42050541,\n",
       "          0.35598434, 0.97376787],\n",
       "         [0.5518776 , 0.27986746, 0.91480779, ..., 0.45847039,\n",
       "          0.49942431, 0.672354  ],\n",
       "         [0.32064494, 0.94585209, 0.27670462, ..., 0.40026469,\n",
       "          0.1639658 , 0.22682594],\n",
       "         ...,\n",
       "         [0.47149418, 0.54199487, 0.68174926, ..., 0.98288598,\n",
       "          0.47846908, 0.80739818],\n",
       "         [0.71780227, 0.98664626, 0.02010534, ..., 0.07293613,\n",
       "          0.3135411 , 0.87309147],\n",
       "         [0.74724092, 0.53311145, 0.75078127, ..., 0.37124699,\n",
       "          0.16525191, 0.32822888]],\n",
       "\n",
       "        [[0.74556037, 0.59265583, 0.78787691, ..., 0.42050541,\n",
       "          0.86282217, 0.66739867],\n",
       "         [0.59739391, 0.8643917 , 0.91480779, ..., 0.96004162,\n",
       "          0.46668565, 0.64866585],\n",
       "         [0.32064494, 0.94585209, 0.33653599, ..., 0.40026469,\n",
       "          0.69243884, 0.99839542],\n",
       "         ...,\n",
       "         [0.89944868, 0.52657383, 0.68174926, ..., 0.98288598,\n",
       "          0.5337867 , 0.80739818],\n",
       "         [0.47573308, 0.2064424 , 0.71334035, ..., 0.36231538,\n",
       "          0.72564304, 0.87309147],\n",
       "         [0.78030079, 0.53311145, 0.92638075, ..., 0.85589596,\n",
       "          0.31241118, 0.56083028]]],\n",
       "\n",
       "\n",
       "       [[[0.74556037, 0.6174889 , 0.8950912 , ..., 0.999269  ,\n",
       "          0.38713659, 0.65894694],\n",
       "         [0.65108759, 0.63322797, 0.91480779, ..., 0.16706243,\n",
       "          0.88605122, 0.86909076],\n",
       "         [0.69000639, 0.94585209, 0.35195765, ..., 0.40026469,\n",
       "          0.52414198, 0.71773709],\n",
       "         ...,\n",
       "         [0.1660052 , 0.35139485, 0.68174926, ..., 0.98288598,\n",
       "          0.15989276, 0.92902759],\n",
       "         [0.83674058, 0.22376137, 0.44653528, ..., 0.2083097 ,\n",
       "          0.69510814, 0.87309147],\n",
       "         [0.30084877, 0.73532241, 0.50513032, ..., 0.96686818,\n",
       "          0.23445548, 0.32822888]],\n",
       "\n",
       "        [[0.84592052, 0.59265583, 0.78787691, ..., 0.80650437,\n",
       "          0.35598434, 0.35551498],\n",
       "         [0.5518776 , 0.64444554, 0.91480779, ..., 0.90761856,\n",
       "          0.46229413, 0.95794394],\n",
       "         [0.99419352, 0.94585209, 0.20186829, ..., 0.40026469,\n",
       "          0.95987194, 0.93826837],\n",
       "         ...,\n",
       "         [0.15678724, 0.91569018, 0.9824924 , ..., 0.98288598,\n",
       "          0.90361346, 0.8871982 ],\n",
       "         [0.48326056, 0.36092728, 0.84938317, ..., 0.18838586,\n",
       "          0.24763559, 0.87309147],\n",
       "         [0.39148185, 0.65609005, 0.50513032, ..., 0.31076473,\n",
       "          0.94988082, 0.60822995]],\n",
       "\n",
       "        [[0.74556037, 0.59265583, 0.98643404, ..., 0.81345213,\n",
       "          0.77426009, 0.92603488],\n",
       "         [0.5518776 , 0.47020069, 0.91480779, ..., 0.27458583,\n",
       "          0.78536899, 0.29992425],\n",
       "         [0.32064494, 0.94585209, 0.6647101 , ..., 0.86875012,\n",
       "          0.39128408, 0.80591873],\n",
       "         ...,\n",
       "         [0.06993093, 0.79173808, 0.98112276, ..., 0.98288598,\n",
       "          0.9087797 , 0.80739818],\n",
       "         [0.6465372 , 0.89478553, 0.96302842, ..., 0.07348419,\n",
       "          0.22705014, 0.87309147],\n",
       "         [0.90323888, 0.95595566, 0.50513032, ..., 0.90445762,\n",
       "          0.12148807, 0.42196829]]]])"
      ]
     },
     "execution_count": 37,
     "metadata": {},
     "output_type": "execute_result"
    }
   ],
   "source": [
    "import numpy as np\n",
    "x = np.random.random((64, 3, 32, 10))\n",
    "y = np.random.random((32, 10))\n",
    "z = np.maximum(x, y)\n",
    "z"
   ]
  },
  {
   "cell_type": "code",
   "execution_count": 38,
   "id": "1bc38806",
   "metadata": {},
   "outputs": [
    {
     "data": {
      "text/plain": [
       "8.226741485469152"
      ]
     },
     "execution_count": 38,
     "metadata": {},
     "output_type": "execute_result"
    }
   ],
   "source": [
    "# Tensor product\n",
    "x = np.random.random((32,))\n",
    "y = np.random.random((32,))\n",
    "z = np.dot(x, y)\n",
    "z"
   ]
  },
  {
   "cell_type": "code",
   "execution_count": 39,
   "id": "d21a5613",
   "metadata": {},
   "outputs": [],
   "source": [
    "def naive_vector_dot(x, y):\n",
    "    assert len(x.shape) == 1\n",
    "    assert len(y.shape) == 1\n",
    "    assert x.shape[0] == y.shape[0]\n",
    "    z = 0.\n",
    "    for i in range(x.shape[0]):\n",
    "        z += x[i] * y[i]\n",
    "    return z"
   ]
  },
  {
   "cell_type": "code",
   "execution_count": 40,
   "id": "8bc0a27a",
   "metadata": {},
   "outputs": [],
   "source": [
    "def naive_matrix_vector_dot(x, y):\n",
    "    assert len(x.shape) == 2\n",
    "    assert len(y.shape) == 1\n",
    "    assert x.shape[1] == y.shape[0]\n",
    "    z = np.zeros(x.shape[0])\n",
    "    for i in range(x.shape[0]):\n",
    "        for j in range(x.shape[1]):\n",
    "            z[i] += x[i, j] * y[j]\n",
    "    return z"
   ]
  },
  {
   "cell_type": "code",
   "execution_count": 41,
   "id": "5cbe1368",
   "metadata": {},
   "outputs": [],
   "source": [
    "def naive_matrix_vector_dot(x, y):\n",
    "    z = np.zeros(x.shape[0])\n",
    "    for i in range(x.shape[0]):\n",
    "        z[i] = naive_vector_dot(x[i, :], y)\n",
    "    return z"
   ]
  },
  {
   "cell_type": "code",
   "execution_count": 42,
   "id": "f2b1ab06",
   "metadata": {},
   "outputs": [],
   "source": [
    "def naive_matrix_dot(x, y):\n",
    "    assert len(x.shape) == 2\n",
    "    assert len(y.shape) == 2\n",
    "    assert x.shape[1] == y.shape[0]\n",
    "    z = np.zeros((x.shape[0], y.shape[1]))\n",
    "    for i in range(x.shape[0]):\n",
    "        for j in range(y.shape[1]):\n",
    "            row_x = x[i, :]\n",
    "            column_y = y[:, j]\n",
    "            z[i, j] = naive_vector_dot(row_x, column_y)\n",
    "    return z"
   ]
  },
  {
   "cell_type": "code",
   "execution_count": 43,
   "id": "db55b04c",
   "metadata": {},
   "outputs": [],
   "source": [
    "# Tensor reshaping\n",
    "train_images = train_images.reshape((60000, 28 * 28))"
   ]
  },
  {
   "cell_type": "code",
   "execution_count": 44,
   "id": "bbfbf0a7",
   "metadata": {},
   "outputs": [
    {
     "data": {
      "text/plain": [
       "(3, 2)"
      ]
     },
     "execution_count": 44,
     "metadata": {},
     "output_type": "execute_result"
    }
   ],
   "source": [
    "x = np.array([[0., 1.],\n",
    "             [2., 3.],\n",
    "             [4., 5.]])\n",
    "x.shape"
   ]
  },
  {
   "cell_type": "code",
   "execution_count": 45,
   "id": "958755c2",
   "metadata": {},
   "outputs": [
    {
     "data": {
      "text/plain": [
       "array([[0.],\n",
       "       [1.],\n",
       "       [2.],\n",
       "       [3.],\n",
       "       [4.],\n",
       "       [5.]])"
      ]
     },
     "execution_count": 45,
     "metadata": {},
     "output_type": "execute_result"
    }
   ],
   "source": [
    "x = x.reshape((6, 1))\n",
    "x"
   ]
  },
  {
   "cell_type": "code",
   "execution_count": 46,
   "id": "24803589",
   "metadata": {},
   "outputs": [
    {
     "data": {
      "text/plain": [
       "(20, 300)"
      ]
     },
     "execution_count": 46,
     "metadata": {},
     "output_type": "execute_result"
    }
   ],
   "source": [
    "x = np.zeros((300, 20))\n",
    "x = np.transpose(x)\n",
    "x.shape"
   ]
  },
  {
   "cell_type": "code",
   "execution_count": 47,
   "id": "e62b773c",
   "metadata": {},
   "outputs": [],
   "source": [
    "# Looking back at our first example\n",
    "(train_images, train_labels), (test_images, test_labels) = mnist.load_data()\n",
    "train_images = train_images.reshape((60000, 28 * 28))\n",
    "train_images = train_images.astype(\"float32\") / 255\n",
    "test_images = test_images.reshape((10000, 28 * 28))\n",
    "test_images = test_images.astype(\"float32\") / 255"
   ]
  },
  {
   "cell_type": "code",
   "execution_count": 48,
   "id": "30932077",
   "metadata": {},
   "outputs": [],
   "source": [
    "model = keras.Sequential([\n",
    "    layers.Dense(512, activation=\"relu\"),\n",
    "    layers.Dense(10, activation=\"softmax\")\n",
    "])"
   ]
  },
  {
   "cell_type": "code",
   "execution_count": 49,
   "id": "27ebf47a",
   "metadata": {},
   "outputs": [],
   "source": [
    "model.compile(optimizer=\"rmsprop\",\n",
    "              loss=\"sparse_categorical_crossentropy\",\n",
    "              metrics=[\"accuracy\"])"
   ]
  },
  {
   "cell_type": "code",
   "execution_count": 50,
   "id": "31a34ed6",
   "metadata": {},
   "outputs": [
    {
     "name": "stdout",
     "output_type": "stream",
     "text": [
      "Epoch 1/5\n",
      "469/469 [==============================] - 2s 4ms/step - loss: 0.2538 - accuracy: 0.9258\n",
      "Epoch 2/5\n",
      "469/469 [==============================] - 2s 4ms/step - loss: 0.1037 - accuracy: 0.9696\n",
      "Epoch 3/5\n",
      "469/469 [==============================] - 2s 4ms/step - loss: 0.0677 - accuracy: 0.9799\n",
      "Epoch 4/5\n",
      "469/469 [==============================] - 2s 4ms/step - loss: 0.0492 - accuracy: 0.9848\n",
      "Epoch 5/5\n",
      "469/469 [==============================] - 2s 4ms/step - loss: 0.0373 - accuracy: 0.9887\n"
     ]
    },
    {
     "data": {
      "text/plain": [
       "<keras.callbacks.History at 0x15387b301f0>"
      ]
     },
     "execution_count": 50,
     "metadata": {},
     "output_type": "execute_result"
    }
   ],
   "source": [
    "model.fit(train_images, train_labels, epochs=5, batch_size=128)"
   ]
  },
  {
   "cell_type": "code",
   "execution_count": 51,
   "id": "6762b5ca",
   "metadata": {},
   "outputs": [],
   "source": [
    "# Reimplementing our first example from scratch in TensorFlow\n",
    "# A simple Dense class\n",
    "import tensorflow as tf\n",
    "\n",
    "class NaiveDense:\n",
    "    def __init__(self, input_size, output_size, activation):\n",
    "        self.activation = activation\n",
    "\n",
    "        w_shape = (input_size, output_size)\n",
    "        w_initial_value = tf.random.uniform(w_shape, minval=0, maxval=1e-1)\n",
    "        self.W = tf.Variable(w_initial_value)\n",
    "\n",
    "        b_shape = (output_size,)\n",
    "        b_initial_value = tf.zeros(b_shape)\n",
    "        self.b = tf.Variable(b_initial_value)\n",
    "\n",
    "    def __call__(self, inputs):\n",
    "        return self.activation(tf.matmul(inputs, self.W) + self.b)\n",
    "\n",
    "    @property\n",
    "    def weights(self):\n",
    "        return [self.W, self.b]"
   ]
  },
  {
   "cell_type": "code",
   "execution_count": 52,
   "id": "441d79db",
   "metadata": {},
   "outputs": [],
   "source": [
    "# A simple Sequential class\n",
    "class NaiveSequential:\n",
    "    def __init__(self, layers):\n",
    "        self.layers = layers\n",
    "\n",
    "    def __call__(self, inputs):\n",
    "        x = inputs\n",
    "        for layer in self.layers:\n",
    "               x = layer(x)\n",
    "        return x\n",
    "\n",
    "    @property\n",
    "    def weights(self):\n",
    "        weights = []\n",
    "        for layer in self.layers:\n",
    "            weights += layer.weights\n",
    "        return weights\n",
    "model = NaiveSequential([\n",
    "    NaiveDense(input_size=28 * 28, output_size=512, activation=tf.nn.relu),\n",
    "    NaiveDense(input_size=512, output_size=10, activation=tf.nn.softmax)\n",
    "])\n",
    "assert len(model.weights) == 4"
   ]
  },
  {
   "cell_type": "code",
   "execution_count": 53,
   "id": "abe0deb8",
   "metadata": {},
   "outputs": [],
   "source": [
    "# A batch generator\n",
    "import math\n",
    "\n",
    "class BatchGenerator:\n",
    "    def __init__(self, images, labels, batch_size=128):\n",
    "        assert len(images) == len(labels)\n",
    "        self.index = 0\n",
    "        self.images = images\n",
    "        self.labels = labels\n",
    "        self.batch_size = batch_size\n",
    "        self.num_batches = math.ceil(len(images) / batch_size)\n",
    "\n",
    "    def next(self):\n",
    "        images = self.images[self.index : self.index + self.batch_size]\n",
    "        labels = self.labels[self.index : self.index + self.batch_size]\n",
    "        self.index += self.batch_size\n",
    "        return images, labels"
   ]
  },
  {
   "cell_type": "code",
   "execution_count": 54,
   "id": "ba8eebff",
   "metadata": {},
   "outputs": [],
   "source": [
    "# Running one training step\n",
    "def one_training_step(model, images_batch, labels_batch):\n",
    "    with tf.GradientTape() as tape:\n",
    "        predictions = model(images_batch)\n",
    "        per_sample_losses = tf.keras.losses.sparse_categorical_crossentropy(\n",
    "            labels_batch, predictions)\n",
    "        average_loss = tf.reduce_mean(per_sample_losses)\n",
    "    gradients = tape.gradient(average_loss, model.weights)\n",
    "    update_weights(gradients, model.weights)\n",
    "    return average_loss"
   ]
  },
  {
   "cell_type": "code",
   "execution_count": 55,
   "id": "337ce093",
   "metadata": {},
   "outputs": [],
   "source": [
    "learning_rate = 1e-3\n",
    "\n",
    "def update_weights(gradients, weights):\n",
    "    for g, w in zip(gradients, weights):\n",
    "        w.assign_sub(g * learning_rate)"
   ]
  },
  {
   "cell_type": "code",
   "execution_count": 56,
   "id": "00aecdca",
   "metadata": {},
   "outputs": [],
   "source": [
    "from tensorflow.keras import optimizers\n",
    "\n",
    "optimizer = optimizers.SGD(learning_rate=1e-3)\n",
    "\n",
    "def update_weights(gradients, weights):\n",
    "    optimizer.apply_gradients(zip(gradients, weights))"
   ]
  },
  {
   "cell_type": "code",
   "execution_count": 57,
   "id": "d3925775",
   "metadata": {},
   "outputs": [],
   "source": [
    "# The full training loop\n",
    "def fit(model, images, labels, epochs, batch_size=128):\n",
    "    for epoch_counter in range(epochs):\n",
    "        print(f\"Epoch {epoch_counter}\")\n",
    "        batch_generator = BatchGenerator(images, labels)\n",
    "        for batch_counter in range(batch_generator.num_batches):\n",
    "            images_batch, labels_batch = batch_generator.next()\n",
    "            loss = one_training_step(model, images_batch, labels_batch)\n",
    "            if batch_counter % 100 == 0:\n",
    "                print(f\"loss at batch {batch_counter}: {loss:.2f}\")"
   ]
  },
  {
   "cell_type": "code",
   "execution_count": 58,
   "id": "00d0e71d",
   "metadata": {},
   "outputs": [
    {
     "name": "stdout",
     "output_type": "stream",
     "text": [
      "Epoch 0\n",
      "loss at batch 0: 6.18\n",
      "loss at batch 100: 2.23\n",
      "loss at batch 200: 2.20\n",
      "loss at batch 300: 2.10\n",
      "loss at batch 400: 2.23\n",
      "Epoch 1\n",
      "loss at batch 0: 1.89\n",
      "loss at batch 100: 1.85\n",
      "loss at batch 200: 1.81\n",
      "loss at batch 300: 1.71\n",
      "loss at batch 400: 1.83\n",
      "Epoch 2\n",
      "loss at batch 0: 1.55\n",
      "loss at batch 100: 1.55\n",
      "loss at batch 200: 1.47\n",
      "loss at batch 300: 1.41\n",
      "loss at batch 400: 1.51\n",
      "Epoch 3\n",
      "loss at batch 0: 1.29\n",
      "loss at batch 100: 1.31\n",
      "loss at batch 200: 1.21\n",
      "loss at batch 300: 1.19\n",
      "loss at batch 400: 1.27\n",
      "Epoch 4\n",
      "loss at batch 0: 1.10\n",
      "loss at batch 100: 1.13\n",
      "loss at batch 200: 1.02\n",
      "loss at batch 300: 1.03\n",
      "loss at batch 400: 1.10\n",
      "Epoch 5\n",
      "loss at batch 0: 0.96\n",
      "loss at batch 100: 0.99\n",
      "loss at batch 200: 0.88\n",
      "loss at batch 300: 0.92\n",
      "loss at batch 400: 0.99\n",
      "Epoch 6\n",
      "loss at batch 0: 0.85\n",
      "loss at batch 100: 0.89\n",
      "loss at batch 200: 0.78\n",
      "loss at batch 300: 0.83\n",
      "loss at batch 400: 0.90\n",
      "Epoch 7\n",
      "loss at batch 0: 0.77\n",
      "loss at batch 100: 0.81\n",
      "loss at batch 200: 0.70\n",
      "loss at batch 300: 0.76\n",
      "loss at batch 400: 0.83\n",
      "Epoch 8\n",
      "loss at batch 0: 0.71\n",
      "loss at batch 100: 0.74\n",
      "loss at batch 200: 0.65\n",
      "loss at batch 300: 0.71\n",
      "loss at batch 400: 0.78\n",
      "Epoch 9\n",
      "loss at batch 0: 0.67\n",
      "loss at batch 100: 0.69\n",
      "loss at batch 200: 0.60\n",
      "loss at batch 300: 0.66\n",
      "loss at batch 400: 0.74\n"
     ]
    }
   ],
   "source": [
    "from tensorflow.keras.datasets import mnist\n",
    "(train_images, train_labels), (test_images, test_labels) = mnist.load_data()\n",
    "\n",
    "train_images = train_images.reshape((60000, 28 * 28))\n",
    "train_images = train_images.astype(\"float32\") / 255\n",
    "test_images = test_images.reshape((10000, 28 * 28))\n",
    "test_images = test_images.astype(\"float32\") / 255\n",
    "\n",
    "fit(model, train_images, train_labels, epochs=10, batch_size=128)"
   ]
  },
  {
   "cell_type": "code",
   "execution_count": 59,
   "id": "88336d4e",
   "metadata": {},
   "outputs": [
    {
     "name": "stdout",
     "output_type": "stream",
     "text": [
      "accuracy: 0.82\n",
      "4\n"
     ]
    }
   ],
   "source": [
    "# Evaluating the model\n",
    "predictions = model(test_images)\n",
    "predictions = predictions.numpy()\n",
    "predicted_labels = np.argmax(predictions, axis=1)\n",
    "matches = predicted_labels == test_labels\n",
    "print(f\"accuracy: {matches.mean():.2f}\")\n",
    "\n",
    "# Summary\n",
    "print(train_images.itemsize)"
   ]
  }
 ],
 "metadata": {
  "kernelspec": {
   "display_name": "Python 3 (ipykernel)",
   "language": "python",
   "name": "python3"
  },
  "language_info": {
   "codemirror_mode": {
    "name": "ipython",
    "version": 3
   },
   "file_extension": ".py",
   "mimetype": "text/x-python",
   "name": "python",
   "nbconvert_exporter": "python",
   "pygments_lexer": "ipython3",
   "version": "3.9.12"
  }
 },
 "nbformat": 4,
 "nbformat_minor": 5
}
