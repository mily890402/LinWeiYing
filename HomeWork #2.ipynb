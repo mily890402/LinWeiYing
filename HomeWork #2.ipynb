{
 "cells": [
  {
   "cell_type": "code",
   "execution_count": 1,
   "id": "16370443",
   "metadata": {},
   "outputs": [],
   "source": [
    "# The mathematical building blocks of neural networks"
   ]
  },
  {
   "cell_type": "code",
   "execution_count": 1,
   "id": "7c8133f9",
   "metadata": {},
   "outputs": [
    {
     "data": {
      "text/plain": [
       "((60000, 28, 28),\n",
       " 60000,\n",
       " array([5, 0, 4, ..., 5, 6, 8], dtype=uint8),\n",
       " (10000, 28, 28),\n",
       " 10000,\n",
       " array([7, 2, 1, ..., 4, 5, 6], dtype=uint8))"
      ]
     },
     "execution_count": 1,
     "metadata": {},
     "output_type": "execute_result"
    }
   ],
   "source": [
    "# Loading the MNIST datasetin Keras\n",
    "from tensorflow.keras.datasets import mnist\n",
    "(train_images, train_labels), (test_images, test_labels) = mnist.load_data()\n",
    "train_images.shape, len(train_labels), train_labels, test_images.shape, len(test_labels), test_labels"
   ]
  },
  {
   "cell_type": "code",
   "execution_count": 2,
   "id": "fe479108",
   "metadata": {},
   "outputs": [
    {
     "data": {
      "text/plain": [
       "array([[  0,   0,   0,   0,   0,   0,   0,   0,   0,   0,   0,   0,   0,\n",
       "          0,   0,   0,   0,   0,   0,   0,   0,   0,   0,   0,   0,   0,\n",
       "          0,   0],\n",
       "       [  0,   0,   0,   0,   0,   0,   0,   0,   0,   0,   0,   0,   0,\n",
       "          0,   0,   0,   0,   0,   0,   0,   0,   0,   0,   0,   0,   0,\n",
       "          0,   0],\n",
       "       [  0,   0,   0,   0,   0,   0,   0,   0,   0,   0,   0,   0,   0,\n",
       "          0,   0,   0,   0,   0,   0,   0,   0,   0,   0,   0,   0,   0,\n",
       "          0,   0],\n",
       "       [  0,   0,   0,   0,   0,   0,   0,   0,   0,   0,   0,   0,   0,\n",
       "          0,   0,   0,   0,   0,   0,   0,   0,   0,   0,   0,   0,   0,\n",
       "          0,   0],\n",
       "       [  0,   0,   0,   0,   0,   0,   0,   0,   0,   0,   0,   0,   0,\n",
       "          0,   0,   0,   0,   0,   0,   0,   0,   0,   0,   0,   0,   0,\n",
       "          0,   0],\n",
       "       [  0,   0,   0,   0,   0,   0,   0,   0,   0,   0,  47, 156, 205,\n",
       "        254, 255, 112,   0,   0,   0,   0,   0,   0,   0,   0,   0,   0,\n",
       "          0,   0],\n",
       "       [  0,   0,   0,   0,   0,   0,   0,   0,  53, 208, 245, 253, 253,\n",
       "        253, 240, 249,  50,   0,   0,   0,   0,   0,   0,   0,   0,   0,\n",
       "          0,   0],\n",
       "       [  0,   0,   0,   0,   0,   0,   1,  73, 242, 248, 212, 128,  56,\n",
       "         56, 122, 253,  94,   0,   0,   0,   0,   0,   0,   0,   0,   0,\n",
       "          0,   0],\n",
       "       [  0,   0,   0,   0,   0,   0, 101, 253, 211,  64,   0,   0,   0,\n",
       "          0,  66, 253, 212,   0,   0,   0,   0,   0,   0,   0,   0,   0,\n",
       "          0,   0],\n",
       "       [  0,   0,   0,   0,   0,   0, 126, 143,  15,   0,   0,   0,   0,\n",
       "          0,  66, 253, 226,   0,   0,   0,   0,   0,   0,   0,   0,   0,\n",
       "          0,   0],\n",
       "       [  0,   0,   0,   0,   0,   0,   0,   0,   0,   0,   0,   0,   0,\n",
       "          0, 115, 253, 142,   0,   0,   0,   0,   0,   0,   0,   0,   0,\n",
       "          0,   0],\n",
       "       [  0,   0,   0,   0,   0,   0,   0,   0,   0,   0,   0,   0,   0,\n",
       "         32, 254, 253, 119,   0,   0,   0,   0,   0,   0,   0,   0,   0,\n",
       "          0,   0],\n",
       "       [  0,   0,   0,   0,   0,   0,   0,   0,   0,   0,   0,   0,   7,\n",
       "        129, 254, 253, 252, 244,  95,   0,   0,   0,   0,   0,   0,   0,\n",
       "          0,   0],\n",
       "       [  0,   0,   0,   0,   0,   0,   0,   0,   0,   0,   0,   0, 120,\n",
       "        253, 254, 238, 225, 253, 246,  50,   0,   0,   0,   0,   0,   0,\n",
       "          0,   0],\n",
       "       [  0,   0,   0,   0,   0,   0,   0,   0,   0,   0,   0,  42, 243,\n",
       "        218,  66,  32,   3, 121, 253, 175,   0,   0,   0,   0,   0,   0,\n",
       "          0,   0],\n",
       "       [  0,   0,   0,   0,   0,   0,   0,   0,   0,   0,   0,   0, 116,\n",
       "         60,   0,   0,   0,   0, 236, 247,  47,   0,   0,   0,   0,   0,\n",
       "          0,   0],\n",
       "       [  0,   0,   0,   0,   0,   0,   0,   0,   0,   0,   0,   0,   0,\n",
       "          0,   0,   0,   0,   0, 103, 253, 135,   2,   0,   0,   0,   0,\n",
       "          0,   0],\n",
       "       [  0,   0,   0,   0,   0,   0,   0,   0,   0,   0,   0,   0,   0,\n",
       "          0,   0,   0,   0,   0,  28, 230, 253,  47,   0,   0,   0,   0,\n",
       "          0,   0],\n",
       "       [  0,   0,   0,   0,   0,   0,   0,   0,   0,   0,   0,   0,   0,\n",
       "          0,   0,   0,   0,   0,   0, 113, 253, 103,   0,   0,   0,   0,\n",
       "          0,   0],\n",
       "       [  0,   0,   0,   0,   0,   0,   0,   0,   0,   0,   0,   0,   0,\n",
       "          0,   0,   0,   0,   0,  97, 243, 237,  14,   0,   0,   0,   0,\n",
       "          0,   0],\n",
       "       [  0,   0,   0,   0,   0,   0,   0,   0,   0,   2,  19,  15,   0,\n",
       "          0,   0,   0,   0,   6, 184, 251, 155,   0,   0,   0,   0,   0,\n",
       "          0,   0],\n",
       "       [  0,   0,   0,   0,   0,   0,   0,   0,   0,  86, 253, 236,  26,\n",
       "          0,   0,   0,  35, 169, 253, 167,   0,   0,   0,   0,   0,   0,\n",
       "          0,   0],\n",
       "       [  0,   0,   0,   0,   0,   0,   0,   0,   0,  53, 236, 253,  79,\n",
       "          0,  96, 199, 248, 253, 169,  22,   0,   0,   0,   0,   0,   0,\n",
       "          0,   0],\n",
       "       [  0,   0,   0,   0,   0,   0,   0,   0,   0,   0,  89, 252, 249,\n",
       "        216, 240, 248, 221, 103,  17,   0,   0,   0,   0,   0,   0,   0,\n",
       "          0,   0],\n",
       "       [  0,   0,   0,   0,   0,   0,   0,   0,   0,   0,   0,  84, 239,\n",
       "        253, 170,  56,   0,   0,   0,   0,   0,   0,   0,   0,   0,   0,\n",
       "          0,   0],\n",
       "       [  0,   0,   0,   0,   0,   0,   0,   0,   0,   0,   0,   0,   0,\n",
       "          0,   0,   0,   0,   0,   0,   0,   0,   0,   0,   0,   0,   0,\n",
       "          0,   0],\n",
       "       [  0,   0,   0,   0,   0,   0,   0,   0,   0,   0,   0,   0,   0,\n",
       "          0,   0,   0,   0,   0,   0,   0,   0,   0,   0,   0,   0,   0,\n",
       "          0,   0],\n",
       "       [  0,   0,   0,   0,   0,   0,   0,   0,   0,   0,   0,   0,   0,\n",
       "          0,   0,   0,   0,   0,   0,   0,   0,   0,   0,   0,   0,   0,\n",
       "          0,   0]], dtype=uint8)"
      ]
     },
     "execution_count": 2,
     "metadata": {},
     "output_type": "execute_result"
    }
   ],
   "source": [
    "# Data Visualization 查看第30000張\n",
    "x= train_images[30000]\n",
    "x"
   ]
  },
  {
   "cell_type": "code",
   "execution_count": 3,
   "id": "d3835d03",
   "metadata": {},
   "outputs": [
    {
     "name": "stdout",
     "output_type": "stream",
     "text": [
      "  0  0  0  0  0  0  0  0  0  0  0  0  0  0  0  0  0  0  0  0  0  0  0  0  0  0  0  0\n",
      "  0  0  0  0  0  0  0  0  0  0  0  0  0  0  0  0  0  0  0  0  0  0  0  0  0  0  0  0\n",
      "  0  0  0  0  0  0  0  0  0  0  0  0  0  0  0  0  0  0  0  0  0  0  0  0  0  0  0  0\n",
      "  0  0  0  0  0  0  0  0  0  0  0  0  0  0  0  0  0  0  0  0  0  0  0  0  0  0  0  0\n",
      "  0  0  0  0  0  0  0  0  0  0  0  0  0  0  0  0  0  0  0  0  0  0  0  0  0  0  0  0\n",
      "  0  0  0  0  0  0  0  0  0  0 47156205254255112  0  0  0  0  0  0  0  0  0  0  0  0\n",
      "  0  0  0  0  0  0  0  0 53208245253253253240249 50  0  0  0  0  0  0  0  0  0  0  0\n",
      "  0  0  0  0  0  0  1 73242248212128 56 56122253 94  0  0  0  0  0  0  0  0  0  0  0\n",
      "  0  0  0  0  0  0101253211 64  0  0  0  0 66253212  0  0  0  0  0  0  0  0  0  0  0\n",
      "  0  0  0  0  0  0126143 15  0  0  0  0  0 66253226  0  0  0  0  0  0  0  0  0  0  0\n",
      "  0  0  0  0  0  0  0  0  0  0  0  0  0  0115253142  0  0  0  0  0  0  0  0  0  0  0\n",
      "  0  0  0  0  0  0  0  0  0  0  0  0  0 32254253119  0  0  0  0  0  0  0  0  0  0  0\n",
      "  0  0  0  0  0  0  0  0  0  0  0  0  7129254253252244 95  0  0  0  0  0  0  0  0  0\n",
      "  0  0  0  0  0  0  0  0  0  0  0  0120253254238225253246 50  0  0  0  0  0  0  0  0\n",
      "  0  0  0  0  0  0  0  0  0  0  0 42243218 66 32  3121253175  0  0  0  0  0  0  0  0\n",
      "  0  0  0  0  0  0  0  0  0  0  0  0116 60  0  0  0  0236247 47  0  0  0  0  0  0  0\n",
      "  0  0  0  0  0  0  0  0  0  0  0  0  0  0  0  0  0  0103253135  2  0  0  0  0  0  0\n",
      "  0  0  0  0  0  0  0  0  0  0  0  0  0  0  0  0  0  0 28230253 47  0  0  0  0  0  0\n",
      "  0  0  0  0  0  0  0  0  0  0  0  0  0  0  0  0  0  0  0113253103  0  0  0  0  0  0\n",
      "  0  0  0  0  0  0  0  0  0  0  0  0  0  0  0  0  0  0 97243237 14  0  0  0  0  0  0\n",
      "  0  0  0  0  0  0  0  0  0  2 19 15  0  0  0  0  0  6184251155  0  0  0  0  0  0  0\n",
      "  0  0  0  0  0  0  0  0  0 86253236 26  0  0  0 35169253167  0  0  0  0  0  0  0  0\n",
      "  0  0  0  0  0  0  0  0  0 53236253 79  0 96199248253169 22  0  0  0  0  0  0  0  0\n",
      "  0  0  0  0  0  0  0  0  0  0 89252249216240248221103 17  0  0  0  0  0  0  0  0  0\n",
      "  0  0  0  0  0  0  0  0  0  0  0 84239253170 56  0  0  0  0  0  0  0  0  0  0  0  0\n",
      "  0  0  0  0  0  0  0  0  0  0  0  0  0  0  0  0  0  0  0  0  0  0  0  0  0  0  0  0\n",
      "  0  0  0  0  0  0  0  0  0  0  0  0  0  0  0  0  0  0  0  0  0  0  0  0  0  0  0  0\n",
      "  0  0  0  0  0  0  0  0  0  0  0  0  0  0  0  0  0  0  0  0  0  0  0  0  0  0  0  0\n"
     ]
    }
   ],
   "source": [
    "x= train_images[30000]\n",
    "#%%\n",
    "for i in range(28):\n",
    "    for j in range(28):\n",
    "        z= x[i,j]\n",
    "        print(f'{z:3d}', end='')\n",
    "    print()"
   ]
  },
  {
   "cell_type": "code",
   "execution_count": 4,
   "id": "9b38345a",
   "metadata": {},
   "outputs": [
    {
     "data": {
      "text/plain": [
       "<matplotlib.image.AxesImage at 0x1420328dc70>"
      ]
     },
     "execution_count": 4,
     "metadata": {},
     "output_type": "execute_result"
    },
    {
     "data": {
      "image/png": "[encoded data removed]",
      "text/plain": [
       "<Figure size 432x288 with 1 Axes>"
      ]
     },
     "metadata": {
      "needs_background": "light"
     },
     "output_type": "display_data"
    }
   ],
   "source": [
    "import matplotlib.pyplot as pl\n",
    "pl.imshow(x)"
   ]
  },
  {
   "cell_type": "code",
   "execution_count": 5,
   "id": "bef66f2d",
   "metadata": {},
   "outputs": [
    {
     "data": {
      "image/png": "[encoded data removed]",
      "text/plain": [
       "<Figure size 432x288 with 1 Axes>"
      ]
     },
     "metadata": {
      "needs_background": "light"
     },
     "output_type": "display_data"
    }
   ],
   "source": [
    "import matplotlib.pyplot as plt\n",
    "digit = train_images[30000]\n",
    "plt.imshow(digit, cmap=plt.cm.binary)\n",
    "plt.show()"
   ]
  },
  {
   "cell_type": "code",
   "execution_count": 6,
   "id": "8a0b6f28",
   "metadata": {},
   "outputs": [
    {
     "name": "stdout",
     "output_type": "stream",
     "text": [
      "y = 3\n"
     ]
    }
   ],
   "source": [
    "y= train_labels[30000]\n",
    "print(f'{y = }')"
   ]
  },
  {
   "cell_type": "code",
   "execution_count": 12,
   "id": "8c09b855",
   "metadata": {},
   "outputs": [],
   "source": [
    "# Preparing the image data\n",
    "train_images = train_images.reshape((60000, 28 * 28))\n",
    "train_images = train_images.astype(\"float32\") / 255\n",
    "test_images = test_images.reshape((10000, 28 * 28))\n",
    "test_images = test_images.astype(\"float32\") / 255"
   ]
  },
  {
   "cell_type": "code",
   "execution_count": 13,
   "id": "ead25fbe",
   "metadata": {},
   "outputs": [
    {
     "name": "stdout",
     "output_type": "stream",
     "text": [
      "1875/1875 [==============================] - 6s 3ms/step - loss: 4.3381 - accuracy: 0.3555\n",
      "1875/1875 [==============================] - 2s 1ms/step - loss: 3.9874 - accuracy: 0.3877\n"
     ]
    },
    {
     "data": {
      "text/plain": [
       "[3.9874072074890137, 0.3876666724681854]"
      ]
     },
     "execution_count": 13,
     "metadata": {},
     "output_type": "execute_result"
    }
   ],
   "source": [
    "# The network architecture\n",
    "from tensorflow import keras\n",
    "from tensorflow.keras import layers\n",
    "my_model = keras.Sequential([\n",
    "    layers.Dense(512),\n",
    "])\n",
    "\n",
    "# The compilation step\n",
    "my_model.compile(loss=\"sparse_categorical_crossentropy\",\n",
    "              metrics=[\"accuracy\"])\n",
    "# \"Fitting\" the model\n",
    "\n",
    "my_model.fit(train_images, train_labels)\n",
    "my_model.evaluate(train_images, train_labels)"
   ]
  },
  {
   "cell_type": "code",
   "execution_count": 15,
   "id": "b1325ddc",
   "metadata": {},
   "outputs": [
    {
     "name": "stdout",
     "output_type": "stream",
     "text": [
      "Epoch 1/5\n",
      "2143/2143 [==============================] - 8s 3ms/step - loss: 4.8713 - accuracy: 0.1000\n",
      "Epoch 2/5\n",
      "2143/2143 [==============================] - 8s 4ms/step - loss: 4.8520 - accuracy: 0.0987\n",
      "Epoch 3/5\n",
      "2143/2143 [==============================] - 8s 4ms/step - loss: 4.8520 - accuracy: 0.0987\n",
      "Epoch 4/5\n",
      "2143/2143 [==============================] - 9s 4ms/step - loss: 4.8520 - accuracy: 0.0987\n",
      "Epoch 5/5\n",
      "2143/2143 [==============================] - 8s 4ms/step - loss: 4.8520 - accuracy: 0.0987\n",
      "1875/1875 [==============================] - 2s 1ms/step - loss: 4.8520 - accuracy: 0.0987\n"
     ]
    },
    {
     "data": {
      "text/plain": [
       "[4.852000713348389, 0.09871666878461838]"
      ]
     },
     "execution_count": 15,
     "metadata": {},
     "output_type": "execute_result"
    }
   ],
   "source": [
    "# The network architecture\n",
    "# 看看加一層 Dense(128, activation=\"relu\") 和 epochs=5, batch_size=28 會如何\n",
    "from tensorflow import keras\n",
    "from tensorflow.keras import layers\n",
    "my_model = keras.Sequential([\n",
    "    layers.Dense(512, activation=\"relu\"),\n",
    "    layers.Dense(128, activation=\"relu\")\n",
    "])\n",
    "\n",
    "# The compilation step\n",
    "my_model.compile(loss=\"sparse_categorical_crossentropy\",\n",
    "              metrics=[\"accuracy\"])\n",
    "\n",
    "# \"Fitting\" the model\n",
    "my_model.fit(train_images, train_labels, epochs=5, batch_size=28)\n",
    "my_model.evaluate(train_images, train_labels)"
   ]
  },
  {
   "cell_type": "code",
   "execution_count": 16,
   "id": "3b82d0f5",
   "metadata": {},
   "outputs": [
    {
     "name": "stdout",
     "output_type": "stream",
     "text": [
      "Epoch 1/5\n",
      "2143/2143 [==============================] - 8s 3ms/step - loss: 1.0834 - accuracy: 0.7206\n",
      "Epoch 2/5\n",
      "2143/2143 [==============================] - 7s 3ms/step - loss: 0.3828 - accuracy: 0.8914\n",
      "Epoch 3/5\n",
      "2143/2143 [==============================] - 7s 3ms/step - loss: 0.3245 - accuracy: 0.9054\n",
      "Epoch 4/5\n",
      "2143/2143 [==============================] - 7s 3ms/step - loss: 0.2994 - accuracy: 0.9133\n",
      "Epoch 5/5\n",
      "2143/2143 [==============================] - 7s 3ms/step - loss: 0.2814 - accuracy: 0.9183\n",
      "1875/1875 [==============================] - 2s 1ms/step - loss: 0.2704 - accuracy: 0.9214\n"
     ]
    },
    {
     "data": {
      "text/plain": [
       "[0.27044522762298584, 0.9213833212852478]"
      ]
     },
     "execution_count": 16,
     "metadata": {},
     "output_type": "execute_result"
    }
   ],
   "source": [
    "# The network architecture\n",
    "# 看看加一層 Dense(100, activation=\"softmax\") 和 epochs=5, batch_size=28 會如何\n",
    "from tensorflow import keras\n",
    "from tensorflow.keras import layers\n",
    "my_model = keras.Sequential([\n",
    "    layers.Dense(512, activation=\"relu\"),\n",
    "    layers.Dense(100, activation=\"softmax\")\n",
    "])\n",
    "\n",
    "# The compilation step\n",
    "my_model.compile(optimizer=\"rmsprop\",\n",
    "              loss=\"sparse_categorical_crossentropy\",\n",
    "              metrics=[\"accuracy\"])\n",
    "\n",
    "# \"Fitting\" the model\n",
    "my_model.fit(train_images, train_labels, epochs=5, batch_size=28)\n",
    "my_model.evaluate(train_images, train_labels)"
   ]
  },
  {
   "cell_type": "code",
   "execution_count": 18,
   "id": "daf177df",
   "metadata": {},
   "outputs": [
    {
     "name": "stdout",
     "output_type": "stream",
     "text": [
      "Epoch 1/10\n",
      "469/469 [==============================] - 3s 6ms/step - loss: 2.0478 - accuracy: 0.4812\n",
      "Epoch 2/10\n",
      "469/469 [==============================] - 3s 6ms/step - loss: 0.8252 - accuracy: 0.8088\n",
      "Epoch 3/10\n",
      "469/469 [==============================] - 2s 5ms/step - loss: 0.4863 - accuracy: 0.8732\n",
      "Epoch 4/10\n",
      "469/469 [==============================] - 2s 5ms/step - loss: 0.3906 - accuracy: 0.8918\n",
      "Epoch 5/10\n",
      "469/469 [==============================] - 3s 5ms/step - loss: 0.3506 - accuracy: 0.9011\n",
      "Epoch 6/10\n",
      "469/469 [==============================] - 3s 6ms/step - loss: 0.3280 - accuracy: 0.9066\n",
      "Epoch 7/10\n",
      "469/469 [==============================] - 3s 5ms/step - loss: 0.3124 - accuracy: 0.9101\n",
      "Epoch 8/10\n",
      "469/469 [==============================] - 2s 5ms/step - loss: 0.3008 - accuracy: 0.9133\n",
      "Epoch 9/10\n",
      "469/469 [==============================] - 2s 5ms/step - loss: 0.2911 - accuracy: 0.9163\n",
      "Epoch 10/10\n",
      "469/469 [==============================] - 2s 5ms/step - loss: 0.2829 - accuracy: 0.9186\n",
      "1875/1875 [==============================] - 2s 1ms/step - loss: 0.2773 - accuracy: 0.9197\n"
     ]
    },
    {
     "data": {
      "text/plain": [
       "[0.2773284614086151, 0.9197333455085754]"
      ]
     },
     "execution_count": 18,
     "metadata": {},
     "output_type": "execute_result"
    }
   ],
   "source": [
    "# The network architecture\n",
    "# 看看加一層 Dense(100, activation=\"softmax\") 和 epochs=10, batch_size=128 會如何\n",
    "from tensorflow import keras\n",
    "from tensorflow.keras import layers\n",
    "my_model = keras.Sequential([\n",
    "    layers.Dense(512, activation=\"relu\"),\n",
    "    layers.Dense(100, activation=\"softmax\")\n",
    "])\n",
    "\n",
    "# The compilation step\n",
    "my_model.compile(optimizer=\"rmsprop\",\n",
    "              loss=\"sparse_categorical_crossentropy\",\n",
    "              metrics=[\"accuracy\"])\n",
    "\n",
    "# \"Fitting\" the model\n",
    "my_model.fit(train_images, train_labels, epochs=10, batch_size=128)\n",
    "my_model.evaluate(train_images, train_labels)"
   ]
  },
  {
   "cell_type": "code",
   "execution_count": 26,
   "id": "8c241e76",
   "metadata": {},
   "outputs": [
    {
     "name": "stdout",
     "output_type": "stream",
     "text": [
      "Epoch 1/10\n",
      "600/600 [==============================] - 3s 4ms/step - loss: 1.0896 - accuracy: 0.6800\n",
      "Epoch 2/10\n",
      "600/600 [==============================] - 2s 4ms/step - loss: 0.4432 - accuracy: 0.8702\n",
      "Epoch 3/10\n",
      "600/600 [==============================] - 2s 4ms/step - loss: 0.3518 - accuracy: 0.8978\n",
      "Epoch 4/10\n",
      "600/600 [==============================] - 2s 4ms/step - loss: 0.3106 - accuracy: 0.9092\n",
      "Epoch 5/10\n",
      "600/600 [==============================] - 2s 4ms/step - loss: 0.2814 - accuracy: 0.9180\n",
      "Epoch 6/10\n",
      "600/600 [==============================] - 2s 4ms/step - loss: 0.2544 - accuracy: 0.9255\n",
      "Epoch 7/10\n",
      "600/600 [==============================] - 2s 4ms/step - loss: 0.2307 - accuracy: 0.9327\n",
      "Epoch 8/10\n",
      "600/600 [==============================] - 2s 4ms/step - loss: 0.2098 - accuracy: 0.9395\n",
      "Epoch 9/10\n",
      "600/600 [==============================] - 2s 4ms/step - loss: 0.1911 - accuracy: 0.9448\n",
      "Epoch 10/10\n",
      "600/600 [==============================] - 3s 4ms/step - loss: 0.1755 - accuracy: 0.9490\n",
      "1875/1875 [==============================] - 2s 949us/step - loss: 0.1744 - accuracy: 0.9485\n"
     ]
    },
    {
     "data": {
      "text/plain": [
       "[0.17435751855373383, 0.9484666585922241]"
      ]
     },
     "execution_count": 26,
     "metadata": {},
     "output_type": "execute_result"
    }
   ],
   "source": [
    "# The network architecture\n",
    "from tensorflow import keras\n",
    "from tensorflow.keras import layers\n",
    "my_model = keras.Sequential([\n",
    "    layers.Dense(512, activation=\"relu\"),\n",
    "    keras.layers.Dense(50,  activation= 'relu'), \n",
    "    keras.layers.Dense(10,  activation= 'softmax')\n",
    "])\n",
    "\n",
    "# The compilation step\n",
    "my_model.compile(optimizer=\"rmsprop\",\n",
    "              loss=\"sparse_categorical_crossentropy\",\n",
    "              metrics=[\"accuracy\"])\n",
    "\n",
    "# \"Fitting\" the model\n",
    "my_model.fit(train_images, train_labels, epochs=10, batch_size=100)\n",
    "my_model.evaluate(train_images, train_labels)"
   ]
  },
  {
   "cell_type": "code",
   "execution_count": 33,
   "id": "ffb9b3b9",
   "metadata": {},
   "outputs": [
    {
     "name": "stdout",
     "output_type": "stream",
     "text": [
      "1/1 [==============================] - 0s 12ms/step\n",
      "[6.5600623e-05 4.3684056e-09 1.2256218e-04 1.1415301e-03 3.4481678e-07\n",
      " 3.1823140e-05 2.0067421e-09 9.9797183e-01 9.2835926e-06 6.5698038e-04]\n",
      "7\n",
      "0.99797183\n",
      "7\n",
      "313/313 [==============================] - 0s 1ms/step - loss: 0.2555 - accuracy: 0.9276\n",
      "test_acc: 0.9276000261306763\n"
     ]
    }
   ],
   "source": [
    "# Using the model to make predictions\n",
    "\n",
    "test_digits = test_images[0:10]\n",
    "predictions = my_model.predict(test_digits)\n",
    "print(predictions[0])\n",
    "print(predictions[0].argmax())\n",
    "print(predictions[0][7])\n",
    "print(test_labels[0])\n",
    "\n",
    "# Evaluating the model on new data\n",
    "\n",
    "test_loss, test_acc = my_model.evaluate(test_images, test_labels)\n",
    "print(f\"test_acc: {test_acc}\")"
   ]
  },
  {
   "cell_type": "code",
   "execution_count": 36,
   "id": "516ac470",
   "metadata": {},
   "outputs": [
    {
     "data": {
      "text/plain": [
       "0"
      ]
     },
     "execution_count": 36,
     "metadata": {},
     "output_type": "execute_result"
    }
   ],
   "source": [
    "# Data representations for neural networks\n",
    "import numpy as np\n",
    "x = np.array(12)\n",
    "x.ndim"
   ]
  },
  {
   "cell_type": "code",
   "execution_count": 37,
   "id": "e94c912d",
   "metadata": {},
   "outputs": [
    {
     "data": {
      "text/plain": [
       "1"
      ]
     },
     "execution_count": 37,
     "metadata": {},
     "output_type": "execute_result"
    }
   ],
   "source": [
    "# Vectors\n",
    "x = np.array([12, 3, 6, 14, 7])\n",
    "x.ndim"
   ]
  },
  {
   "cell_type": "code",
   "execution_count": 44,
   "id": "b89242b4",
   "metadata": {},
   "outputs": [
    {
     "name": "stdout",
     "output_type": "stream",
     "text": [
      "2\n",
      "[[ 5 78  2]\n",
      " [34  0  6]\n",
      " [79  3 35]\n",
      " [ 1  7 80]\n",
      " [ 4 36  2]]\n",
      "2\n"
     ]
    }
   ],
   "source": [
    "# Matrices\n",
    "x = np.array([[5, 78, 2, 34, 0],\n",
    " [6, 79, 3, 35, 1],\n",
    " [7, 80, 4, 36, 2]])\n",
    "print(x.ndim)\n",
    "x1 = x.reshape(5,3)\n",
    "print(x1)\n",
    "print(x1.ndim)"
   ]
  },
  {
   "cell_type": "code",
   "execution_count": 45,
   "id": "71729345",
   "metadata": {},
   "outputs": [
    {
     "data": {
      "text/plain": [
       "3"
      ]
     },
     "execution_count": 45,
     "metadata": {},
     "output_type": "execute_result"
    }
   ],
   "source": [
    "# Rank-3 and higher-rank tensors\n",
    "x = np.array([[[5, 78, 2, 34, 0],\n",
    " [6, 79, 3, 35, 1],\n",
    " [7, 80, 4, 36, 2]],\n",
    " [[5, 78, 2, 34, 0],\n",
    " [6, 79, 3, 35, 1],\n",
    " [7, 80, 4, 36, 2]],\n",
    " [[5, 78, 2, 34, 0],\n",
    " [6, 79, 3, 35, 1],\n",
    " [7, 80, 4, 36, 2]]])\n",
    "x.ndim "
   ]
  },
  {
   "cell_type": "code",
   "execution_count": 49,
   "id": "9e92f2a8",
   "metadata": {},
   "outputs": [
    {
     "name": "stdout",
     "output_type": "stream",
     "text": [
      "3\n",
      "(60000, 28, 28)\n",
      "uint8\n",
      "47040000\n",
      "47040000\n"
     ]
    }
   ],
   "source": [
    "# Key attributes\n",
    "from tensorflow.keras.datasets import mnist\n",
    "(train_images, train_labels), (test_images, test_labels) = mnist.load_data()\n",
    "print(train_images.ndim)\n",
    "print(train_images.shape)\n",
    "print(train_images.dtype)\n",
    "print(train_images.size)\n",
    "print(train_images.nbytes)"
   ]
  },
  {
   "cell_type": "code",
   "execution_count": 50,
   "id": "56cefb2f",
   "metadata": {},
   "outputs": [
    {
     "name": "stdout",
     "output_type": "stream",
     "text": [
      "(90, 28, 28)\n",
      "(90, 28, 28)\n"
     ]
    }
   ],
   "source": [
    "# Manipulating tensors in NumPy\n",
    "my_slice = train_images[10:100, :, :]\n",
    "print(my_slice.shape)\n",
    "my_slice = train_images[10:100, 0:28, 0:28]\n",
    "print(my_slice.shape)"
   ]
  },
  {
   "cell_type": "code",
   "execution_count": 51,
   "id": "b4467852",
   "metadata": {},
   "outputs": [
    {
     "data": {
      "image/png": "[encoded data removed]",
      "text/plain": [
       "<Figure size 432x288 with 1 Axes>"
      ]
     },
     "metadata": {
      "needs_background": "light"
     },
     "output_type": "display_data"
    }
   ],
   "source": [
    "# The fourth sample in our dataset\n",
    "import matplotlib.pyplot as plt\n",
    "digit = train_images[4]\n",
    "plt.imshow(digit, cmap=plt.cm.binary)\n",
    "plt.show()"
   ]
  },
  {
   "cell_type": "code",
   "execution_count": 52,
   "id": "f6ff3012",
   "metadata": {},
   "outputs": [
    {
     "data": {
      "text/plain": [
       "9"
      ]
     },
     "execution_count": 52,
     "metadata": {},
     "output_type": "execute_result"
    }
   ],
   "source": [
    "train_labels[4] "
   ]
  },
  {
   "cell_type": "code",
   "execution_count": 54,
   "id": "1bd1af4c",
   "metadata": {},
   "outputs": [
    {
     "data": {
      "text/plain": [
       "array([[[240, 253, 253, ...,   0,   0,   0],\n",
       "        [ 45, 186, 253, ...,   0,   0,   0],\n",
       "        [  0,  16,  93, ...,   0,   0,   0],\n",
       "        ...,\n",
       "        [  0,   0,   0, ...,   0,   0,   0],\n",
       "        [  0,   0,   0, ...,   0,   0,   0],\n",
       "        [  0,   0,   0, ...,   0,   0,   0]],\n",
       "\n",
       "       [[  0,   0,   0, ...,   0,   0,   0],\n",
       "        [  0,   0,   0, ...,   0,   0,   0],\n",
       "        [  0,   0,   0, ...,   0,   0,   0],\n",
       "        ...,\n",
       "        [  0,   0,   0, ...,   0,   0,   0],\n",
       "        [  0,   0,   0, ...,   0,   0,   0],\n",
       "        [  0,   0,   0, ...,   0,   0,   0]],\n",
       "\n",
       "       [[241, 243, 234, ...,   0,   0,   0],\n",
       "        [143,  91,  28, ...,   0,   0,   0],\n",
       "        [  0,   0,   0, ...,   0,   0,   0],\n",
       "        ...,\n",
       "        [  0,   0,   0, ...,   0,   0,   0],\n",
       "        [  0,   0,   0, ...,   0,   0,   0],\n",
       "        [  0,   0,   0, ...,   0,   0,   0]],\n",
       "\n",
       "       ...,\n",
       "\n",
       "       [[253, 254, 253, ...,   0,   0,   0],\n",
       "        [ 72, 192, 254, ...,   0,   0,   0],\n",
       "        [  0,   6, 242, ...,   0,   0,   0],\n",
       "        ...,\n",
       "        [  0,   0,   0, ...,   0,   0,   0],\n",
       "        [  0,   0,   0, ...,   0,   0,   0],\n",
       "        [  0,   0,   0, ...,   0,   0,   0]],\n",
       "\n",
       "       [[  0,  31, 127, ...,   0,   0,   0],\n",
       "        [ 27, 218, 252, ...,   0,   0,   0],\n",
       "        [194, 253, 217, ...,   0,   0,   0],\n",
       "        ...,\n",
       "        [  0,   0,   0, ...,   0,   0,   0],\n",
       "        [  0,   0,   0, ...,   0,   0,   0],\n",
       "        [  0,   0,   0, ...,   0,   0,   0]],\n",
       "\n",
       "       [[ 97, 254, 252, ...,   0,   0,   0],\n",
       "        [232, 181,  60, ...,   0,   0,   0],\n",
       "        [ 46,   0,   0, ...,   0,   0,   0],\n",
       "        ...,\n",
       "        [  0,   0,   0, ...,   0,   0,   0],\n",
       "        [  0,   0,   0, ...,   0,   0,   0],\n",
       "        [  0,   0,   0, ...,   0,   0,   0]]], dtype=uint8)"
      ]
     },
     "execution_count": 54,
     "metadata": {},
     "output_type": "execute_result"
    }
   ],
   "source": [
    "my_slice = train_images[:, 14:, 14:]\n",
    "my_slice"
   ]
  },
  {
   "cell_type": "code",
   "execution_count": 55,
   "id": "b90ee869",
   "metadata": {},
   "outputs": [
    {
     "data": {
      "text/plain": [
       "array([[[ 49, 238, 253, ...,  93,  82,  82],\n",
       "        [ 18, 219, 253, ...,   0,   0,   0],\n",
       "        [  0,  80, 156, ...,   0,   0,   0],\n",
       "        ...,\n",
       "        [  0,   0,   0, ..., 253, 207,   2],\n",
       "        [  0,   0,   0, ..., 250, 182,   0],\n",
       "        [  0,   0,   0, ...,  78,   0,   0]],\n",
       "\n",
       "       [[  0,   0,   0, ...,  84, 252, 253],\n",
       "        [  0,   0,   0, ...,  96, 189, 253],\n",
       "        [  0,   0,   0, ...,  47,  79, 255],\n",
       "        ...,\n",
       "        [252, 145,   0, ..., 252, 173,   0],\n",
       "        [253, 225,   0, ..., 162,   0,   0],\n",
       "        [252, 249, 146, ...,  56,   0,   0]],\n",
       "\n",
       "       [[  0,   0,   0, ...,   0,   2, 153],\n",
       "        [  0,   0,   0, ...,   0,  27, 254],\n",
       "        [  0,   0,   0, ...,   0, 183, 254],\n",
       "        ...,\n",
       "        [  0,   0,   0, ..., 254,  57,   0],\n",
       "        [  0,   0,   0, ..., 254,  57,   0],\n",
       "        [  0,   0,   0, ..., 255,  94,   0]],\n",
       "\n",
       "       ...,\n",
       "\n",
       "       [[  0,   0,   0, ..., 223, 159, 131],\n",
       "        [  0,   0,   0, ...,  27,   0,   0],\n",
       "        [  0,   0,  54, ...,   0,   0,   0],\n",
       "        ...,\n",
       "        [  0,   0,   0, ..., 173,   0,   0],\n",
       "        [  0,   0,   0, ..., 173,   0,   0],\n",
       "        [  0,   0,   0, ...,  74,   0,   0]],\n",
       "\n",
       "       [[  0,   0,   0, ...,   0,   0,   0],\n",
       "        [  0,   0,   0, ...,   0,   0,   0],\n",
       "        [  0,   0,   0, ...,   0,   0,   0],\n",
       "        ...,\n",
       "        [247, 110,   0, ..., 146, 163,  63],\n",
       "        [236, 128,   0, ..., 178,  12,   0],\n",
       "        [239, 196, 169, ...,   0,   0,   0]],\n",
       "\n",
       "       [[  0,   0,   0, ..., 254, 212,  27],\n",
       "        [  0,   0,   0, ..., 218, 237, 248],\n",
       "        [  0,   0,   0, ...,   0,  92, 231],\n",
       "        ...,\n",
       "        [  0, 110, 254, ...,   0,   0,   0],\n",
       "        [131, 254, 154, ...,   0,   0,   0],\n",
       "        [209, 153,  19, ...,   0,   0,   0]]], dtype=uint8)"
      ]
     },
     "execution_count": 55,
     "metadata": {},
     "output_type": "execute_result"
    }
   ],
   "source": [
    "my_slice = train_images[:, 7:-7, 7:-7]\n",
    "my_slice"
   ]
  },
  {
   "cell_type": "code",
   "execution_count": 57,
   "id": "7702b0d5",
   "metadata": {},
   "outputs": [
    {
     "name": "stdout",
     "output_type": "stream",
     "text": [
      "[[[0 0 0 ... 0 0 0]\n",
      "  [0 0 0 ... 0 0 0]\n",
      "  [0 0 0 ... 0 0 0]\n",
      "  ...\n",
      "  [0 0 0 ... 0 0 0]\n",
      "  [0 0 0 ... 0 0 0]\n",
      "  [0 0 0 ... 0 0 0]]\n",
      "\n",
      " [[0 0 0 ... 0 0 0]\n",
      "  [0 0 0 ... 0 0 0]\n",
      "  [0 0 0 ... 0 0 0]\n",
      "  ...\n",
      "  [0 0 0 ... 0 0 0]\n",
      "  [0 0 0 ... 0 0 0]\n",
      "  [0 0 0 ... 0 0 0]]\n",
      "\n",
      " [[0 0 0 ... 0 0 0]\n",
      "  [0 0 0 ... 0 0 0]\n",
      "  [0 0 0 ... 0 0 0]\n",
      "  ...\n",
      "  [0 0 0 ... 0 0 0]\n",
      "  [0 0 0 ... 0 0 0]\n",
      "  [0 0 0 ... 0 0 0]]\n",
      "\n",
      " ...\n",
      "\n",
      " [[0 0 0 ... 0 0 0]\n",
      "  [0 0 0 ... 0 0 0]\n",
      "  [0 0 0 ... 0 0 0]\n",
      "  ...\n",
      "  [0 0 0 ... 0 0 0]\n",
      "  [0 0 0 ... 0 0 0]\n",
      "  [0 0 0 ... 0 0 0]]\n",
      "\n",
      " [[0 0 0 ... 0 0 0]\n",
      "  [0 0 0 ... 0 0 0]\n",
      "  [0 0 0 ... 0 0 0]\n",
      "  ...\n",
      "  [0 0 0 ... 0 0 0]\n",
      "  [0 0 0 ... 0 0 0]\n",
      "  [0 0 0 ... 0 0 0]]\n",
      "\n",
      " [[0 0 0 ... 0 0 0]\n",
      "  [0 0 0 ... 0 0 0]\n",
      "  [0 0 0 ... 0 0 0]\n",
      "  ...\n",
      "  [0 0 0 ... 0 0 0]\n",
      "  [0 0 0 ... 0 0 0]\n",
      "  [0 0 0 ... 0 0 0]]]\n"
     ]
    }
   ],
   "source": [
    "# The notion of data batches\n",
    "batch = train_images[:128]\n",
    "print(batch)"
   ]
  },
  {
   "cell_type": "code",
   "execution_count": 58,
   "id": "ae410659",
   "metadata": {},
   "outputs": [
    {
     "name": "stdout",
     "output_type": "stream",
     "text": [
      "[[[0 0 0 ... 0 0 0]\n",
      "  [0 0 0 ... 0 0 0]\n",
      "  [0 0 0 ... 0 0 0]\n",
      "  ...\n",
      "  [0 0 0 ... 0 0 0]\n",
      "  [0 0 0 ... 0 0 0]\n",
      "  [0 0 0 ... 0 0 0]]\n",
      "\n",
      " [[0 0 0 ... 0 0 0]\n",
      "  [0 0 0 ... 0 0 0]\n",
      "  [0 0 0 ... 0 0 0]\n",
      "  ...\n",
      "  [0 0 0 ... 0 0 0]\n",
      "  [0 0 0 ... 0 0 0]\n",
      "  [0 0 0 ... 0 0 0]]\n",
      "\n",
      " [[0 0 0 ... 0 0 0]\n",
      "  [0 0 0 ... 0 0 0]\n",
      "  [0 0 0 ... 0 0 0]\n",
      "  ...\n",
      "  [0 0 0 ... 0 0 0]\n",
      "  [0 0 0 ... 0 0 0]\n",
      "  [0 0 0 ... 0 0 0]]\n",
      "\n",
      " ...\n",
      "\n",
      " [[0 0 0 ... 0 0 0]\n",
      "  [0 0 0 ... 0 0 0]\n",
      "  [0 0 0 ... 0 0 0]\n",
      "  ...\n",
      "  [0 0 0 ... 0 0 0]\n",
      "  [0 0 0 ... 0 0 0]\n",
      "  [0 0 0 ... 0 0 0]]\n",
      "\n",
      " [[0 0 0 ... 0 0 0]\n",
      "  [0 0 0 ... 0 0 0]\n",
      "  [0 0 0 ... 0 0 0]\n",
      "  ...\n",
      "  [0 0 0 ... 0 0 0]\n",
      "  [0 0 0 ... 0 0 0]\n",
      "  [0 0 0 ... 0 0 0]]\n",
      "\n",
      " [[0 0 0 ... 0 0 0]\n",
      "  [0 0 0 ... 0 0 0]\n",
      "  [0 0 0 ... 0 0 0]\n",
      "  ...\n",
      "  [0 0 0 ... 0 0 0]\n",
      "  [0 0 0 ... 0 0 0]\n",
      "  [0 0 0 ... 0 0 0]]]\n"
     ]
    }
   ],
   "source": [
    "batch = train_images[128:256]\n",
    "print(batch)"
   ]
  },
  {
   "cell_type": "code",
   "execution_count": 59,
   "id": "9d1817f4",
   "metadata": {},
   "outputs": [
    {
     "name": "stdout",
     "output_type": "stream",
     "text": [
      "[[[0 0 0 ... 0 0 0]\n",
      "  [0 0 0 ... 0 0 0]\n",
      "  [0 0 0 ... 0 0 0]\n",
      "  ...\n",
      "  [0 0 0 ... 0 0 0]\n",
      "  [0 0 0 ... 0 0 0]\n",
      "  [0 0 0 ... 0 0 0]]\n",
      "\n",
      " [[0 0 0 ... 0 0 0]\n",
      "  [0 0 0 ... 0 0 0]\n",
      "  [0 0 0 ... 0 0 0]\n",
      "  ...\n",
      "  [0 0 0 ... 0 0 0]\n",
      "  [0 0 0 ... 0 0 0]\n",
      "  [0 0 0 ... 0 0 0]]\n",
      "\n",
      " [[0 0 0 ... 0 0 0]\n",
      "  [0 0 0 ... 0 0 0]\n",
      "  [0 0 0 ... 0 0 0]\n",
      "  ...\n",
      "  [0 0 0 ... 0 0 0]\n",
      "  [0 0 0 ... 0 0 0]\n",
      "  [0 0 0 ... 0 0 0]]\n",
      "\n",
      " ...\n",
      "\n",
      " [[0 0 0 ... 0 0 0]\n",
      "  [0 0 0 ... 0 0 0]\n",
      "  [0 0 0 ... 0 0 0]\n",
      "  ...\n",
      "  [0 0 0 ... 0 0 0]\n",
      "  [0 0 0 ... 0 0 0]\n",
      "  [0 0 0 ... 0 0 0]]\n",
      "\n",
      " [[0 0 0 ... 0 0 0]\n",
      "  [0 0 0 ... 0 0 0]\n",
      "  [0 0 0 ... 0 0 0]\n",
      "  ...\n",
      "  [0 0 0 ... 0 0 0]\n",
      "  [0 0 0 ... 0 0 0]\n",
      "  [0 0 0 ... 0 0 0]]\n",
      "\n",
      " [[0 0 0 ... 0 0 0]\n",
      "  [0 0 0 ... 0 0 0]\n",
      "  [0 0 0 ... 0 0 0]\n",
      "  ...\n",
      "  [0 0 0 ... 0 0 0]\n",
      "  [0 0 0 ... 0 0 0]\n",
      "  [0 0 0 ... 0 0 0]]]\n"
     ]
    }
   ],
   "source": [
    "n = 3\n",
    "batch = train_images[128 * n:128 * (n + 1)]\n",
    "print(batch)"
   ]
  },
  {
   "cell_type": "code",
   "execution_count": 60,
   "id": "db5ba17c",
   "metadata": {},
   "outputs": [],
   "source": [
    "# Element-wise operations\n",
    "def naive_relu(x):\n",
    "    assert len(x.shape) == 2\n",
    "    x = x.copy()\n",
    "    for i in range(x.shape[0]):\n",
    "        for j in range(x.shape[1]):\n",
    "            x[i, j] = max(x[i, j], 0)\n",
    "    return x"
   ]
  },
  {
   "cell_type": "code",
   "execution_count": 61,
   "id": "e3f629da",
   "metadata": {},
   "outputs": [],
   "source": [
    "def naive_add(x, y):\n",
    "    assert len(x.shape) == 2\n",
    "    assert x.shape == y.shape\n",
    "    x = x.copy()\n",
    "    for i in range(x.shape[0]):\n",
    "        for j in range(x.shape[1]):\n",
    "            x[i, j] += y[i, j]\n",
    "    return x"
   ]
  },
  {
   "cell_type": "code",
   "execution_count": 62,
   "id": "052c6205",
   "metadata": {},
   "outputs": [
    {
     "name": "stdout",
     "output_type": "stream",
     "text": [
      "Took: 0.00 s\n"
     ]
    }
   ],
   "source": [
    "import time\n",
    "\n",
    "x = np.random.random((20, 100))\n",
    "y = np.random.random((20, 100))\n",
    "\n",
    "t0 = time.time()\n",
    "for _ in range(1000):\n",
    "    z = x + y\n",
    "    z = np.maximum(z, 0.)\n",
    "print(\"Took: {0:.2f} s\".format(time.time() - t0))"
   ]
  },
  {
   "cell_type": "code",
   "execution_count": 63,
   "id": "b3dc8851",
   "metadata": {},
   "outputs": [
    {
     "name": "stdout",
     "output_type": "stream",
     "text": [
      "Took: 1.29 s\n"
     ]
    }
   ],
   "source": [
    "t0 = time.time()\n",
    "for _ in range(1000):\n",
    "    z = naive_add(x, y)\n",
    "    z = naive_relu(z)\n",
    "print(\"Took: {0:.2f} s\".format(time.time() - t0))"
   ]
  },
  {
   "cell_type": "code",
   "execution_count": 69,
   "id": "f77b2655",
   "metadata": {},
   "outputs": [],
   "source": [
    "# Broadcasting\n",
    "import numpy as np\n",
    "X = np.random.random((32, 10))\n",
    "y = np.random.random((10,))"
   ]
  },
  {
   "cell_type": "code",
   "execution_count": 70,
   "id": "ed5c8b16",
   "metadata": {},
   "outputs": [
    {
     "data": {
      "text/plain": [
       "array([[0.28066035, 0.45044534, 0.2454578 , 0.75364339, 0.29912727,\n",
       "        0.72111673, 0.80340035, 0.88226995, 0.69243532, 0.18584728]])"
      ]
     },
     "execution_count": 70,
     "metadata": {},
     "output_type": "execute_result"
    }
   ],
   "source": [
    "y = np.expand_dims(y, axis=0)\n",
    "y"
   ]
  },
  {
   "cell_type": "code",
   "execution_count": 71,
   "id": "cdd389dc",
   "metadata": {},
   "outputs": [
    {
     "data": {
      "text/plain": [
       "array([[0.28066035, 0.45044534, 0.2454578 , 0.75364339, 0.29912727,\n",
       "        0.72111673, 0.80340035, 0.88226995, 0.69243532, 0.18584728],\n",
       "       [0.28066035, 0.45044534, 0.2454578 , 0.75364339, 0.29912727,\n",
       "        0.72111673, 0.80340035, 0.88226995, 0.69243532, 0.18584728],\n",
       "       [0.28066035, 0.45044534, 0.2454578 , 0.75364339, 0.29912727,\n",
       "        0.72111673, 0.80340035, 0.88226995, 0.69243532, 0.18584728],\n",
       "       [0.28066035, 0.45044534, 0.2454578 , 0.75364339, 0.29912727,\n",
       "        0.72111673, 0.80340035, 0.88226995, 0.69243532, 0.18584728],\n",
       "       [0.28066035, 0.45044534, 0.2454578 , 0.75364339, 0.29912727,\n",
       "        0.72111673, 0.80340035, 0.88226995, 0.69243532, 0.18584728],\n",
       "       [0.28066035, 0.45044534, 0.2454578 , 0.75364339, 0.29912727,\n",
       "        0.72111673, 0.80340035, 0.88226995, 0.69243532, 0.18584728],\n",
       "       [0.28066035, 0.45044534, 0.2454578 , 0.75364339, 0.29912727,\n",
       "        0.72111673, 0.80340035, 0.88226995, 0.69243532, 0.18584728],\n",
       "       [0.28066035, 0.45044534, 0.2454578 , 0.75364339, 0.29912727,\n",
       "        0.72111673, 0.80340035, 0.88226995, 0.69243532, 0.18584728],\n",
       "       [0.28066035, 0.45044534, 0.2454578 , 0.75364339, 0.29912727,\n",
       "        0.72111673, 0.80340035, 0.88226995, 0.69243532, 0.18584728],\n",
       "       [0.28066035, 0.45044534, 0.2454578 , 0.75364339, 0.29912727,\n",
       "        0.72111673, 0.80340035, 0.88226995, 0.69243532, 0.18584728],\n",
       "       [0.28066035, 0.45044534, 0.2454578 , 0.75364339, 0.29912727,\n",
       "        0.72111673, 0.80340035, 0.88226995, 0.69243532, 0.18584728],\n",
       "       [0.28066035, 0.45044534, 0.2454578 , 0.75364339, 0.29912727,\n",
       "        0.72111673, 0.80340035, 0.88226995, 0.69243532, 0.18584728],\n",
       "       [0.28066035, 0.45044534, 0.2454578 , 0.75364339, 0.29912727,\n",
       "        0.72111673, 0.80340035, 0.88226995, 0.69243532, 0.18584728],\n",
       "       [0.28066035, 0.45044534, 0.2454578 , 0.75364339, 0.29912727,\n",
       "        0.72111673, 0.80340035, 0.88226995, 0.69243532, 0.18584728],\n",
       "       [0.28066035, 0.45044534, 0.2454578 , 0.75364339, 0.29912727,\n",
       "        0.72111673, 0.80340035, 0.88226995, 0.69243532, 0.18584728],\n",
       "       [0.28066035, 0.45044534, 0.2454578 , 0.75364339, 0.29912727,\n",
       "        0.72111673, 0.80340035, 0.88226995, 0.69243532, 0.18584728],\n",
       "       [0.28066035, 0.45044534, 0.2454578 , 0.75364339, 0.29912727,\n",
       "        0.72111673, 0.80340035, 0.88226995, 0.69243532, 0.18584728],\n",
       "       [0.28066035, 0.45044534, 0.2454578 , 0.75364339, 0.29912727,\n",
       "        0.72111673, 0.80340035, 0.88226995, 0.69243532, 0.18584728],\n",
       "       [0.28066035, 0.45044534, 0.2454578 , 0.75364339, 0.29912727,\n",
       "        0.72111673, 0.80340035, 0.88226995, 0.69243532, 0.18584728],\n",
       "       [0.28066035, 0.45044534, 0.2454578 , 0.75364339, 0.29912727,\n",
       "        0.72111673, 0.80340035, 0.88226995, 0.69243532, 0.18584728],\n",
       "       [0.28066035, 0.45044534, 0.2454578 , 0.75364339, 0.29912727,\n",
       "        0.72111673, 0.80340035, 0.88226995, 0.69243532, 0.18584728],\n",
       "       [0.28066035, 0.45044534, 0.2454578 , 0.75364339, 0.29912727,\n",
       "        0.72111673, 0.80340035, 0.88226995, 0.69243532, 0.18584728],\n",
       "       [0.28066035, 0.45044534, 0.2454578 , 0.75364339, 0.29912727,\n",
       "        0.72111673, 0.80340035, 0.88226995, 0.69243532, 0.18584728],\n",
       "       [0.28066035, 0.45044534, 0.2454578 , 0.75364339, 0.29912727,\n",
       "        0.72111673, 0.80340035, 0.88226995, 0.69243532, 0.18584728],\n",
       "       [0.28066035, 0.45044534, 0.2454578 , 0.75364339, 0.29912727,\n",
       "        0.72111673, 0.80340035, 0.88226995, 0.69243532, 0.18584728],\n",
       "       [0.28066035, 0.45044534, 0.2454578 , 0.75364339, 0.29912727,\n",
       "        0.72111673, 0.80340035, 0.88226995, 0.69243532, 0.18584728],\n",
       "       [0.28066035, 0.45044534, 0.2454578 , 0.75364339, 0.29912727,\n",
       "        0.72111673, 0.80340035, 0.88226995, 0.69243532, 0.18584728],\n",
       "       [0.28066035, 0.45044534, 0.2454578 , 0.75364339, 0.29912727,\n",
       "        0.72111673, 0.80340035, 0.88226995, 0.69243532, 0.18584728],\n",
       "       [0.28066035, 0.45044534, 0.2454578 , 0.75364339, 0.29912727,\n",
       "        0.72111673, 0.80340035, 0.88226995, 0.69243532, 0.18584728],\n",
       "       [0.28066035, 0.45044534, 0.2454578 , 0.75364339, 0.29912727,\n",
       "        0.72111673, 0.80340035, 0.88226995, 0.69243532, 0.18584728],\n",
       "       [0.28066035, 0.45044534, 0.2454578 , 0.75364339, 0.29912727,\n",
       "        0.72111673, 0.80340035, 0.88226995, 0.69243532, 0.18584728],\n",
       "       [0.28066035, 0.45044534, 0.2454578 , 0.75364339, 0.29912727,\n",
       "        0.72111673, 0.80340035, 0.88226995, 0.69243532, 0.18584728]])"
      ]
     },
     "execution_count": 71,
     "metadata": {},
     "output_type": "execute_result"
    }
   ],
   "source": [
    "Y = np.concatenate([y] * 32, axis=0)\n",
    "Y"
   ]
  },
  {
   "cell_type": "code",
   "execution_count": 72,
   "id": "197f701b",
   "metadata": {},
   "outputs": [],
   "source": [
    "def naive_add_matrix_and_vector(x, y):\n",
    "    assert len(x.shape) == 2\n",
    "    assert len(y.shape) == 1\n",
    "    assert x.shape[1] == y.shape[0]\n",
    "    x = x.copy()\n",
    "    for i in range(x.shape[0]):\n",
    "        for j in range(x.shape[1]):\n",
    "            x[i, j] += y[j]\n",
    "    return x"
   ]
  },
  {
   "cell_type": "code",
   "execution_count": 73,
   "id": "21a72676",
   "metadata": {},
   "outputs": [
    {
     "data": {
      "text/plain": [
       "array([[[[0.72762539, 0.77187697, 0.7269862 , ..., 0.3924717 ,\n",
       "          0.96327576, 0.88152216],\n",
       "         [0.85783918, 0.70802209, 0.6400827 , ..., 0.75932309,\n",
       "          0.90321673, 0.9651287 ],\n",
       "         [0.25519939, 0.44406436, 0.7785619 , ..., 0.8629022 ,\n",
       "          0.12805884, 0.98217663],\n",
       "         ...,\n",
       "         [0.87846909, 0.1184059 , 0.89841293, ..., 0.90704984,\n",
       "          0.40531754, 0.79802856],\n",
       "         [0.61048397, 0.64903747, 0.50100135, ..., 0.89114464,\n",
       "          0.88641423, 0.69418562],\n",
       "         [0.87046015, 0.57263858, 0.31816552, ..., 0.37004554,\n",
       "          0.88466486, 0.27672315]],\n",
       "\n",
       "        [[0.78569122, 0.49322897, 0.90978405, ..., 0.04802598,\n",
       "          0.78611536, 0.97473311],\n",
       "         [0.97460953, 0.89205312, 0.09398752, ..., 0.75932309,\n",
       "          0.83602846, 0.9651287 ],\n",
       "         [0.96543976, 0.62877793, 0.7785619 , ..., 0.8629022 ,\n",
       "          0.12805884, 0.98217663],\n",
       "         ...,\n",
       "         [0.87846909, 0.76257771, 0.89841293, ..., 0.90704984,\n",
       "          0.58594881, 0.59067649],\n",
       "         [0.81219661, 0.03449575, 0.8967428 , ..., 0.94249791,\n",
       "          0.71629105, 0.69418562],\n",
       "         [0.90804453, 0.33658103, 0.31816552, ..., 0.21042955,\n",
       "          0.4056458 , 0.27672315]],\n",
       "\n",
       "        [[0.94626977, 0.8265321 , 0.7269862 , ..., 0.0962283 ,\n",
       "          0.30829732, 0.88152216],\n",
       "         [0.85783918, 0.70802209, 0.64684466, ..., 0.82228152,\n",
       "          0.45660168, 0.9651287 ],\n",
       "         [0.74775017, 0.97474126, 0.78635248, ..., 0.8629022 ,\n",
       "          0.91830821, 0.98217663],\n",
       "         ...,\n",
       "         [0.87846909, 0.14389909, 0.93667389, ..., 0.90704984,\n",
       "          0.73011673, 0.6554757 ],\n",
       "         [0.73514064, 0.38355968, 0.50100135, ..., 0.14997167,\n",
       "          0.4797292 , 0.95554187],\n",
       "         [0.445604  , 0.33658103, 0.59283379, ..., 0.39187642,\n",
       "          0.4056458 , 0.49750658]]],\n",
       "\n",
       "\n",
       "       [[[0.72762539, 0.69584109, 0.7269862 , ..., 0.46008247,\n",
       "          0.96129432, 0.99992215],\n",
       "         [0.85783918, 0.70802209, 0.89771228, ..., 0.75932309,\n",
       "          0.23386973, 0.9651287 ],\n",
       "         [0.76320107, 0.57823992, 0.7785619 , ..., 0.8629022 ,\n",
       "          0.71607425, 0.98217663],\n",
       "         ...,\n",
       "         [0.87846909, 0.57904073, 0.89841293, ..., 0.90704984,\n",
       "          0.48892679, 0.76384308],\n",
       "         [0.61048397, 0.53572622, 0.50100135, ..., 0.29187205,\n",
       "          0.99299855, 0.69418562],\n",
       "         [0.5257071 , 0.75194199, 0.31816552, ..., 0.21042955,\n",
       "          0.45522272, 0.50568923]],\n",
       "\n",
       "        [[0.72762539, 0.43077983, 0.76278657, ..., 0.63790268,\n",
       "          0.89037533, 0.99834322],\n",
       "         [0.85783918, 0.70802209, 0.1681221 , ..., 0.75932309,\n",
       "          0.23386973, 0.9651287 ],\n",
       "         [0.47845359, 0.44406436, 0.98669441, ..., 0.8629022 ,\n",
       "          0.73643401, 0.98217663],\n",
       "         ...,\n",
       "         [0.87846909, 0.65663273, 0.89841293, ..., 0.90704984,\n",
       "          0.41061959, 0.25681147],\n",
       "         [0.85407587, 0.16300772, 0.69143524, ..., 0.03970373,\n",
       "          0.56044523, 0.69418562],\n",
       "         [0.86137094, 0.33658103, 0.61044762, ..., 0.21042955,\n",
       "          0.53680294, 0.82826805]],\n",
       "\n",
       "        [[0.93503118, 0.55414115, 0.7269862 , ..., 0.05530258,\n",
       "          0.53836468, 0.88152216],\n",
       "         [0.85783918, 0.70802209, 0.86963575, ..., 0.75932309,\n",
       "          0.66332699, 0.9651287 ],\n",
       "         [0.25519939, 0.76865714, 0.9082967 , ..., 0.8629022 ,\n",
       "          0.39063155, 0.98217663],\n",
       "         ...,\n",
       "         [0.87846909, 0.46864898, 0.89841293, ..., 0.97046848,\n",
       "          0.40531754, 0.25681147],\n",
       "         [0.61048397, 0.1412472 , 0.50100135, ..., 0.72122128,\n",
       "          0.49418027, 0.69418562],\n",
       "         [0.42901053, 0.33658103, 0.81236221, ..., 0.70807048,\n",
       "          0.47135991, 0.98515742]]],\n",
       "\n",
       "\n",
       "       [[[0.72762539, 0.24929571, 0.7269862 , ..., 0.68101739,\n",
       "          0.94571754, 0.88152216],\n",
       "         [0.85783918, 0.94309007, 0.28949686, ..., 0.75932309,\n",
       "          0.23386973, 0.9651287 ],\n",
       "         [0.98698314, 0.44406436, 0.7785619 , ..., 0.8629022 ,\n",
       "          0.12805884, 0.98217663],\n",
       "         ...,\n",
       "         [0.87846909, 0.99703261, 0.89841293, ..., 0.90704984,\n",
       "          0.87427124, 0.6411868 ],\n",
       "         [0.7217074 , 0.54414642, 0.50100135, ..., 0.59816347,\n",
       "          0.67189737, 0.69418562],\n",
       "         [0.84095572, 0.33658103, 0.31816552, ..., 0.91771745,\n",
       "          0.41695188, 0.27672315]],\n",
       "\n",
       "        [[0.72762539, 0.55881795, 0.7269862 , ..., 0.03550364,\n",
       "          0.59877902, 0.88152216],\n",
       "         [0.85783918, 0.70802209, 0.42320127, ..., 0.79675997,\n",
       "          0.49769485, 0.9651287 ],\n",
       "         [0.25519939, 0.44406436, 0.7785619 , ..., 0.8629022 ,\n",
       "          0.50766365, 0.98217663],\n",
       "         ...,\n",
       "         [0.87846909, 0.53435983, 0.89841293, ..., 0.90704984,\n",
       "          0.40531754, 0.58824272],\n",
       "         [0.77462936, 0.55120925, 0.50100135, ..., 0.65170205,\n",
       "          0.41996708, 0.69418562],\n",
       "         [0.42901053, 0.33658103, 0.6990935 , ..., 0.68255754,\n",
       "          0.69292305, 0.59515531]],\n",
       "\n",
       "        [[0.72762539, 0.79045587, 0.73232944, ..., 0.16686791,\n",
       "          0.30829732, 0.94861515],\n",
       "         [0.85783918, 0.70802209, 0.4632483 , ..., 0.75932309,\n",
       "          0.97498224, 0.9651287 ],\n",
       "         [0.91395385, 0.44406436, 0.7785619 , ..., 0.8629022 ,\n",
       "          0.92485921, 0.98217663],\n",
       "         ...,\n",
       "         [0.93017827, 0.30902721, 0.89841293, ..., 0.90704984,\n",
       "          0.47759898, 0.25681147],\n",
       "         [0.61048397, 0.89804326, 0.98872753, ..., 0.31071055,\n",
       "          0.65134538, 0.69418562],\n",
       "         [0.68654656, 0.94307063, 0.9443417 , ..., 0.95591861,\n",
       "          0.84761054, 0.91967929]]],\n",
       "\n",
       "\n",
       "       ...,\n",
       "\n",
       "\n",
       "       [[[0.72762539, 0.29489761, 0.7269862 , ..., 0.3863946 ,\n",
       "          0.74543289, 0.88152216],\n",
       "         [0.85783918, 0.70802209, 0.75186749, ..., 0.75932309,\n",
       "          0.28063777, 0.9651287 ],\n",
       "         [0.25519939, 0.70734154, 0.7785619 , ..., 0.89238644,\n",
       "          0.97498866, 0.98217663],\n",
       "         ...,\n",
       "         [0.87846909, 0.97303063, 0.89841293, ..., 0.90704984,\n",
       "          0.47477103, 0.94936645],\n",
       "         [0.61048397, 0.2088343 , 0.50100135, ..., 0.5673565 ,\n",
       "          0.87253445, 0.97999805],\n",
       "         [0.62507376, 0.72489162, 0.6017583 , ..., 0.57658742,\n",
       "          0.99208191, 0.27672315]],\n",
       "\n",
       "        [[0.72762539, 0.24929571, 0.7269862 , ..., 0.48858868,\n",
       "          0.30829732, 0.90305378],\n",
       "         [0.85783918, 0.70802209, 0.57682233, ..., 0.75932309,\n",
       "          0.23386973, 0.9651287 ],\n",
       "         [0.25519939, 0.44406436, 0.7785619 , ..., 0.8629022 ,\n",
       "          0.43036001, 0.99246468],\n",
       "         ...,\n",
       "         [0.87846909, 0.1184059 , 0.89841293, ..., 0.90704984,\n",
       "          0.74519261, 0.63792436],\n",
       "         [0.61048397, 0.42578068, 0.88020744, ..., 0.04959302,\n",
       "          0.41996708, 0.83692645],\n",
       "         [0.42901053, 0.33658103, 0.63623638, ..., 0.63787433,\n",
       "          0.4056458 , 0.97577102]],\n",
       "\n",
       "        [[0.72762539, 0.72628072, 0.7269862 , ..., 0.90886876,\n",
       "          0.40815772, 0.91830126],\n",
       "         [0.85783918, 0.70802209, 0.73279096, ..., 0.75932309,\n",
       "          0.63856994, 0.9651287 ],\n",
       "         [0.49404793, 0.44406436, 0.86252922, ..., 0.8629022 ,\n",
       "          0.14612697, 0.98217663],\n",
       "         ...,\n",
       "         [0.87846909, 0.91594774, 0.89841293, ..., 0.90704984,\n",
       "          0.48053838, 0.25681147],\n",
       "         [0.61048397, 0.71063007, 0.92753269, ..., 0.26535385,\n",
       "          0.78200111, 0.69418562],\n",
       "         [0.57152738, 0.6893326 , 0.6677824 , ..., 0.60755716,\n",
       "          0.73867427, 0.75463775]]],\n",
       "\n",
       "\n",
       "       [[[0.72762539, 0.92746696, 0.7269862 , ..., 0.92257189,\n",
       "          0.36201419, 0.88152216],\n",
       "         [0.85783918, 0.70802209, 0.85793394, ..., 0.75932309,\n",
       "          0.24123663, 0.9651287 ],\n",
       "         [0.46777485, 0.44406436, 0.7785619 , ..., 0.8629022 ,\n",
       "          0.67618363, 0.98217663],\n",
       "         ...,\n",
       "         [0.87846909, 0.60264006, 0.89841293, ..., 0.90704984,\n",
       "          0.40531754, 0.25681147],\n",
       "         [0.73554976, 0.4638523 , 0.66983026, ..., 0.42068194,\n",
       "          0.78949824, 0.69418562],\n",
       "         [0.93173339, 0.33658103, 0.69544603, ..., 0.29350301,\n",
       "          0.47069349, 0.73334405]],\n",
       "\n",
       "        [[0.82772114, 0.41750829, 0.92743526, ..., 0.07642647,\n",
       "          0.44416565, 0.88152216],\n",
       "         [0.85783918, 0.99673661, 0.54821179, ..., 0.76078832,\n",
       "          0.48150404, 0.9651287 ],\n",
       "         [0.54225809, 0.44406436, 0.7785619 , ..., 0.8629022 ,\n",
       "          0.12805884, 0.98217663],\n",
       "         ...,\n",
       "         [0.87846909, 0.98048895, 0.89841293, ..., 0.90704984,\n",
       "          0.55600956, 0.52493208],\n",
       "         [0.61048397, 0.36572491, 0.50100135, ..., 0.84100913,\n",
       "          0.41996708, 0.69418562],\n",
       "         [0.66685186, 0.70027376, 0.31816552, ..., 0.9596462 ,\n",
       "          0.46888798, 0.37222241]],\n",
       "\n",
       "        [[0.72762539, 0.64574164, 0.7269862 , ..., 0.96289983,\n",
       "          0.42724214, 0.88152216],\n",
       "         [0.85783918, 0.70802209, 0.81122965, ..., 0.75932309,\n",
       "          0.76588539, 0.9651287 ],\n",
       "         [0.25519939, 0.44406436, 0.78219254, ..., 0.98429076,\n",
       "          0.92862667, 0.98217663],\n",
       "         ...,\n",
       "         [0.90124257, 0.91238193, 0.89841293, ..., 0.90704984,\n",
       "          0.40531754, 0.25681147],\n",
       "         [0.61048397, 0.35923611, 0.72126531, ..., 0.51506177,\n",
       "          0.41996708, 0.69418562],\n",
       "         [0.42901053, 0.8719007 , 0.67608007, ..., 0.64515903,\n",
       "          0.97380663, 0.27672315]]],\n",
       "\n",
       "\n",
       "       [[[0.72762539, 0.24929571, 0.91542468, ..., 0.58946931,\n",
       "          0.47984257, 0.88152216],\n",
       "         [0.85783918, 0.70802209, 0.3770921 , ..., 0.75932309,\n",
       "          0.23386973, 0.9651287 ],\n",
       "         [0.63014414, 0.44406436, 0.97560083, ..., 0.8629022 ,\n",
       "          0.19377244, 0.98217663],\n",
       "         ...,\n",
       "         [0.90609624, 0.69493948, 0.89841293, ..., 0.90704984,\n",
       "          0.674975  , 0.80377585],\n",
       "         [0.61048397, 0.15123286, 0.51922374, ..., 0.21603954,\n",
       "          0.49742649, 0.69418562],\n",
       "         [0.66193067, 0.33658103, 0.31816552, ..., 0.99456985,\n",
       "          0.47719905, 0.4967264 ]],\n",
       "\n",
       "        [[0.72762539, 0.9061698 , 0.7269862 , ..., 0.71639405,\n",
       "          0.73134964, 0.88152216],\n",
       "         [0.85783918, 0.70802209, 0.41190539, ..., 0.75932309,\n",
       "          0.23386973, 0.9651287 ],\n",
       "         [0.82147313, 0.72244642, 0.7785619 , ..., 0.8629022 ,\n",
       "          0.87491815, 0.98217663],\n",
       "         ...,\n",
       "         [0.87846909, 0.31258099, 0.89841293, ..., 0.90704984,\n",
       "          0.90212141, 0.96462258],\n",
       "         [0.61048397, 0.47445619, 0.50100135, ..., 0.35677941,\n",
       "          0.82482159, 0.69418562],\n",
       "         [0.42901053, 0.34961676, 0.50461661, ..., 0.70920644,\n",
       "          0.65892442, 0.27672315]],\n",
       "\n",
       "        [[0.72762539, 0.24929571, 0.7269862 , ..., 0.99015513,\n",
       "          0.96719773, 0.88152216],\n",
       "         [0.85783918, 0.70802209, 0.68667491, ..., 0.75932309,\n",
       "          0.56776633, 0.9651287 ],\n",
       "         [0.32008541, 0.44406436, 0.98119977, ..., 0.8629022 ,\n",
       "          0.12805884, 0.98217663],\n",
       "         ...,\n",
       "         [0.87846909, 0.15973904, 0.89841293, ..., 0.90704984,\n",
       "          0.40531754, 0.91186141],\n",
       "         [0.76899593, 0.33512586, 0.60142896, ..., 0.32029233,\n",
       "          0.7511048 , 0.69418562],\n",
       "         [0.42901053, 0.33658103, 0.81781679, ..., 0.36415093,\n",
       "          0.72435927, 0.27672315]]]])"
      ]
     },
     "execution_count": 73,
     "metadata": {},
     "output_type": "execute_result"
    }
   ],
   "source": [
    "import numpy as np\n",
    "x = np.random.random((64, 3, 32, 10))\n",
    "y = np.random.random((32, 10))\n",
    "z = np.maximum(x, y)\n",
    "z"
   ]
  },
  {
   "cell_type": "code",
   "execution_count": 76,
   "id": "1bc38806",
   "metadata": {},
   "outputs": [
    {
     "data": {
      "text/plain": [
       "8.0880981021239"
      ]
     },
     "execution_count": 76,
     "metadata": {},
     "output_type": "execute_result"
    }
   ],
   "source": [
    "# Tensor product\n",
    "x = np.random.random((32,))\n",
    "y = np.random.random((32,))\n",
    "z = np.dot(x, y)\n",
    "z"
   ]
  },
  {
   "cell_type": "code",
   "execution_count": 77,
   "id": "d21a5613",
   "metadata": {},
   "outputs": [],
   "source": [
    "def naive_vector_dot(x, y):\n",
    "    assert len(x.shape) == 1\n",
    "    assert len(y.shape) == 1\n",
    "    assert x.shape[0] == y.shape[0]\n",
    "    z = 0.\n",
    "    for i in range(x.shape[0]):\n",
    "        z += x[i] * y[i]\n",
    "    return z"
   ]
  },
  {
   "cell_type": "code",
   "execution_count": 78,
   "id": "8bc0a27a",
   "metadata": {},
   "outputs": [],
   "source": [
    "def naive_matrix_vector_dot(x, y):\n",
    "    assert len(x.shape) == 2\n",
    "    assert len(y.shape) == 1\n",
    "    assert x.shape[1] == y.shape[0]\n",
    "    z = np.zeros(x.shape[0])\n",
    "    for i in range(x.shape[0]):\n",
    "        for j in range(x.shape[1]):\n",
    "            z[i] += x[i, j] * y[j]\n",
    "    return z"
   ]
  },
  {
   "cell_type": "code",
   "execution_count": 79,
   "id": "5cbe1368",
   "metadata": {},
   "outputs": [],
   "source": [
    "def naive_matrix_vector_dot(x, y):\n",
    "    z = np.zeros(x.shape[0])\n",
    "    for i in range(x.shape[0]):\n",
    "        z[i] = naive_vector_dot(x[i, :], y)\n",
    "    return z"
   ]
  },
  {
   "cell_type": "code",
   "execution_count": 80,
   "id": "f2b1ab06",
   "metadata": {},
   "outputs": [],
   "source": [
    "def naive_matrix_dot(x, y):\n",
    "    assert len(x.shape) == 2\n",
    "    assert len(y.shape) == 2\n",
    "    assert x.shape[1] == y.shape[0]\n",
    "    z = np.zeros((x.shape[0], y.shape[1]))\n",
    "    for i in range(x.shape[0]):\n",
    "        for j in range(y.shape[1]):\n",
    "            row_x = x[i, :]\n",
    "            column_y = y[:, j]\n",
    "            z[i, j] = naive_vector_dot(row_x, column_y)\n",
    "    return z"
   ]
  },
  {
   "cell_type": "code",
   "execution_count": 81,
   "id": "db55b04c",
   "metadata": {},
   "outputs": [],
   "source": [
    "# Tensor reshaping\n",
    "train_images = train_images.reshape((60000, 28 * 28))"
   ]
  },
  {
   "cell_type": "code",
   "execution_count": 82,
   "id": "bbfbf0a7",
   "metadata": {},
   "outputs": [
    {
     "data": {
      "text/plain": [
       "(3, 2)"
      ]
     },
     "execution_count": 82,
     "metadata": {},
     "output_type": "execute_result"
    }
   ],
   "source": [
    "x = np.array([[0., 1.],\n",
    "             [2., 3.],\n",
    "             [4., 5.]])\n",
    "x.shape"
   ]
  },
  {
   "cell_type": "code",
   "execution_count": 83,
   "id": "958755c2",
   "metadata": {},
   "outputs": [
    {
     "data": {
      "text/plain": [
       "array([[0.],\n",
       "       [1.],\n",
       "       [2.],\n",
       "       [3.],\n",
       "       [4.],\n",
       "       [5.]])"
      ]
     },
     "execution_count": 83,
     "metadata": {},
     "output_type": "execute_result"
    }
   ],
   "source": [
    "x = x.reshape((6, 1))\n",
    "x"
   ]
  },
  {
   "cell_type": "code",
   "execution_count": 84,
   "id": "24803589",
   "metadata": {},
   "outputs": [
    {
     "data": {
      "text/plain": [
       "(20, 300)"
      ]
     },
     "execution_count": 84,
     "metadata": {},
     "output_type": "execute_result"
    }
   ],
   "source": [
    "x = np.zeros((300, 20))\n",
    "x = np.transpose(x)\n",
    "x.shape"
   ]
  },
  {
   "cell_type": "code",
   "execution_count": 93,
   "id": "e62b773c",
   "metadata": {},
   "outputs": [],
   "source": [
    "# Looking back at our first example\n",
    "(train_images, train_labels), (test_images, test_labels) = mnist.load_data()\n",
    "train_images = train_images.reshape((60000, 28 * 28))\n",
    "train_images = train_images.astype(\"float32\") / 255\n",
    "test_images = test_images.reshape((10000, 28 * 28))\n",
    "test_images = test_images.astype(\"float32\") / 255"
   ]
  },
  {
   "cell_type": "code",
   "execution_count": 94,
   "id": "30932077",
   "metadata": {},
   "outputs": [],
   "source": [
    "model = keras.Sequential([\n",
    "    layers.Dense(512, activation=\"relu\"),\n",
    "    layers.Dense(10, activation=\"softmax\")\n",
    "])"
   ]
  },
  {
   "cell_type": "code",
   "execution_count": 95,
   "id": "27ebf47a",
   "metadata": {},
   "outputs": [],
   "source": [
    "model.compile(optimizer=\"rmsprop\",\n",
    "              loss=\"sparse_categorical_crossentropy\",\n",
    "              metrics=[\"accuracy\"])"
   ]
  },
  {
   "cell_type": "code",
   "execution_count": 96,
   "id": "31a34ed6",
   "metadata": {},
   "outputs": [
    {
     "name": "stdout",
     "output_type": "stream",
     "text": [
      "Epoch 1/5\n",
      "469/469 [==============================] - 2s 5ms/step - loss: 0.2567 - accuracy: 0.9259\n",
      "Epoch 2/5\n",
      "469/469 [==============================] - 2s 4ms/step - loss: 0.1036 - accuracy: 0.9684\n",
      "Epoch 3/5\n",
      "469/469 [==============================] - 2s 4ms/step - loss: 0.0697 - accuracy: 0.9791\n",
      "Epoch 4/5\n",
      "469/469 [==============================] - 2s 4ms/step - loss: 0.0496 - accuracy: 0.9852\n",
      "Epoch 5/5\n",
      "469/469 [==============================] - 2s 4ms/step - loss: 0.0370 - accuracy: 0.9888\n"
     ]
    },
    {
     "data": {
      "text/plain": [
       "<keras.callbacks.History at 0x1421c26aaf0>"
      ]
     },
     "execution_count": 96,
     "metadata": {},
     "output_type": "execute_result"
    }
   ],
   "source": [
    "model.fit(train_images, train_labels, epochs=5, batch_size=128)"
   ]
  },
  {
   "cell_type": "code",
   "execution_count": 97,
   "id": "6762b5ca",
   "metadata": {},
   "outputs": [],
   "source": [
    "# Reimplementing our first example from scratch in TensorFlow\n",
    "# A simple Dense class\n",
    "import tensorflow as tf\n",
    "\n",
    "class NaiveDense:\n",
    "    def __init__(self, input_size, output_size, activation):\n",
    "        self.activation = activation\n",
    "\n",
    "        w_shape = (input_size, output_size)\n",
    "        w_initial_value = tf.random.uniform(w_shape, minval=0, maxval=1e-1)\n",
    "        self.W = tf.Variable(w_initial_value)\n",
    "\n",
    "        b_shape = (output_size,)\n",
    "        b_initial_value = tf.zeros(b_shape)\n",
    "        self.b = tf.Variable(b_initial_value)\n",
    "\n",
    "    def __call__(self, inputs):\n",
    "        return self.activation(tf.matmul(inputs, self.W) + self.b)\n",
    "\n",
    "    @property\n",
    "    def weights(self):\n",
    "        return [self.W, self.b]"
   ]
  },
  {
   "cell_type": "code",
   "execution_count": 98,
   "id": "441d79db",
   "metadata": {},
   "outputs": [],
   "source": [
    "# A simple Sequential class\n",
    "class NaiveSequential:\n",
    "    def __init__(self, layers):\n",
    "        self.layers = layers\n",
    "\n",
    "    def __call__(self, inputs):\n",
    "        x = inputs\n",
    "        for layer in self.layers:\n",
    "               x = layer(x)\n",
    "        return x\n",
    "\n",
    "    @property\n",
    "    def weights(self):\n",
    "        weights = []\n",
    "        for layer in self.layers:\n",
    "            weights += layer.weights\n",
    "        return weights\n",
    "model = NaiveSequential([\n",
    "    NaiveDense(input_size=28 * 28, output_size=512, activation=tf.nn.relu),\n",
    "    NaiveDense(input_size=512, output_size=10, activation=tf.nn.softmax)\n",
    "])\n",
    "assert len(model.weights) == 4"
   ]
  },
  {
   "cell_type": "code",
   "execution_count": 99,
   "id": "abe0deb8",
   "metadata": {},
   "outputs": [],
   "source": [
    "# A batch generator\n",
    "import math\n",
    "\n",
    "class BatchGenerator:\n",
    "    def __init__(self, images, labels, batch_size=128):\n",
    "        assert len(images) == len(labels)\n",
    "        self.index = 0\n",
    "        self.images = images\n",
    "        self.labels = labels\n",
    "        self.batch_size = batch_size\n",
    "        self.num_batches = math.ceil(len(images) / batch_size)\n",
    "\n",
    "    def next(self):\n",
    "        images = self.images[self.index : self.index + self.batch_size]\n",
    "        labels = self.labels[self.index : self.index + self.batch_size]\n",
    "        self.index += self.batch_size\n",
    "        return images, labels"
   ]
  },
  {
   "cell_type": "code",
   "execution_count": 100,
   "id": "ba8eebff",
   "metadata": {},
   "outputs": [],
   "source": [
    "# Running one training step\n",
    "def one_training_step(model, images_batch, labels_batch):\n",
    "    with tf.GradientTape() as tape:\n",
    "        predictions = model(images_batch)\n",
    "        per_sample_losses = tf.keras.losses.sparse_categorical_crossentropy(\n",
    "            labels_batch, predictions)\n",
    "        average_loss = tf.reduce_mean(per_sample_losses)\n",
    "    gradients = tape.gradient(average_loss, model.weights)\n",
    "    update_weights(gradients, model.weights)\n",
    "    return average_loss"
   ]
  },
  {
   "cell_type": "code",
   "execution_count": 101,
   "id": "337ce093",
   "metadata": {},
   "outputs": [],
   "source": [
    "learning_rate = 1e-3\n",
    "\n",
    "def update_weights(gradients, weights):\n",
    "    for g, w in zip(gradients, weights):\n",
    "        w.assign_sub(g * learning_rate)"
   ]
  },
  {
   "cell_type": "code",
   "execution_count": 102,
   "id": "00aecdca",
   "metadata": {},
   "outputs": [],
   "source": [
    "from tensorflow.keras import optimizers\n",
    "\n",
    "optimizer = optimizers.SGD(learning_rate=1e-3)\n",
    "\n",
    "def update_weights(gradients, weights):\n",
    "    optimizer.apply_gradients(zip(gradients, weights))"
   ]
  },
  {
   "cell_type": "code",
   "execution_count": 103,
   "id": "d3925775",
   "metadata": {},
   "outputs": [],
   "source": [
    "# The full training loop\n",
    "def fit(model, images, labels, epochs, batch_size=128):\n",
    "    for epoch_counter in range(epochs):\n",
    "        print(f\"Epoch {epoch_counter}\")\n",
    "        batch_generator = BatchGenerator(images, labels)\n",
    "        for batch_counter in range(batch_generator.num_batches):\n",
    "            images_batch, labels_batch = batch_generator.next()\n",
    "            loss = one_training_step(model, images_batch, labels_batch)\n",
    "            if batch_counter % 100 == 0:\n",
    "                print(f\"loss at batch {batch_counter}: {loss:.2f}\")"
   ]
  },
  {
   "cell_type": "code",
   "execution_count": 104,
   "id": "00d0e71d",
   "metadata": {},
   "outputs": [
    {
     "name": "stdout",
     "output_type": "stream",
     "text": [
      "Epoch 0\n",
      "loss at batch 0: 5.30\n",
      "loss at batch 100: 2.22\n",
      "loss at batch 200: 2.19\n",
      "loss at batch 300: 2.08\n",
      "loss at batch 400: 2.19\n",
      "Epoch 1\n",
      "loss at batch 0: 1.86\n",
      "loss at batch 100: 1.85\n",
      "loss at batch 200: 1.80\n",
      "loss at batch 300: 1.69\n",
      "loss at batch 400: 1.79\n",
      "Epoch 2\n",
      "loss at batch 0: 1.54\n",
      "loss at batch 100: 1.55\n",
      "loss at batch 200: 1.48\n",
      "loss at batch 300: 1.41\n",
      "loss at batch 400: 1.47\n",
      "Epoch 3\n",
      "loss at batch 0: 1.29\n",
      "loss at batch 100: 1.32\n",
      "loss at batch 200: 1.22\n",
      "loss at batch 300: 1.20\n",
      "loss at batch 400: 1.25\n",
      "Epoch 4\n",
      "loss at batch 0: 1.10\n",
      "loss at batch 100: 1.14\n",
      "loss at batch 200: 1.03\n",
      "loss at batch 300: 1.04\n",
      "loss at batch 400: 1.09\n",
      "Epoch 5\n",
      "loss at batch 0: 0.96\n",
      "loss at batch 100: 1.01\n",
      "loss at batch 200: 0.89\n",
      "loss at batch 300: 0.93\n",
      "loss at batch 400: 0.97\n",
      "Epoch 6\n",
      "loss at batch 0: 0.86\n",
      "loss at batch 100: 0.90\n",
      "loss at batch 200: 0.79\n",
      "loss at batch 300: 0.84\n",
      "loss at batch 400: 0.89\n",
      "Epoch 7\n",
      "loss at batch 0: 0.78\n",
      "loss at batch 100: 0.82\n",
      "loss at batch 200: 0.72\n",
      "loss at batch 300: 0.77\n",
      "loss at batch 400: 0.83\n",
      "Epoch 8\n",
      "loss at batch 0: 0.72\n",
      "loss at batch 100: 0.75\n",
      "loss at batch 200: 0.66\n",
      "loss at batch 300: 0.71\n",
      "loss at batch 400: 0.78\n",
      "Epoch 9\n",
      "loss at batch 0: 0.67\n",
      "loss at batch 100: 0.70\n",
      "loss at batch 200: 0.61\n",
      "loss at batch 300: 0.67\n",
      "loss at batch 400: 0.74\n"
     ]
    }
   ],
   "source": [
    "from tensorflow.keras.datasets import mnist\n",
    "(train_images, train_labels), (test_images, test_labels) = mnist.load_data()\n",
    "\n",
    "train_images = train_images.reshape((60000, 28 * 28))\n",
    "train_images = train_images.astype(\"float32\") / 255\n",
    "test_images = test_images.reshape((10000, 28 * 28))\n",
    "test_images = test_images.astype(\"float32\") / 255\n",
    "\n",
    "fit(model, train_images, train_labels, epochs=10, batch_size=128)"
   ]
  },
  {
   "cell_type": "code",
   "execution_count": 105,
   "id": "88336d4e",
   "metadata": {},
   "outputs": [
    {
     "name": "stdout",
     "output_type": "stream",
     "text": [
      "accuracy: 0.81\n",
      "4\n"
     ]
    }
   ],
   "source": [
    "# Evaluating the model\n",
    "predictions = model(test_images)\n",
    "predictions = predictions.numpy()\n",
    "predicted_labels = np.argmax(predictions, axis=1)\n",
    "matches = predicted_labels == test_labels\n",
    "print(f\"accuracy: {matches.mean():.2f}\")\n",
    "\n",
    "# Summary\n",
    "print(train_images.itemsize)"
   ]
  }
 ],
 "metadata": {
  "kernelspec": {
   "display_name": "Python 3 (ipykernel)",
   "language": "python",
   "name": "python3"
  },
  "language_info": {
   "codemirror_mode": {
    "name": "ipython",
    "version": 3
   },
   "file_extension": ".py",
   "mimetype": "text/x-python",
   "name": "python",
   "nbconvert_exporter": "python",
   "pygments_lexer": "ipython3",
   "version": "3.9.12"
  }
 },
 "nbformat": 4,
 "nbformat_minor": 5
}
