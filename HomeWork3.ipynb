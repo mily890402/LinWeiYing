{
 "cells": [
  {
   "cell_type": "markdown",
   "id": "789f7625",
   "metadata": {},
   "source": [
    "# All-ones or all-zeros tensors 將 tensorflow 值都設為 1 或 0"
   ]
  },
  {
   "cell_type": "code",
   "execution_count": 7,
   "id": "f8edfa5c",
   "metadata": {},
   "outputs": [
    {
     "name": "stdout",
     "output_type": "stream",
     "text": [
      "tf.Tensor(\n",
      "[[1.]\n",
      " [1.]], shape=(2, 1), dtype=float32) tf.Tensor(\n",
      "[[1. 1.]\n",
      " [1. 1.]], shape=(2, 2), dtype=float32)\n"
     ]
    }
   ],
   "source": [
    "import tensorflow as tf\n",
    "x = tf.ones(shape=(2, 1))\n",
    "y = tf.ones(shape=(2, 2))\n",
    "print(x,y)"
   ]
  },
  {
   "cell_type": "code",
   "execution_count": 10,
   "id": "84f6fed8",
   "metadata": {},
   "outputs": [
    {
     "name": "stdout",
     "output_type": "stream",
     "text": [
      "tf.Tensor(\n",
      "[[0.]\n",
      " [0.]], shape=(2, 1), dtype=float32) tf.Tensor(\n",
      "[[0. 0.]\n",
      " [0. 0.]], shape=(2, 2), dtype=float32)\n"
     ]
    }
   ],
   "source": [
    "x = tf.zeros(shape=(2, 1))\n",
    "y = tf.zeros(shape=(2, 2))\n",
    "print(x,y)"
   ]
  },
  {
   "cell_type": "markdown",
   "id": "29e4936c",
   "metadata": {},
   "source": [
    "# Random tensors 將 tensorflow 值用隨機亂數的方式"
   ]
  },
  {
   "cell_type": "code",
   "execution_count": 11,
   "id": "90838397",
   "metadata": {},
   "outputs": [
    {
     "name": "stdout",
     "output_type": "stream",
     "text": [
      "tf.Tensor(\n",
      "[[-0.31125158]\n",
      " [ 2.4594078 ]\n",
      " [-0.3838243 ]], shape=(3, 1), dtype=float32)\n"
     ]
    }
   ],
   "source": [
    "x = tf.random.normal(shape=(3, 1), mean=0., stddev=1.)\n",
    "print(x)"
   ]
  },
  {
   "cell_type": "code",
   "execution_count": 12,
   "id": "87559531",
   "metadata": {},
   "outputs": [
    {
     "name": "stdout",
     "output_type": "stream",
     "text": [
      "tf.Tensor(\n",
      "[[0.54245317]\n",
      " [0.7921555 ]\n",
      " [0.6058043 ]], shape=(3, 1), dtype=float32)\n"
     ]
    }
   ],
   "source": [
    "x = tf.random.uniform(shape=(3, 1), minval=0., maxval=1.)\n",
    "print(x)"
   ]
  },
  {
   "cell_type": "code",
   "execution_count": 13,
   "id": "f52bfb57",
   "metadata": {},
   "outputs": [
    {
     "name": "stdout",
     "output_type": "stream",
     "text": [
      "tf.Tensor(\n",
      "[[0.8548169  0.03630292 0.8070041 ]\n",
      " [0.09809971 0.56146574 0.58918047]\n",
      " [0.21673775 0.34863305 0.8151398 ]], shape=(3, 3), dtype=float32)\n"
     ]
    }
   ],
   "source": [
    "x = tf.random.uniform(shape=(3, 3), minval=0., maxval=1.)\n",
    "print(x)"
   ]
  },
  {
   "cell_type": "markdown",
   "id": "2f80348b",
   "metadata": {},
   "source": [
    "# NumPy arrays are assignable 可以給值"
   ]
  },
  {
   "cell_type": "code",
   "execution_count": 17,
   "id": "e9300b7a",
   "metadata": {},
   "outputs": [
    {
     "data": {
      "text/plain": [
       "array([[0., 1.],\n",
       "       [1., 1.]])"
      ]
     },
     "execution_count": 17,
     "metadata": {},
     "output_type": "execute_result"
    }
   ],
   "source": [
    "import numpy as np\n",
    "x = np.ones(shape=(2, 2))\n",
    "x[0, 0] = 0.\n",
    "x"
   ]
  },
  {
   "cell_type": "markdown",
   "id": "b56d3329",
   "metadata": {},
   "source": [
    "# TensorFlow tensors are not assignable 不能給值"
   ]
  },
  {
   "cell_type": "code",
   "execution_count": 16,
   "id": "697d0b23",
   "metadata": {},
   "outputs": [
    {
     "ename": "TypeError",
     "evalue": "'tensorflow.python.framework.ops.EagerTensor' object does not support item assignment",
     "output_type": "error",
     "traceback": [
      "\u001b[1;31m---------------------------------------------------------------------------\u001b[0m",
      "\u001b[1;31mTypeError\u001b[0m                                 Traceback (most recent call last)",
      "Input \u001b[1;32mIn [16]\u001b[0m, in \u001b[0;36m<cell line: 2>\u001b[1;34m()\u001b[0m\n\u001b[0;32m      1\u001b[0m x \u001b[38;5;241m=\u001b[39m tf\u001b[38;5;241m.\u001b[39mones(shape\u001b[38;5;241m=\u001b[39m(\u001b[38;5;241m2\u001b[39m, \u001b[38;5;241m2\u001b[39m))\n\u001b[1;32m----> 2\u001b[0m x[\u001b[38;5;241m0\u001b[39m, \u001b[38;5;241m0\u001b[39m] \u001b[38;5;241m=\u001b[39m \u001b[38;5;241m0.\u001b[39m\n",
      "\u001b[1;31mTypeError\u001b[0m: 'tensorflow.python.framework.ops.EagerTensor' object does not support item assignment"
     ]
    }
   ],
   "source": [
    "x = tf.ones(shape=(2, 2))\n",
    "x[0, 0] = 0. "
   ]
  },
  {
   "cell_type": "markdown",
   "id": "126014f4",
   "metadata": {},
   "source": [
    "# TensorFlow variable"
   ]
  },
  {
   "cell_type": "code",
   "execution_count": 18,
   "id": "ee7f10eb",
   "metadata": {},
   "outputs": [
    {
     "name": "stdout",
     "output_type": "stream",
     "text": [
      "<tf.Variable 'Variable:0' shape=(3, 1) dtype=float32, numpy=\n",
      "array([[ 0.6014337 ],\n",
      "       [ 0.68261397],\n",
      "       [-0.59570205]], dtype=float32)>\n"
     ]
    }
   ],
   "source": [
    "v = tf.Variable(initial_value=tf.random.normal(shape=(3, 1)))\n",
    "print(v)"
   ]
  },
  {
   "cell_type": "code",
   "execution_count": 19,
   "id": "466f3b8f",
   "metadata": {},
   "outputs": [
    {
     "name": "stdout",
     "output_type": "stream",
     "text": [
      "<tf.Variable 'Variable:0' shape=(3, 3) dtype=float32, numpy=\n",
      "array([[ 0.00836341,  0.07541748, -0.20297444],\n",
      "       [-0.06136164, -1.1073318 ,  0.17065452],\n",
      "       [ 0.3419709 ,  0.64621717,  0.560162  ]], dtype=float32)>\n"
     ]
    }
   ],
   "source": [
    "v = tf.Variable(initial_value=tf.random.normal(shape=(3, 3)))\n",
    "print(v)"
   ]
  },
  {
   "cell_type": "markdown",
   "id": "8feb3d3d",
   "metadata": {},
   "source": [
    "# assign 值給 v"
   ]
  },
  {
   "cell_type": "code",
   "execution_count": 21,
   "id": "f18bbed5",
   "metadata": {},
   "outputs": [
    {
     "data": {
      "text/plain": [
       "<tf.Variable 'UnreadVariable' shape=(3, 3) dtype=float32, numpy=\n",
       "array([[1., 1., 1.],\n",
       "       [1., 1., 1.],\n",
       "       [1., 1., 1.]], dtype=float32)>"
      ]
     },
     "execution_count": 21,
     "metadata": {},
     "output_type": "execute_result"
    }
   ],
   "source": [
    "v.assign(tf.ones((3, 3)))"
   ]
  },
  {
   "cell_type": "code",
   "execution_count": 22,
   "id": "5681f486",
   "metadata": {},
   "outputs": [
    {
     "data": {
      "text/plain": [
       "<tf.Variable 'UnreadVariable' shape=(3, 3) dtype=float32, numpy=\n",
       "array([[3., 1., 1.],\n",
       "       [1., 1., 1.],\n",
       "       [1., 1., 1.]], dtype=float32)>"
      ]
     },
     "execution_count": 22,
     "metadata": {},
     "output_type": "execute_result"
    }
   ],
   "source": [
    "v[0, 0].assign(3.)"
   ]
  },
  {
   "cell_type": "markdown",
   "id": "4bd58ac4",
   "metadata": {},
   "source": [
    "# Using assign_add()"
   ]
  },
  {
   "cell_type": "code",
   "execution_count": 24,
   "id": "19443219",
   "metadata": {},
   "outputs": [
    {
     "data": {
      "text/plain": [
       "<tf.Variable 'UnreadVariable' shape=(3, 3) dtype=float32, numpy=\n",
       "array([[4., 2., 2.],\n",
       "       [2., 2., 2.],\n",
       "       [2., 2., 2.]], dtype=float32)>"
      ]
     },
     "execution_count": 24,
     "metadata": {},
     "output_type": "execute_result"
    }
   ],
   "source": [
    "v.assign_add(tf.ones((3, 3))) # 每個都 + 1"
   ]
  },
  {
   "cell_type": "markdown",
   "id": "145be0d1",
   "metadata": {},
   "source": [
    "# A few basic math operations 基本數學運算"
   ]
  },
  {
   "cell_type": "code",
   "execution_count": 25,
   "id": "943200ca",
   "metadata": {},
   "outputs": [
    {
     "name": "stdout",
     "output_type": "stream",
     "text": [
      "tf.Tensor(\n",
      "[[1. 1.]\n",
      " [1. 1.]], shape=(2, 2), dtype=float32)\n"
     ]
    }
   ],
   "source": [
    "a = tf.ones((2, 2))\n",
    "b = tf.square(a)\n",
    "c = tf.sqrt(a)\n",
    "d = b + c\n",
    "e = tf.matmul(a, b)\n",
    "e *= d\n",
    "\n",
    "print(a)"
   ]
  },
  {
   "cell_type": "code",
   "execution_count": 27,
   "id": "60252163",
   "metadata": {},
   "outputs": [
    {
     "data": {
      "text/plain": [
       "(<tf.Variable 'Variable:0' shape=() dtype=float32, numpy=1.0>,\n",
       " <tf.Tensor: shape=(), dtype=float32, numpy=2.2093503>,\n",
       " <tf.Tensor: shape=(), dtype=float32, numpy=0.17242283>)"
      ]
     },
     "execution_count": 27,
     "metadata": {},
     "output_type": "execute_result"
    }
   ],
   "source": [
    "def f(x):\n",
    "    y = tf.sin(x) + tf.exp(-x) + 1\n",
    "    return y\n",
    "x = tf.Variable(1.)\n",
    "\n",
    "with tf.GradientTape() as t:\n",
    "    y = f(x)\n",
    "dy_dx = t.gradient(y, x)\n",
    "x,y,dy_dx"
   ]
  },
  {
   "cell_type": "markdown",
   "id": "4bfac46e",
   "metadata": {},
   "source": [
    "# Using the GradientTape"
   ]
  },
  {
   "cell_type": "code",
   "execution_count": 29,
   "id": "10218a16",
   "metadata": {},
   "outputs": [
    {
     "data": {
      "text/plain": [
       "<tf.Tensor: shape=(), dtype=float32, numpy=6.0>"
      ]
     },
     "execution_count": 29,
     "metadata": {},
     "output_type": "execute_result"
    }
   ],
   "source": [
    "input_var = tf.Variable(initial_value=3.)\n",
    "with tf.GradientTape() as tape:\n",
    "     result = tf.square(input_var)\n",
    "gradient = tape.gradient(result, input_var)\n",
    "gradient"
   ]
  },
  {
   "cell_type": "markdown",
   "id": "19dff940",
   "metadata": {},
   "source": [
    "# Using GradientTape with constanttensor inputs"
   ]
  },
  {
   "cell_type": "code",
   "execution_count": 34,
   "id": "7021c4b0",
   "metadata": {},
   "outputs": [
    {
     "data": {
      "text/plain": [
       "<tf.Tensor: shape=(), dtype=float32, numpy=6.0>"
      ]
     },
     "execution_count": 34,
     "metadata": {},
     "output_type": "execute_result"
    }
   ],
   "source": [
    "input_const = tf.constant(3.)\n",
    "with tf.GradientTape() as tape:\n",
    "    tape.watch(input_const)\n",
    "    result = tf.square(input_const)\n",
    "gradient = tape.gradient(result, input_const)\n",
    "gradient"
   ]
  },
  {
   "cell_type": "markdown",
   "id": "350604dc",
   "metadata": {},
   "source": [
    "# Using nested gradienttapes to compute second-order gradients 使用嵌套梯度帶計算二階梯度"
   ]
  },
  {
   "cell_type": "code",
   "execution_count": 35,
   "id": "b2915b43",
   "metadata": {},
   "outputs": [
    {
     "name": "stdout",
     "output_type": "stream",
     "text": [
      "tf.Tensor(9.8, shape=(), dtype=float32)\n"
     ]
    }
   ],
   "source": [
    "time = tf.Variable(0.)\n",
    "with tf.GradientTape() as outer_tape:\n",
    "    with tf.GradientTape() as inner_tape:\n",
    "        position =  4.9 * time ** 2\n",
    "    speed = inner_tape.gradient(position, time)\n",
    "acceleration = outer_tape.gradient(speed, time)\n",
    "\n",
    "print(acceleration)"
   ]
  },
  {
   "cell_type": "markdown",
   "id": "ef92b18c",
   "metadata": {},
   "source": [
    "# Generating two classes of random points in a 2D plane"
   ]
  },
  {
   "cell_type": "code",
   "execution_count": 36,
   "id": "f95e9090",
   "metadata": {},
   "outputs": [],
   "source": [
    "num_samples_per_class = 1000\n",
    "negative_samples = np.random.multivariate_normal(\n",
    "    mean=[0, 3],\n",
    "    cov=[[1, 0.5],[0.5, 1]],\n",
    "    size=num_samples_per_class)\n",
    "positive_samples = np.random.multivariate_normal(\n",
    "    mean=[3, 0],\n",
    "    cov=[[1, 0.5],[0.5, 1]],\n",
    "    size=num_samples_per_class)"
   ]
  },
  {
   "cell_type": "code",
   "execution_count": 37,
   "id": "447bfa60",
   "metadata": {},
   "outputs": [
    {
     "data": {
      "text/plain": [
       "array([[ 0.37525588,  2.3109863 ],\n",
       "       [ 2.0034595 ,  2.6574838 ],\n",
       "       [-0.60142803,  2.3851538 ],\n",
       "       ...,\n",
       "       [ 2.774325  , -0.06850767],\n",
       "       [ 2.1284235 , -1.469166  ],\n",
       "       [ 3.473581  ,  0.375908  ]], dtype=float32)"
      ]
     },
     "execution_count": 37,
     "metadata": {},
     "output_type": "execute_result"
    }
   ],
   "source": [
    "inputs = np.vstack((negative_samples, positive_samples)).astype(np.float32)\n",
    "\n",
    "inputs"
   ]
  },
  {
   "cell_type": "code",
   "execution_count": 38,
   "id": "acdc8ea7",
   "metadata": {},
   "outputs": [
    {
     "data": {
      "text/plain": [
       "array([[0.],\n",
       "       [0.],\n",
       "       [0.],\n",
       "       ...,\n",
       "       [1.],\n",
       "       [1.],\n",
       "       [1.]], dtype=float32)"
      ]
     },
     "execution_count": 38,
     "metadata": {},
     "output_type": "execute_result"
    }
   ],
   "source": [
    "targets = np.vstack((np.zeros((num_samples_per_class, 1), dtype=\"float32\"),\n",
    "                     np.ones((num_samples_per_class, 1), dtype=\"float32\")))\n",
    "\n",
    "targets"
   ]
  },
  {
   "cell_type": "code",
   "execution_count": 41,
   "id": "c3443e6b",
   "metadata": {},
   "outputs": [
    {
     "data": {
      "image/png": "[encoded data removed]",
      "text/plain": [
       "<Figure size 432x288 with 1 Axes>"
      ]
     },
     "metadata": {
      "needs_background": "light"
     },
     "output_type": "display_data"
    }
   ],
   "source": [
    "import matplotlib.pyplot as plt\n",
    "plt.scatter(inputs[:, 0], inputs[:, 1], c=targets[:, 0])\n",
    "plt.show()"
   ]
  },
  {
   "cell_type": "code",
   "execution_count": 43,
   "id": "a7188710",
   "metadata": {},
   "outputs": [
    {
     "data": {
      "text/plain": [
       "(<tf.Variable 'Variable:0' shape=(2, 1) dtype=float32, numpy=\n",
       " array([[0.45208335],\n",
       "        [0.39596498]], dtype=float32)>,\n",
       " <tf.Variable 'Variable:0' shape=(1,) dtype=float32, numpy=array([0.], dtype=float32)>)"
      ]
     },
     "execution_count": 43,
     "metadata": {},
     "output_type": "execute_result"
    }
   ],
   "source": [
    "input_dim = 2\n",
    "output_dim = 1\n",
    "W = tf.Variable(initial_value=tf.random.uniform(shape=(input_dim, output_dim)))\n",
    "b = tf.Variable(initial_value=tf.zeros(shape=(output_dim,)))\n",
    "W,b"
   ]
  },
  {
   "cell_type": "markdown",
   "id": "2200d0fe",
   "metadata": {},
   "source": [
    "# forward pass function"
   ]
  },
  {
   "cell_type": "code",
   "execution_count": 44,
   "id": "eb7b4b53",
   "metadata": {},
   "outputs": [],
   "source": [
    "def model(inputs):\n",
    "    return tf.matmul(inputs, W) + b"
   ]
  },
  {
   "cell_type": "markdown",
   "id": "66d8a455",
   "metadata": {},
   "source": [
    "# Means quare error loss function"
   ]
  },
  {
   "cell_type": "code",
   "execution_count": 45,
   "id": "1fd340f4",
   "metadata": {},
   "outputs": [],
   "source": [
    "def square_loss(targets, predictions):\n",
    "    per_sample_losses = tf.square(targets - predictions)\n",
    "    return tf.reduce_mean(per_sample_losses)"
   ]
  },
  {
   "cell_type": "markdown",
   "id": "e28dd411",
   "metadata": {},
   "source": [
    "# training step function"
   ]
  },
  {
   "cell_type": "code",
   "execution_count": 46,
   "id": "57d0ad6e",
   "metadata": {},
   "outputs": [],
   "source": [
    "learning_rate = 0.1\n",
    "\n",
    "def training_step(inputs, targets):\n",
    "    with tf.GradientTape() as tape:\n",
    "        predictions = model(inputs)\n",
    "        loss = square_loss(targets, predictions)\n",
    "    grad_loss_wrt_W, grad_loss_wrt_b = tape.gradient(loss, [W, b])\n",
    "    W.assign_sub(grad_loss_wrt_W * learning_rate)\n",
    "    b.assign_sub(grad_loss_wrt_b * learning_rate)\n",
    "    return loss"
   ]
  },
  {
   "cell_type": "markdown",
   "id": "cccc4cfb",
   "metadata": {},
   "source": [
    "# batch function"
   ]
  },
  {
   "cell_type": "code",
   "execution_count": 47,
   "id": "6a147b5f",
   "metadata": {},
   "outputs": [
    {
     "name": "stdout",
     "output_type": "stream",
     "text": [
      "Loss at step 0: 1.3677\n",
      "Loss at step 1: 0.2847\n",
      "Loss at step 2: 0.1377\n",
      "Loss at step 3: 0.1094\n",
      "Loss at step 4: 0.0991\n",
      "Loss at step 5: 0.0920\n",
      "Loss at step 6: 0.0859\n",
      "Loss at step 7: 0.0804\n",
      "Loss at step 8: 0.0754\n",
      "Loss at step 9: 0.0708\n",
      "Loss at step 10: 0.0667\n",
      "Loss at step 11: 0.0629\n",
      "Loss at step 12: 0.0595\n",
      "Loss at step 13: 0.0564\n",
      "Loss at step 14: 0.0535\n",
      "Loss at step 15: 0.0510\n",
      "Loss at step 16: 0.0486\n",
      "Loss at step 17: 0.0465\n",
      "Loss at step 18: 0.0446\n",
      "Loss at step 19: 0.0428\n",
      "Loss at step 20: 0.0412\n",
      "Loss at step 21: 0.0397\n",
      "Loss at step 22: 0.0384\n",
      "Loss at step 23: 0.0372\n",
      "Loss at step 24: 0.0361\n",
      "Loss at step 25: 0.0351\n",
      "Loss at step 26: 0.0342\n",
      "Loss at step 27: 0.0334\n",
      "Loss at step 28: 0.0326\n",
      "Loss at step 29: 0.0319\n",
      "Loss at step 30: 0.0313\n",
      "Loss at step 31: 0.0307\n",
      "Loss at step 32: 0.0302\n",
      "Loss at step 33: 0.0298\n",
      "Loss at step 34: 0.0293\n",
      "Loss at step 35: 0.0289\n",
      "Loss at step 36: 0.0286\n",
      "Loss at step 37: 0.0283\n",
      "Loss at step 38: 0.0280\n",
      "Loss at step 39: 0.0277\n"
     ]
    }
   ],
   "source": [
    "for step in range(40):\n",
    "    loss = training_step(inputs, targets)\n",
    "    print(f\"Loss at step {step}: {loss:.4f}\")"
   ]
  },
  {
   "cell_type": "code",
   "execution_count": 48,
   "id": "5d95ddc6",
   "metadata": {},
   "outputs": [
    {
     "data": {
      "image/png": "[encoded data removed]",
      "text/plain": [
       "<Figure size 432x288 with 1 Axes>"
      ]
     },
     "metadata": {
      "needs_background": "light"
     },
     "output_type": "display_data"
    }
   ],
   "source": [
    "predictions = model(inputs)\n",
    "plt.scatter(inputs[:, 0], inputs[:, 1], c=predictions[:, 0] > 0.5)\n",
    "plt.show()"
   ]
  },
  {
   "cell_type": "code",
   "execution_count": 49,
   "id": "3811b2f6",
   "metadata": {},
   "outputs": [
    {
     "data": {
      "text/plain": [
       "<matplotlib.collections.PathCollection at 0x2474a09bfd0>"
      ]
     },
     "execution_count": 49,
     "metadata": {},
     "output_type": "execute_result"
    },
    {
     "data": {
      "image/png": "[encoded data removed]",
      "text/plain": [
       "<Figure size 432x288 with 1 Axes>"
      ]
     },
     "metadata": {
      "needs_background": "light"
     },
     "output_type": "display_data"
    }
   ],
   "source": [
    "x = np.linspace(-1, 4, 100)\n",
    "y = - W[0] /  W[1] * x + (0.5 - b) / W[1]\n",
    "plt.plot(x, y, \"-r\")\n",
    "plt.scatter(inputs[:, 0], inputs[:, 1], c=predictions[:, 0] > 0.5)"
   ]
  },
  {
   "cell_type": "markdown",
   "id": "e415f200",
   "metadata": {},
   "source": [
    "# Deep learing\n",
    "# The base layer in keras"
   ]
  },
  {
   "cell_type": "code",
   "execution_count": 50,
   "id": "ef91d48a",
   "metadata": {},
   "outputs": [],
   "source": [
    "from tensorflow import keras\n",
    "\n",
    "class SimpleDense(keras.layers.Layer):\n",
    "\n",
    "    def __init__(self, units, activation=None):\n",
    "        super().__init__()\n",
    "        self.units = units\n",
    "        self.activation = activation\n",
    "\n",
    "    def build(self, input_shape):\n",
    "        input_dim = input_shape[-1]\n",
    "        self.W = self.add_weight(shape=(input_dim, self.units),\n",
    "                                 initializer=\"random_normal\")\n",
    "        self.b = self.add_weight(shape=(self.units,),\n",
    "                                 initializer=\"zeros\")\n",
    "\n",
    "    def call(self, inputs):\n",
    "        y = tf.matmul(inputs, self.W) + self.b\n",
    "        if self.activation is not None:\n",
    "            y = self.activation(y)\n",
    "        return y"
   ]
  },
  {
   "cell_type": "code",
   "execution_count": 51,
   "id": "1d2024fa",
   "metadata": {},
   "outputs": [
    {
     "name": "stdout",
     "output_type": "stream",
     "text": [
      "(2, 32)\n"
     ]
    }
   ],
   "source": [
    "my_dense = SimpleDense(units=32, activation=tf.nn.relu)\n",
    "input_tensor = tf.ones(shape=(2, 784))\n",
    "output_tensor = my_dense(input_tensor)\n",
    "print(output_tensor.shape)"
   ]
  },
  {
   "cell_type": "code",
   "execution_count": 52,
   "id": "b98fdf5e",
   "metadata": {},
   "outputs": [],
   "source": [
    "from tensorflow.keras import layers\n",
    "layer = layers.Dense(32, activation=\"relu\")"
   ]
  },
  {
   "cell_type": "code",
   "execution_count": 53,
   "id": "8dedcc20",
   "metadata": {},
   "outputs": [],
   "source": [
    "from tensorflow.keras import models\n",
    "from tensorflow.keras import layers\n",
    "model = models.Sequential([\n",
    "    layers.Dense(32, activation=\"relu\"),\n",
    "    layers.Dense(32)\n",
    "])"
   ]
  },
  {
   "cell_type": "code",
   "execution_count": 54,
   "id": "2ca89c93",
   "metadata": {},
   "outputs": [],
   "source": [
    "model = keras.Sequential([\n",
    "    SimpleDense(32, activation=\"relu\"),\n",
    "    SimpleDense(64, activation=\"relu\"),\n",
    "    SimpleDense(32, activation=\"relu\"),\n",
    "    SimpleDense(10, activation=\"softmax\")\n",
    "])"
   ]
  },
  {
   "cell_type": "markdown",
   "id": "264aec37",
   "metadata": {},
   "source": [
    "# compile the model\n",
    "# Layer to model"
   ]
  },
  {
   "cell_type": "code",
   "execution_count": 55,
   "id": "6537b19f",
   "metadata": {},
   "outputs": [],
   "source": [
    "model = keras.Sequential([keras.layers.Dense(1)])\n",
    "model.compile(optimizer=\"rmsprop\",\n",
    "              loss=\"mean_squared_error\",\n",
    "              metrics=[\"accuracy\"])"
   ]
  },
  {
   "cell_type": "code",
   "execution_count": 56,
   "id": "74d89897",
   "metadata": {},
   "outputs": [
    {
     "name": "stdout",
     "output_type": "stream",
     "text": [
      "Epoch 1/5\n",
      "16/16 [==============================] - 0s 665us/step - loss: 8.6058 - accuracy: 0.6065\n",
      "Epoch 2/5\n",
      "16/16 [==============================] - 0s 667us/step - loss: 8.1648 - accuracy: 0.6095\n",
      "Epoch 3/5\n",
      "16/16 [==============================] - 0s 633us/step - loss: 7.7968 - accuracy: 0.6155\n",
      "Epoch 4/5\n",
      "16/16 [==============================] - 0s 633us/step - loss: 7.4456 - accuracy: 0.6225\n",
      "Epoch 5/5\n",
      "16/16 [==============================] - 0s 667us/step - loss: 7.1029 - accuracy: 0.6265\n"
     ]
    }
   ],
   "source": [
    "history = model.fit(\n",
    "    inputs,\n",
    "    targets,\n",
    "    epochs=5,\n",
    "    batch_size=128\n",
    ")"
   ]
  },
  {
   "cell_type": "code",
   "execution_count": 57,
   "id": "350a1825",
   "metadata": {},
   "outputs": [
    {
     "data": {
      "text/plain": [
       "{'loss': [8.605809211730957,\n",
       "  8.164798736572266,\n",
       "  7.796846866607666,\n",
       "  7.445612907409668,\n",
       "  7.102901458740234],\n",
       " 'accuracy': [0.6065000295639038,\n",
       "  0.609499990940094,\n",
       "  0.6154999732971191,\n",
       "  0.6225000023841858,\n",
       "  0.6265000104904175]}"
      ]
     },
     "execution_count": 57,
     "metadata": {},
     "output_type": "execute_result"
    }
   ],
   "source": [
    "history.history"
   ]
  },
  {
   "cell_type": "code",
   "execution_count": 58,
   "id": "dfad7ea3",
   "metadata": {},
   "outputs": [
    {
     "name": "stdout",
     "output_type": "stream",
     "text": [
      "Epoch 1/5\n",
      "88/88 [==============================] - 0s 3ms/step - loss: 0.1674 - binary_accuracy: 0.9564 - val_loss: 0.1198 - val_binary_accuracy: 0.9450\n",
      "Epoch 2/5\n",
      "88/88 [==============================] - 0s 951us/step - loss: 0.0727 - binary_accuracy: 0.9621 - val_loss: 0.1089 - val_binary_accuracy: 0.9533\n",
      "Epoch 3/5\n",
      "88/88 [==============================] - 0s 967us/step - loss: 0.0715 - binary_accuracy: 0.9557 - val_loss: 0.0340 - val_binary_accuracy: 0.9983\n",
      "Epoch 4/5\n",
      "88/88 [==============================] - 0s 982us/step - loss: 0.0750 - binary_accuracy: 0.9536 - val_loss: 0.1368 - val_binary_accuracy: 0.8783\n",
      "Epoch 5/5\n",
      "88/88 [==============================] - 0s 943us/step - loss: 0.0653 - binary_accuracy: 0.9643 - val_loss: 0.1284 - val_binary_accuracy: 0.9033\n"
     ]
    },
    {
     "data": {
      "text/plain": [
       "<keras.callbacks.History at 0x2474a5b7c40>"
      ]
     },
     "execution_count": 58,
     "metadata": {},
     "output_type": "execute_result"
    }
   ],
   "source": [
    "model = keras.Sequential([keras.layers.Dense(1)])\n",
    "model.compile(optimizer=keras.optimizers.RMSprop(learning_rate=0.1),\n",
    "              loss=keras.losses.MeanSquaredError(),\n",
    "              metrics=[keras.metrics.BinaryAccuracy()])\n",
    "\n",
    "indices_permutation = np.random.permutation(len(inputs))\n",
    "shuffled_inputs = inputs[indices_permutation]\n",
    "shuffled_targets = targets[indices_permutation]\n",
    "\n",
    "num_validation_samples = int(0.3 * len(inputs))\n",
    "val_inputs = shuffled_inputs[:num_validation_samples]\n",
    "val_targets = shuffled_targets[:num_validation_samples]\n",
    "training_inputs = shuffled_inputs[num_validation_samples:]\n",
    "training_targets = shuffled_targets[num_validation_samples:]\n",
    "# train\n",
    "model.fit(\n",
    "    training_inputs,\n",
    "    training_targets,\n",
    "    epochs=5,\n",
    "    batch_size=16,\n",
    "    validation_data=(val_inputs, val_targets)\n",
    ")"
   ]
  },
  {
   "cell_type": "code",
   "execution_count": 59,
   "id": "ada7a78b",
   "metadata": {},
   "outputs": [
    {
     "name": "stdout",
     "output_type": "stream",
     "text": [
      "5/5 [==============================] - 0s 1ms/step\n",
      "[[0.57745445]\n",
      " [0.5166731 ]\n",
      " [0.5382115 ]\n",
      " [0.05916107]\n",
      " [1.0642631 ]\n",
      " [0.3651879 ]\n",
      " [0.5449875 ]\n",
      " [0.10450554]\n",
      " [0.9083415 ]\n",
      " [0.4855914 ]]\n"
     ]
    }
   ],
   "source": [
    "predictions = model.predict(val_inputs, batch_size=128)\n",
    "print(predictions[:10])"
   ]
  }
 ],
 "metadata": {
  "kernelspec": {
   "display_name": "Python 3 (ipykernel)",
   "language": "python",
   "name": "python3"
  },
  "language_info": {
   "codemirror_mode": {
    "name": "ipython",
    "version": 3
   },
   "file_extension": ".py",
   "mimetype": "text/x-python",
   "name": "python",
   "nbconvert_exporter": "python",
   "pygments_lexer": "ipython3",
   "version": "3.9.12"
  }
 },
 "nbformat": 4,
 "nbformat_minor": 5
}
